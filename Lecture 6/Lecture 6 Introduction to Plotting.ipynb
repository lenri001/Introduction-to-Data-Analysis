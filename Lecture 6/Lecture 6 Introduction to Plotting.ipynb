{
 "cells": [
  {
   "cell_type": "code",
   "execution_count": null,
   "metadata": {},
   "outputs": [],
   "source": [
    "import pandas as pd\n",
    "import plotly.graph_objects as go\n",
    "import os \n",
    "os.chdir(\"/home/luisfernando/Git Code/CE-CERT Plot Training\")\n",
    "df = pd.read_excel(\"water_district_clean_data.xlsx\")\n",
    "df"
   ]
  },
  {
   "cell_type": "code",
   "execution_count": null,
   "metadata": {},
   "outputs": [],
   "source": [
    "df.dtypes"
   ]
  },
  {
   "cell_type": "markdown",
   "metadata": {},
   "source": [
    "Basic Plotting"
   ]
  },
  {
   "cell_type": "code",
   "execution_count": null,
   "metadata": {},
   "outputs": [],
   "source": [
    "# Define the figure\n",
    "fig = go.Figure()\n",
    "# Add data to figure\n",
    "fig.add_trace(go.Scatter(x=df.Date, y=df.Demand))\n",
    "fig.show()"
   ]
  },
  {
   "cell_type": "markdown",
   "metadata": {},
   "source": [
    "Add Title"
   ]
  },
  {
   "cell_type": "code",
   "execution_count": null,
   "metadata": {},
   "outputs": [],
   "source": [
    "# Define the figure\n",
    "fig = go.Figure()\n",
    "# Add data to figure\n",
    "fig.add_trace(go.Scatter(x=df.Date, y=df.Demand))\n",
    "# Add additonal properties to the plot\n",
    "fig.update_layout(\n",
    "    title=go.layout.Title(\n",
    "        text= \"Title\", # Insert Title Here\n",
    "        xref=\"paper\",\n",
    "        x=0\n",
    "    )\n",
    ")\n",
    "fig.show()"
   ]
  },
  {
   "cell_type": "markdown",
   "metadata": {},
   "source": [
    "Center Title"
   ]
  },
  {
   "cell_type": "code",
   "execution_count": null,
   "metadata": {},
   "outputs": [],
   "source": [
    "# Define the figure\n",
    "fig = go.Figure()\n",
    "# Add data to figure\n",
    "fig.add_trace(go.Scatter(x=df.Date, y=df.Demand))\n",
    "# Add additonal properties to the plot\n",
    "fig.update_layout(\n",
    "    title=go.layout.Title(\n",
    "        text= \"Title\", # Insert Title Here\n",
    "        xref=\"paper\",\n",
    "        x=0.5\n",
    "    )\n",
    ")\n",
    "fig.show()"
   ]
  },
  {
   "cell_type": "markdown",
   "metadata": {},
   "source": [
    "Add Y-Axis"
   ]
  },
  {
   "cell_type": "code",
   "execution_count": null,
   "metadata": {},
   "outputs": [],
   "source": [
    "# Define the figure\n",
    "fig = go.Figure()\n",
    "# Add data to figure\n",
    "fig.add_trace(go.Scatter(x=df.Date, y=df.Demand))\n",
    "# Add additonal properties to the plot\n",
    "fig.update_layout(\n",
    "    title=go.layout.Title(\n",
    "        text= \"Title\", # Insert Title Here\n",
    "        xref=\"paper\",\n",
    "        x=0.5\n",
    "    ),\n",
    "    yaxis=go.layout.YAxis(\n",
    "        title=go.layout.yaxis.Title(\n",
    "            text=\"Demand (kW)\",\n",
    "        )\n",
    "    )\n",
    ")\n",
    "fig.show()"
   ]
  },
  {
   "cell_type": "markdown",
   "metadata": {},
   "source": [
    "Add X-Axis and Range Slider"
   ]
  },
  {
   "cell_type": "code",
   "execution_count": null,
   "metadata": {},
   "outputs": [],
   "source": [
    "# Define the figure\n",
    "fig = go.Figure()\n",
    "# Add data to figure\n",
    "fig.add_trace(go.Scatter(x=df.Date, y=df.Demand))\n",
    "# Add additonal properties to the plot\n",
    "fig.update_layout(\n",
    "    title=go.layout.Title(\n",
    "        text= \"Title\", # Insert Title Here\n",
    "        xref=\"paper\",\n",
    "        x=0.5\n",
    "    ),\n",
    "    xaxis=go.layout.XAxis(\n",
    "        title=go.layout.xaxis.Title(\n",
    "            text=\"Time\",\n",
    "        ),\n",
    "        rangeslider=dict(\n",
    "            visible=True\n",
    "        )\n",
    "    ),\n",
    "    yaxis=go.layout.YAxis(\n",
    "        title=go.layout.yaxis.Title(\n",
    "            text=\"Demand (kW)\",\n",
    "        )\n",
    "    )\n",
    ")\n",
    "fig.show()"
   ]
  },
  {
   "cell_type": "markdown",
   "metadata": {},
   "source": [
    "Plot Two Lines"
   ]
  },
  {
   "cell_type": "code",
   "execution_count": null,
   "metadata": {},
   "outputs": [],
   "source": [
    "# Define the figure\n",
    "fig = go.Figure()\n",
    "# Add data to figure\n",
    "fig.add_trace(go.Scatter(x= df.Date, y= df.Demand_1, name= \"Line 1\"))\n",
    "fig.add_trace(go.Scatter(x= df.Date, y=df.Demand_2, name= \"Line 2\"))\n",
    "# Add additonal properties to the plot\n",
    "fig.update_layout(\n",
    "    title=go.layout.Title(\n",
    "        text= \"Title\", # Insert Title Here\n",
    "        xref=\"paper\",\n",
    "        x=0.5\n",
    "    ),\n",
    "    xaxis=go.layout.XAxis(\n",
    "        title=go.layout.xaxis.Title(\n",
    "            text=\"Time\",\n",
    "        ),\n",
    "        rangeslider=dict(\n",
    "            visible=True\n",
    "        )\n",
    "    ),\n",
    "    yaxis=go.layout.YAxis(\n",
    "        title=go.layout.yaxis.Title(\n",
    "            text=\"Demand (kW)\",\n",
    "        )\n",
    "    )\n",
    ")\n",
    "fig.show()"
   ]
  },
  {
   "cell_type": "markdown",
   "metadata": {},
   "source": [
    "Make Plot into a function"
   ]
  },
  {
   "cell_type": "code",
   "execution_count": null,
   "metadata": {},
   "outputs": [],
   "source": [
    "def plot_graph(x_data, y_data, line_name, title, x_title, y_title):\n",
    "    # Define the figure\n",
    "    fig = go.Figure()\n",
    "    # Add data to figure\n",
    "    for i in range(0, len(x_data), 1):\n",
    "        fig.add_trace(go.Scatter(x=x_data[i], y=y_data[i], name= line_name[i]))\n",
    "            \n",
    "    # Create Layout for the Html\n",
    "    \n",
    "    fig.update_layout(\n",
    "        title=go.layout.Title(\n",
    "            text= title,\n",
    "            xref=\"paper\",\n",
    "            x=0.5\n",
    "        ),\n",
    "        xaxis=go.layout.XAxis(\n",
    "            title=go.layout.xaxis.Title(\n",
    "                text=x_title,\n",
    "            ),\n",
    "            rangeslider=dict(\n",
    "                visible=True\n",
    "            )\n",
    "        ),\n",
    "        yaxis=go.layout.YAxis(\n",
    "            title=go.layout.yaxis.Title(\n",
    "                text=y_title,\n",
    "            )\n",
    "        )\n",
    "    )\n",
    "    fig.show()"
   ]
  },
  {
   "cell_type": "markdown",
   "metadata": {},
   "source": [
    "Run the Function"
   ]
  },
  {
   "cell_type": "code",
   "execution_count": null,
   "metadata": {},
   "outputs": [],
   "source": [
    "x_data = [df.Date] * 2 \n",
    "y_data = [df.Demand_1, df.Demand_2]\n",
    "line_name = [\"Line 1\", \"Line 2\"]\n",
    "title = \"title\"\n",
    "x_title = \"Time\"\n",
    "y_title = \"Demand\"\n",
    "plot_graph(x_data, y_data, line_name, title, x_title, y_title)"
   ]
  },
  {
   "cell_type": "markdown",
   "metadata": {},
   "source": [
    "From Lecture 3, Get monthly Dataframes"
   ]
  },
  {
   "cell_type": "code",
   "execution_count": null,
   "metadata": {},
   "outputs": [],
   "source": [
    "df2 = pd.read_excel(\"random_time_data.xlsx\")\n",
    "billing = pd.read_excel(\"billing_month.xlsx\")\n",
    "df2"
   ]
  },
  {
   "cell_type": "code",
   "execution_count": null,
   "metadata": {},
   "outputs": [],
   "source": [
    "billing"
   ]
  },
  {
   "cell_type": "code",
   "execution_count": null,
   "metadata": {},
   "outputs": [],
   "source": [
    "billMonth = billing.billing_month\n",
    "offset = pd.DateOffset(minutes=15)\n",
    "month = {}\n",
    "monthLength = len(billMonth) - 1\n",
    "for i in range (0,monthLength,1):\n",
    "    end = billMonth[i + 1] - offset\n",
    "    month[i] = df2[df2.Timestamp.between(billMonth[i], end)]\n",
    "month"
   ]
  },
  {
   "cell_type": "code",
   "execution_count": null,
   "metadata": {},
   "outputs": [],
   "source": [
    "x_data = [df2.Timestamp] \n",
    "y_data = [df2.Demand]\n",
    "line_name = [\"Line 1\"]\n",
    "title = \"Random Time Data\"\n",
    "x_title = \"Time\"\n",
    "y_title = \"Demand\"\n",
    "plot_graph(x_data, y_data, line_name, title, x_title, y_title)"
   ]
  },
  {
   "cell_type": "markdown",
   "metadata": {},
   "source": [
    "Get Monthly Title"
   ]
  },
  {
   "cell_type": "code",
   "execution_count": null,
   "metadata": {},
   "outputs": [],
   "source": [
    "company_name = \"Fun Town Water District\"\n",
    "site_name = \"Ugly Factory\"\n",
    "plot_type = \"15 Minute Data\"\n",
    "account_number = 4224251997\n",
    "month_title = {}\n",
    "for i in range (0,len(month)):\n",
    "    month_title[i] = company_name + \"\\n\" + site_name + ' ' + plot_type +  \"\\nAccount Number: \" + str(account_number) + \" || From: \" +  month[i].Timestamp.min().strftime('%B %d, %Y') + \" to \" + month[i].Timestamp.max().strftime('%B %d, %Y') \n",
    "month_title"
   ]
  },
  {
   "cell_type": "markdown",
   "metadata": {},
   "source": [
    "Plot all the monthly Dataframes"
   ]
  },
  {
   "cell_type": "code",
   "execution_count": null,
   "metadata": {
    "scrolled": false
   },
   "outputs": [],
   "source": [
    "x_title = \"Time\"\n",
    "y_title = \"Demand (kW)\"\n",
    "line_name = [\"Demand\"]\n",
    "for i in range (0,len(month)):\n",
    "    x_data = [month[i].Timestamp]\n",
    "    y_data = [month[i].Demand]\n",
    "    title = month_title[i]\n",
    "    plot_graph(x_data, y_data, line_name, title, x_title, y_title) "
   ]
  },
  {
   "cell_type": "markdown",
   "metadata": {},
   "source": [
    "Adding <Br> is eqivalent /n in Html. When using Plotly, the plots are html, and so are the texts on the plots"
   ]
  },
  {
   "cell_type": "code",
   "execution_count": null,
   "metadata": {},
   "outputs": [],
   "source": [
    "company_name = \"Fun Town Water District\"\n",
    "site_name = \"Ugly Factory\"\n",
    "plot_type = \"15 Minute Data\"\n",
    "account_number = 4224251997\n",
    "month_title = {}\n",
    "for i in range (0,len(month)):\n",
    "    month_title[i] = company_name + \"<Br>\" + site_name + ' ' + plot_type +  \"<Br>Account Number: \" + str(account_number) + \" || From: \" +  month[i].Timestamp.min().strftime('%B %d, %Y') + \" to \" + month[i].Timestamp.max().strftime('%B %d, %Y') \n",
    "month_title"
   ]
  },
  {
   "cell_type": "code",
   "execution_count": null,
   "metadata": {},
   "outputs": [],
   "source": [
    "x_title = \"Time\"\n",
    "y_title = \"Demand (kW)\"\n",
    "line_name = [\"Demand\"]\n",
    "for i in range (0,len(month)):\n",
    "    x_data = [month[i].Timestamp]\n",
    "    y_data = [month[i].Demand]\n",
    "    title = month_title[i]\n",
    "    plot_graph(x_data, y_data, line_name, title, x_title, y_title)    "
   ]
  },
  {
   "cell_type": "markdown",
   "metadata": {},
   "source": [
    "Adding Support to define the colors "
   ]
  },
  {
   "cell_type": "code",
   "execution_count": null,
   "metadata": {},
   "outputs": [],
   "source": [
    "def plot_graph(x_data, y_data, line_name, title, x_title, y_title, line_color):\n",
    "    # Define the figure\n",
    "    fig = go.Figure()\n",
    "    # Add data to figure\n",
    "    for i in range(0, len(x_data), 1):\n",
    "        fig.add_trace(go.Scatter(x=x_data[i], y=y_data[i], name= line_name[i], line_color = line_color[i]))\n",
    "            \n",
    "    # Create Layout for the Html\n",
    "    \n",
    "    fig.update_layout(\n",
    "        title=go.layout.Title(\n",
    "            text= title,\n",
    "            xref=\"paper\",\n",
    "            x=0.5\n",
    "        ),\n",
    "        xaxis=go.layout.XAxis(\n",
    "            title=go.layout.xaxis.Title(\n",
    "                text=x_title,\n",
    "            ),\n",
    "            rangeslider=dict(\n",
    "                visible=True\n",
    "            )\n",
    "        ),\n",
    "        yaxis=go.layout.YAxis(\n",
    "            title=go.layout.yaxis.Title(\n",
    "                text=y_title,\n",
    "            )\n",
    "        )\n",
    "    )\n",
    "    fig.show()"
   ]
  },
  {
   "cell_type": "markdown",
   "metadata": {},
   "source": [
    "Ploty uses Html/CSS color naming conventions\n",
    "\n",
    "Look at these sites to picks the colors of your choosing\n",
    "\n",
    "https://www.w3schools.com/cssref/css_colors.asp\n",
    "\n",
    "https://www.w3schools.com/colors/colors_picker.asp"
   ]
  },
  {
   "cell_type": "code",
   "execution_count": null,
   "metadata": {},
   "outputs": [],
   "source": [
    "x_title = \"Time\"\n",
    "y_title = \"Demand (kW)\"\n",
    "line_name = [\"Demand\"]\n",
    "line_color = [\"deepskyblue\"]\n",
    "for i in range (0,len(month)):\n",
    "    x_data = [month[i].Timestamp]\n",
    "    y_data = [month[i].Demand]\n",
    "    title = month_title[i]\n",
    "    plot_graph(x_data, y_data, line_name, title, x_title, y_title, line_color)   "
   ]
  },
  {
   "cell_type": "markdown",
   "metadata": {},
   "source": [
    "Export graphs to Html \n",
    "\n",
    "fig.show() should only be used to inspect a plot\n",
    "\n",
    "A finished product should be exported as html \n",
    "\n",
    "Filenames need to be generated beforehand\n",
    "\n",
    "Use fig.write_html() to export graphs \n",
    "\n",
    "\n",
    "Use the format we want \n",
    "fig.write_html(file_title + 'html, include_mathjax='cdn')"
   ]
  },
  {
   "cell_type": "code",
   "execution_count": null,
   "metadata": {},
   "outputs": [],
   "source": [
    "def plot_graph(x_data, y_data, line_name, title, x_title, y_title, filename, line_color, fig_show = False):\n",
    "    # Define the figure\n",
    "    fig = go.Figure()\n",
    "    # Add data to figure\n",
    "    for i in range(0, len(x_data), 1):\n",
    "        fig.add_trace(go.Scatter(x=x_data[i], y=y_data[i], name= line_name[i], line_color = line_color[i]))\n",
    "            \n",
    "    # Create Layout for the Html\n",
    "    \n",
    "    fig.update_layout(\n",
    "        title=go.layout.Title(\n",
    "            text= title,\n",
    "            xref=\"paper\",\n",
    "            x=0.5\n",
    "        ),\n",
    "        xaxis=go.layout.XAxis(\n",
    "            title=go.layout.xaxis.Title(\n",
    "                text=x_title,\n",
    "            ),\n",
    "            rangeslider=dict(\n",
    "                visible=True\n",
    "            )\n",
    "        ),\n",
    "        yaxis=go.layout.YAxis(\n",
    "            title=go.layout.yaxis.Title(\n",
    "                text=y_title,\n",
    "            )\n",
    "        )\n",
    "    )\n",
    "    \n",
    "    fig.write_html((filename + '.html'), include_mathjax='cdn')\n",
    "    if fig_show:\n",
    "        fig.show()"
   ]
  },
  {
   "cell_type": "code",
   "execution_count": null,
   "metadata": {},
   "outputs": [],
   "source": [
    "company_name = \"Fun_Town_Water_District\"\n",
    "site_name = \"Ugly_Factory\"\n",
    "plot_type = \"15_Minute_Data\"\n",
    "filename_list = {}\n",
    "for i in range (0,len(month)):\n",
    "    filename_list[i] = str(i) + '_' + company_name + '_' + site_name+ '_' + plot_type + '_' + month[i].Timestamp.min().strftime('%b_%d_%Y') + \"_to_\" + month[i].Timestamp.max().strftime('%b_%d_%Y') \n",
    "filename_list"
   ]
  },
  {
   "cell_type": "code",
   "execution_count": null,
   "metadata": {},
   "outputs": [],
   "source": [
    "# Change directory\n",
    "os.chdir(\"\")\n",
    "x_title = \"Time\"\n",
    "y_title = \"Demand (kW)\"\n",
    "line_name = [\"Demand\"]\n",
    "line_color = [\"deepskyblue\"]\n",
    "for i in range (0,len(month)):\n",
    "    x_data = [month[i].Timestamp]\n",
    "    y_data = [month[i].Demand]\n",
    "    title = month_title[i]\n",
    "    filename = filename_list[i]\n",
    "    plot_graph(x_data, y_data, line_name, title, x_title, y_title, filename, line_color) "
   ]
  },
  {
   "cell_type": "code",
   "execution_count": null,
   "metadata": {},
   "outputs": [],
   "source": [
    "def plot_graph(x_data, y_data, line_name, title, x_title, y_title, filename, line_color, fig_show = False):\n",
    "    # Define the figure\n",
    "    fig = go.Figure()\n",
    "    # Add data to figure\n",
    "    for i in range(0, len(x_data), 1):\n",
    "        fig.add_trace(go.Scatter(x=x_data[i], y=y_data[i], name= line_name[i], line_color = line_color[i]))\n",
    "            \n",
    "    # Create Layout for the Html\n",
    "    \n",
    "    fig.update_layout(\n",
    "        title=go.layout.Title(\n",
    "            text= title,\n",
    "            xref=\"paper\",\n",
    "            x=0.5\n",
    "        ),\n",
    "        xaxis=go.layout.XAxis(\n",
    "            title=go.layout.xaxis.Title(\n",
    "                text=x_title,\n",
    "            ),\n",
    "            rangeslider=dict(\n",
    "                visible=True\n",
    "            )\n",
    "        ),\n",
    "        yaxis=go.layout.YAxis(\n",
    "            title=go.layout.yaxis.Title(\n",
    "                text=y_title,\n",
    "            )\n",
    "        )\n",
    "    )\n",
    "    \n",
    "    fig.write_html((filename + '.html'), include_mathjax='cdn')\n",
    "    fig.write_image(filename + '.svg')\n",
    "    fig.write_image(filename + '.pdf')\n",
    "    # fig.write_image(filename + '.png') Do not use png in your code this is only an example to compare png to vector images\n",
    "    if fig_show:\n",
    "        fig.show()"
   ]
  },
  {
   "cell_type": "code",
   "execution_count": null,
   "metadata": {},
   "outputs": [],
   "source": [
    "x_title = \"Time\"\n",
    "y_title = \"Demand (kW)\"\n",
    "line_name = [\"Demand\"]\n",
    "line_color = [\"deepskyblue\"]\n",
    "for i in range (0,len(month)):\n",
    "    x_data = [month[i].Timestamp]\n",
    "    y_data = [month[i].Demand]\n",
    "    title = month_title[i]\n",
    "    filename = filename_list[i]\n",
    "    plot_graph(x_data, y_data, line_name, title, x_title, y_title, filename, line_color)"
   ]
  }
 ],
 "metadata": {
  "kernelspec": {
   "display_name": "Python 3",
   "language": "python",
   "name": "python3"
  },
  "language_info": {
   "codemirror_mode": {
    "name": "ipython",
    "version": 3
   },
   "file_extension": ".py",
   "mimetype": "text/x-python",
   "name": "python",
   "nbconvert_exporter": "python",
   "pygments_lexer": "ipython3",
   "version": "3.7.6"
  }
 },
 "nbformat": 4,
 "nbformat_minor": 4
}
