{
 "cells": [
  {
   "cell_type": "code",
   "execution_count": null,
   "metadata": {},
   "outputs": [],
   "source": [
    "import pandas as pd \n",
    "import numpy as np\n",
    "import datetime\n",
    "import os \n",
    "os.chdir(\"/home/luisfernando/Git Code/Introduction-to-Data-Analysis/Lecture 3\")\n",
    "df = pd.read_excel(\"random_time_data.xlsx\")\n",
    "df"
   ]
  },
  {
   "cell_type": "code",
   "execution_count": null,
   "metadata": {},
   "outputs": [],
   "source": [
    "df.dtypes"
   ]
  },
  {
   "cell_type": "code",
   "execution_count": null,
   "metadata": {},
   "outputs": [],
   "source": [
    "pd.Timestamp(year=2020, month=1, day=1, hour=0, minute=0, second=0)"
   ]
  },
  {
   "cell_type": "code",
   "execution_count": null,
   "metadata": {},
   "outputs": [],
   "source": [
    "pd.Timestamp(year=2020, month=1, day=1, hour=0, minute=0)"
   ]
  },
  {
   "cell_type": "code",
   "execution_count": null,
   "metadata": {},
   "outputs": [],
   "source": [
    "pd.Timestamp(year=2020, month=1, day=1, hour=0)"
   ]
  },
  {
   "cell_type": "code",
   "execution_count": null,
   "metadata": {},
   "outputs": [],
   "source": [
    "pd.Timestamp(year=2020, month=1, day=1)"
   ]
  },
  {
   "cell_type": "code",
   "execution_count": null,
   "metadata": {},
   "outputs": [],
   "source": [
    "pd.Timestamp(year=2018, month=3, day=4, hour=3, minute=56, second=14)"
   ]
  },
  {
   "cell_type": "code",
   "execution_count": null,
   "metadata": {},
   "outputs": [],
   "source": [
    "pd.Timestamp(year=2018, month=3, day=4, hour=3, minute=45)"
   ]
  },
  {
   "cell_type": "code",
   "execution_count": null,
   "metadata": {},
   "outputs": [],
   "source": [
    "df.Timestamp"
   ]
  },
  {
   "cell_type": "code",
   "execution_count": null,
   "metadata": {},
   "outputs": [],
   "source": [
    "df.Timestamp.dt.time"
   ]
  },
  {
   "cell_type": "code",
   "execution_count": null,
   "metadata": {},
   "outputs": [],
   "source": [
    "df.Timestamp.dt.date"
   ]
  },
  {
   "cell_type": "code",
   "execution_count": null,
   "metadata": {},
   "outputs": [],
   "source": [
    "df.Timestamp.between(pd.Timestamp(year=2020, month=1, day=1, hour=0, minute=0), pd.Timestamp(year=2020, month=2, day=1, hour=0, minute=0))"
   ]
  },
  {
   "cell_type": "code",
   "execution_count": null,
   "metadata": {},
   "outputs": [],
   "source": [
    "df[df.Timestamp.between(pd.Timestamp(year=2020, month=1, day=1, hour=0, minute=0), pd.Timestamp(year=2020, month=2, day=1, hour=0, minute=0))]"
   ]
  },
  {
   "cell_type": "code",
   "execution_count": null,
   "metadata": {},
   "outputs": [],
   "source": [
    "df[df.Timestamp.between(pd.Timestamp(year=2020, month=1, day=1, hour=0, minute=0), pd.Timestamp(year=2020, month=2, day=1, hour=0, minute=0),  inclusive = False)]"
   ]
  },
  {
   "cell_type": "code",
   "execution_count": null,
   "metadata": {},
   "outputs": [],
   "source": [
    "january = df[df.Timestamp.between(pd.Timestamp(year=2020, month=1, day=1, hour=0, minute=0), pd.Timestamp(year=2020, month=2, day=1, hour=0, minute=0))]\n",
    "january"
   ]
  },
  {
   "cell_type": "code",
   "execution_count": null,
   "metadata": {},
   "outputs": [],
   "source": [
    "january = january.reset_index(drop=True)\n",
    "january"
   ]
  },
  {
   "cell_type": "code",
   "execution_count": null,
   "metadata": {},
   "outputs": [],
   "source": [
    "january.Demand.max()"
   ]
  },
  {
   "cell_type": "code",
   "execution_count": null,
   "metadata": {},
   "outputs": [],
   "source": [
    "df.Demand.max()"
   ]
  },
  {
   "cell_type": "code",
   "execution_count": null,
   "metadata": {},
   "outputs": [],
   "source": [
    "january.Demand[df.Peak == \"Mid-Peak\"]"
   ]
  },
  {
   "cell_type": "code",
   "execution_count": null,
   "metadata": {},
   "outputs": [],
   "source": [
    "january.Demand[df.Peak == \"Mid-Peak\"].max()"
   ]
  },
  {
   "cell_type": "code",
   "execution_count": null,
   "metadata": {},
   "outputs": [],
   "source": [
    "billing = pd.read_excel(\"billing_month.xlsx\")\n",
    "billing"
   ]
  },
  {
   "cell_type": "code",
   "execution_count": null,
   "metadata": {},
   "outputs": [],
   "source": [
    "billing.dtypes"
   ]
  },
  {
   "cell_type": "code",
   "execution_count": null,
   "metadata": {},
   "outputs": [],
   "source": [
    "billing.billing_month"
   ]
  },
  {
   "cell_type": "code",
   "execution_count": null,
   "metadata": {},
   "outputs": [],
   "source": [
    "billing.billing_month[0]"
   ]
  },
  {
   "cell_type": "code",
   "execution_count": null,
   "metadata": {},
   "outputs": [],
   "source": [
    "billing.billing_month[0] + pd.DateOffset(hours=12)"
   ]
  },
  {
   "cell_type": "code",
   "execution_count": null,
   "metadata": {},
   "outputs": [],
   "source": [
    "billMonth = billing.billing_month\n",
    "offset = pd.DateOffset(minutes=15)\n",
    "month = {}\n",
    "monthLength = len(billMonth) - 1\n",
    "for i in range (0,monthLength,1):\n",
    "    end = billMonth[i + 1] - offset\n",
    "    month[i] = df[df.Timestamp.between(billMonth[i], end)]\n",
    "month"
   ]
  },
  {
   "cell_type": "code",
   "execution_count": null,
   "metadata": {},
   "outputs": [],
   "source": [
    "month[0]"
   ]
  },
  {
   "cell_type": "code",
   "execution_count": null,
   "metadata": {},
   "outputs": [],
   "source": [
    "np.nan"
   ]
  },
  {
   "cell_type": "code",
   "execution_count": null,
   "metadata": {},
   "outputs": [],
   "source": [
    "example = pd.DataFrame(np.zeros([10, 4])*np.nan, columns = [\"One\", \"Two\", \"Three\", \"Four\"])\n",
    "example"
   ]
  },
  {
   "cell_type": "code",
   "execution_count": null,
   "metadata": {},
   "outputs": [],
   "source": [
    "def energy(df, month):\n",
    "    df = df.reset_index(drop=True)\n",
    "\n",
    "    if len(month) != 0:\n",
    "        monthLength = len(month) \n",
    "    else:\n",
    "         monthLength = 0\n",
    "            \n",
    "    monthTitle = {}\n",
    "    for i in range(0, monthLength, 1): # iterates through every billing month df\n",
    "        monthTitle[i] = month[i].Timestamp.min().strftime('%b_%d_%Y') + ' to ' + month[i].Timestamp.max().strftime('%b_%d_%Y')\n",
    "\n",
    "    columns = ['Billing Month', 'kiloWattHour Total', 'kiloWattHour Super Off-Peak', 'kiloWattHour Off-Peak', 'kiloWattHour Mid-Peak', 'kiloWattHour On-Peak']\n",
    "    col_len = int(len(columns))\n",
    "    kiloWattHour = pd.DataFrame(np.zeros([monthLength, col_len])*np.nan, columns = columns)\n",
    "    for i in range(0, monthLength, 1):\n",
    "        month[i] = month[i].reset_index(drop=True)\n",
    "        kiloWattHour['Billing Month'][i] = monthTitle[i]\n",
    "        kiloWattHour['kiloWattHour Total'][i] = month[i].Demand.sum() / 4\n",
    "        kiloWattHour['kiloWattHour Super Off-Peak'][i] = month[i].Demand[month[i].Peak == 'Super Off-Peak'].sum() / 4\n",
    "        kiloWattHour['kiloWattHour Off-Peak'][i] = month[i].Demand[month[i].Peak == 'Off-Peak'].sum() / 4\n",
    "        kiloWattHour['kiloWattHour Mid-Peak'][i] = month[i].Demand[month[i].Peak == 'Mid-Peak'].sum() / 4\n",
    "        kiloWattHour['kiloWattHour On-Peak'][i] = month[i].Demand[month[i].Peak == 'On-Peak'].sum() / 4\n",
    "\n",
    "    kiloWattHour.loc[len(kiloWattHour)] = np.nan\n",
    "    kiloWattHour = kiloWattHour.shift()\n",
    "    kiloWattHour['Billing Month'][0] = 'Entire Interval'\n",
    "    kiloWattHour['kiloWattHour Total'][0] = df.Demand.sum() / 4\n",
    "    kiloWattHour['kiloWattHour Super Off-Peak'][0] = df.Demand[df.Peak == 'Super Off-Peak'].sum() / 4\n",
    "    kiloWattHour['kiloWattHour Off-Peak'][0] = df.Demand[df.Peak == 'Off-Peak'].sum() / 4\n",
    "    kiloWattHour['kiloWattHour Mid-Peak'][0] = df.Demand[df.Peak == 'Mid-Peak'].sum() / 4\n",
    "    kiloWattHour['kiloWattHour On-Peak'][0] = df.Demand[df.Peak == 'On-Peak'].sum() / 4\n",
    "\n",
    "    return kiloWattHour "
   ]
  },
  {
   "cell_type": "code",
   "execution_count": null,
   "metadata": {},
   "outputs": [],
   "source": [
    "kiloWattHour = energy(df,month)\n",
    "kiloWattHour"
   ]
  },
  {
   "cell_type": "code",
   "execution_count": null,
   "metadata": {},
   "outputs": [],
   "source": [
    "def max_peak(df, month):\n",
    "    df = df.reset_index(drop=True)\n",
    "\n",
    "    if len(month) != 0:\n",
    "        monthLength = len(month) \n",
    "    else:\n",
    "         monthLength = 0\n",
    "\n",
    "    monthTitle = {}\n",
    "    for i in range(0, monthLength, 1): # iterates through every billing month df\n",
    "        monthTitle[i] = month[i].Timestamp.min().strftime('%b_%d_%Y') + ' to ' + month[i].Timestamp.max().strftime('%b_%d_%Y')\n",
    "\n",
    "    columns = ['Billing Month', 'max_peak Total', 'max_peak Super Off-Peak', 'max_peak Off-Peak', 'max_peak Mid-Peak', 'max_peak On-Peak']\n",
    "    col_len = int(len(columns))\n",
    "    max_peak = pd.DataFrame(np.zeros([monthLength, col_len])*np.nan, columns = columns)\n",
    "    for i in range(0, monthLength, 1):\n",
    "        month[i] = month[i].reset_index(drop=True)\n",
    "        max_peak['Billing Month'][i] = monthTitle[i]\n",
    "        max_peak['max_peak Total'][i] = month[i].Demand.max()\n",
    "        max_peak['max_peak Super Off-Peak'][i] = month[i].Demand[month[i].Peak == 'Super Off-Peak'].max()\n",
    "        max_peak['max_peak Off-Peak'][i] = month[i].Demand[month[i].Peak == 'Off-Peak'].max()\n",
    "        max_peak['max_peak Mid-Peak'][i] = month[i].Demand[month[i].Peak == 'Mid-Peak'].max()\n",
    "        max_peak['max_peak On-Peak'][i] = month[i].Demand[month[i].Peak == 'On-Peak'].max()\n",
    "\n",
    "    max_peak.loc[len(max_peak)] = np.nan\n",
    "    max_peak = max_peak.shift()\n",
    "    max_peak['Billing Month'][0] = 'Entire Interval'\n",
    "    max_peak['max_peak Total'][0] = df.Demand.max()\n",
    "    max_peak['max_peak Super Off-Peak'][0] = df.Demand[df.Peak == 'Super Off-Peak'].max()\n",
    "    max_peak['max_peak Off-Peak'][0] = df.Demand[df.Peak == 'Off-Peak'].max()\n",
    "    max_peak['max_peak Mid-Peak'][0] = df.Demand[df.Peak == 'Mid-Peak'].max()\n",
    "    max_peak['max_peak On-Peak'][0] = df.Demand[df.Peak == 'On-Peak'].max()\n",
    "\n",
    "    return max_peak"
   ]
  },
  {
   "cell_type": "code",
   "execution_count": null,
   "metadata": {},
   "outputs": [],
   "source": [
    "max_peak = max_peak(df, month)\n",
    "max_peak"
   ]
  },
  {
   "cell_type": "code",
   "execution_count": null,
   "metadata": {},
   "outputs": [],
   "source": [
    "def energy_percentage(df, month):\n",
    "    df = df.reset_index(drop=True)\n",
    "\n",
    "    if len(month) != 0:\n",
    "        monthLength = len(month) \n",
    "    else:\n",
    "         monthLength = 0\n",
    "         \n",
    "    monthTitle = {}\n",
    "    for i in range(0, monthLength, 1): # iterates through every billing month df\n",
    "        monthTitle[i] = month[i].Timestamp.min().strftime('%b_%d_%Y') + ' to ' + month[i].Timestamp.max().strftime('%b_%d_%Y')\n",
    "\n",
    "    columns = ['Billing Month', 'Energy_Percentage Total', 'Energy_Percentage Super Off-Peak', 'Energy_Percentage Off-Peak', 'Energy_Percentage Mid-Peak', 'Energy_Percentage On-Peak']\n",
    "    col_len = int(len(columns))\n",
    "    Energy_Percentage = pd.DataFrame(np.zeros([monthLength, col_len])*np.nan, columns = columns)\n",
    "    for i in range(0, monthLength, 1):\n",
    "        month[i] = month[i].reset_index(drop=True)\n",
    "        Energy_Percentage['Billing Month'][i] = monthTitle[i]\n",
    "        month_sum = month[i].Demand.sum()\n",
    "        Energy_Percentage['Energy_Percentage Super Off-Peak'][i] = month[i].Demand[month[i].Peak == 'Super Off-Peak'].sum() / month_sum\n",
    "        Energy_Percentage['Energy_Percentage Off-Peak'][i] = month[i].Demand[month[i].Peak == 'Off-Peak'].sum() / month_sum\n",
    "        Energy_Percentage['Energy_Percentage Mid-Peak'][i] = month[i].Demand[month[i].Peak == 'Mid-Peak'].sum() / month_sum\n",
    "        Energy_Percentage['Energy_Percentage On-Peak'][i] = month[i].Demand[month[i].Peak == 'On-Peak'].sum() / month_sum\n",
    "        Energy_Percentage['Energy_Percentage Total'][i] = Energy_Percentage['Energy_Percentage Super Off-Peak'][i] + Energy_Percentage['Energy_Percentage Off-Peak'][i] + Energy_Percentage['Energy_Percentage Mid-Peak'][i] + Energy_Percentage['Energy_Percentage On-Peak'][i]\n",
    "\n",
    "    Energy_Percentage.loc[len(Energy_Percentage)] = np.nan\n",
    "    Energy_Percentage = Energy_Percentage.shift()\n",
    "    Energy_Percentage['Billing Month'][0] = 'Entire Interval'\n",
    "    df_sum = df.Demand.sum()\n",
    "    Energy_Percentage['Energy_Percentage Super Off-Peak'][0] = df.Demand[df.Peak == 'Super Off-Peak'].sum() / df_sum\n",
    "    Energy_Percentage['Energy_Percentage Off-Peak'][0] = df.Demand[df.Peak == 'Off-Peak'].sum() / df_sum\n",
    "    Energy_Percentage['Energy_Percentage Mid-Peak'][0] = df.Demand[df.Peak == 'Mid-Peak'].sum() / df_sum\n",
    "    Energy_Percentage['Energy_Percentage On-Peak'][0] = df.Demand[df.Peak == 'On-Peak'].sum() / df_sum\n",
    "    Energy_Percentage['Energy_Percentage Total'][0] = Energy_Percentage['Energy_Percentage Super Off-Peak'][0] + Energy_Percentage['Energy_Percentage Off-Peak'][0] + Energy_Percentage['Energy_Percentage Mid-Peak'][0] + Energy_Percentage['Energy_Percentage On-Peak'][0]\n",
    "\n",
    "    return Energy_Percentage"
   ]
  },
  {
   "cell_type": "code",
   "execution_count": null,
   "metadata": {},
   "outputs": [],
   "source": [
    "kW_percentage = energy_percentage(df, month)\n",
    "kW_percentage"
   ]
  },
  {
   "cell_type": "code",
   "execution_count": null,
   "metadata": {},
   "outputs": [],
   "source": [
    "def get_load_factor(df, month):    \n",
    "    monthTitle = {}\n",
    "    for j in range(0, monthLength, 1): # iterates through every billing month df\n",
    "        monthTitle[j] = month[j].Timestamp.min().strftime('%B %d, %Y') + ' to ' + month[j].Timestamp.max().strftime('%B %d, %Y')\n",
    "\n",
    "    columns = ['Billing Month', 'Load Factor Total', 'Load Factor Super Off-Peak', 'Load Factor Off-Peak', 'Load Factor Mid-Peak', 'Load Factor On-Peak']\n",
    "    col_len = int(len(columns))\n",
    "    loadFactor = pd.DataFrame(np.zeros([monthLength, col_len])*np.nan, columns = columns)\n",
    "    for i in range(0, monthLength, 1):\n",
    "        loadFactor['Billing Month'][i] = monthTitle[i]\n",
    "        loadFactor['Load Factor Total'][i] = month[i].Demand.mean() / month[i].Demand.max()\n",
    "        loadFactor['Load Factor Super Off-Peak'][i] = month[i].Demand[month[i].Peak == 'Super Off-Peak'].mean() / month[i].Demand[month[i].Peak == 'Super Off-Peak'].max()\n",
    "        loadFactor['Load Factor Off-Peak'][i] = month[i].Demand[month[i].Peak == 'Off-Peak'].mean() / month[i].Demand[month[i].Peak == 'Off-Peak'].max()\n",
    "        loadFactor['Load Factor Mid-Peak'][i] = month[i].Demand[month[i].Peak == 'Mid-Peak'].mean() / month[i].Demand[month[i].Peak == 'Mid-Peak'].max()\n",
    "        loadFactor['Load Factor On-Peak'][i] = month[i].Demand[month[i].Peak == 'On-Peak'].mean() / month[i].Demand[month[i].Peak == 'On-Peak'].max()\n",
    "\n",
    "    loadFactor.loc[len(loadFactor)] = np.nan\n",
    "    loadFactor = loadFactor.shift()\n",
    "    loadFactor['Billing Month'][0] = 'Entire Interval'\n",
    "    loadFactor['Load Factor Total'][0] = df.Demand.mean() / df.Demand.max()\n",
    "    loadFactor['Load Factor Super Off-Peak'][0] = df.Demand[df.Peak == 'Super Off-Peak'].mean() / df.Demand[df.Peak == 'Super Off-Peak'].max()\n",
    "    loadFactor['Load Factor Off-Peak'][0] = df.Demand[df.Peak == 'Off-Peak'].mean() / df.Demand[df.Peak == 'Off-Peak'].max()\n",
    "    loadFactor['Load Factor Mid-Peak'][0] = df.Demand[df.Peak == 'Mid-Peak'].mean() / df.Demand[df.Peak == 'Mid-Peak'].max()\n",
    "    loadFactor['Load Factor On-Peak'][0] = df.Demand[df.Peak == 'On-Peak'].mean() / df.Demand[df.Peak == 'On-Peak'].max()\n",
    "\n",
    "    return loadFactor"
   ]
  },
  {
   "cell_type": "code",
   "execution_count": null,
   "metadata": {},
   "outputs": [],
   "source": [
    "loadFactor = get_load_factor(df, month)\n",
    "loadFactor"
   ]
  },
  {
   "cell_type": "markdown",
   "metadata": {},
   "source": [
    "## Title Generation"
   ]
  },
  {
   "cell_type": "code",
   "execution_count": null,
   "metadata": {},
   "outputs": [],
   "source": [
    "site_name = \"Ugly Factory\"\n",
    "begin_date = \"01/05/2020\"\n",
    "end_date = \"02/07/2020\"\n",
    "string = site_name + \" From: \" + begin_date + \" to \" + end_date\n",
    "print(string)"
   ]
  },
  {
   "cell_type": "code",
   "execution_count": null,
   "metadata": {},
   "outputs": [],
   "source": [
    "company_name = \"Fun Town Water District\"\n",
    "site_name = \"Ugly Factory\"\n",
    "account_number = 4224251997\n",
    "begin_date = \"January 05, 2020\"\n",
    "end_date = \"February 07, 2020\"\n",
    "string = company_name + \"\\nSite Name: \" + site_name + \" || Account Number: \" + str(account_number) + \" || From: \" + begin_date + \" to \" + end_date\n",
    "print(string)"
   ]
  },
  {
   "cell_type": "code",
   "execution_count": null,
   "metadata": {},
   "outputs": [],
   "source": [
    "df.Timestamp[0]"
   ]
  },
  {
   "cell_type": "code",
   "execution_count": null,
   "metadata": {},
   "outputs": [],
   "source": [
    "df.Timestamp[0].strftime('%b %d %y %r')"
   ]
  },
  {
   "cell_type": "markdown",
   "metadata": {},
   "source": [
    "Month Uppercase"
   ]
  },
  {
   "cell_type": "code",
   "execution_count": null,
   "metadata": {},
   "outputs": [],
   "source": [
    "df.Timestamp[0].strftime('%B')"
   ]
  },
  {
   "cell_type": "markdown",
   "metadata": {},
   "source": [
    "Month Lowercase"
   ]
  },
  {
   "cell_type": "code",
   "execution_count": null,
   "metadata": {},
   "outputs": [],
   "source": [
    "df.Timestamp[0].strftime('%b')"
   ]
  },
  {
   "cell_type": "markdown",
   "metadata": {},
   "source": [
    "Day Uppercase"
   ]
  },
  {
   "cell_type": "code",
   "execution_count": null,
   "metadata": {},
   "outputs": [],
   "source": [
    "df.Timestamp[0].strftime('%D')"
   ]
  },
  {
   "cell_type": "markdown",
   "metadata": {},
   "source": [
    "Day Lowercase"
   ]
  },
  {
   "cell_type": "code",
   "execution_count": null,
   "metadata": {},
   "outputs": [],
   "source": [
    "df.Timestamp[0].strftime('%d')"
   ]
  },
  {
   "cell_type": "markdown",
   "metadata": {},
   "source": [
    "Year Uppercase"
   ]
  },
  {
   "cell_type": "code",
   "execution_count": null,
   "metadata": {},
   "outputs": [],
   "source": [
    "df.Timestamp[0].strftime('%Y')"
   ]
  },
  {
   "cell_type": "markdown",
   "metadata": {},
   "source": [
    "Year Lowercase"
   ]
  },
  {
   "cell_type": "code",
   "execution_count": null,
   "metadata": {},
   "outputs": [],
   "source": [
    "df.Timestamp[0].strftime('%y')"
   ]
  },
  {
   "cell_type": "markdown",
   "metadata": {},
   "source": [
    "Time Uppercase"
   ]
  },
  {
   "cell_type": "code",
   "execution_count": null,
   "metadata": {},
   "outputs": [],
   "source": [
    "df.Timestamp[0].strftime('%R')"
   ]
  },
  {
   "cell_type": "markdown",
   "metadata": {},
   "source": [
    "Time Lowercase"
   ]
  },
  {
   "cell_type": "code",
   "execution_count": null,
   "metadata": {},
   "outputs": [],
   "source": [
    "df.Timestamp[0].strftime('%r')"
   ]
  },
  {
   "cell_type": "markdown",
   "metadata": {},
   "source": [
    "Day of the Week Uppercase "
   ]
  },
  {
   "cell_type": "code",
   "execution_count": null,
   "metadata": {},
   "outputs": [],
   "source": [
    "df.Timestamp[0].strftime('%A')"
   ]
  },
  {
   "cell_type": "markdown",
   "metadata": {},
   "source": [
    "Day of the Week Lowercase"
   ]
  },
  {
   "cell_type": "code",
   "execution_count": null,
   "metadata": {},
   "outputs": [],
   "source": [
    "df.Timestamp[0].strftime('%a')"
   ]
  },
  {
   "cell_type": "code",
   "execution_count": null,
   "metadata": {},
   "outputs": [],
   "source": [
    "df.Timestamp[0].strftime('%B %d %Y %r')"
   ]
  },
  {
   "cell_type": "code",
   "execution_count": null,
   "metadata": {},
   "outputs": [],
   "source": [
    "df.Timestamp[0].strftime('%B %d, %Y %r')"
   ]
  },
  {
   "cell_type": "code",
   "execution_count": null,
   "metadata": {},
   "outputs": [],
   "source": [
    "df.Timestamp[0].strftime('%B %d, %Y at %r')"
   ]
  },
  {
   "cell_type": "code",
   "execution_count": null,
   "metadata": {},
   "outputs": [],
   "source": [
    "df.Timestamp[0].strftime('%B %d, %Y')"
   ]
  },
  {
   "cell_type": "code",
   "execution_count": null,
   "metadata": {},
   "outputs": [],
   "source": [
    "df.Timestamp[0].strftime('%b_%d_%Y')"
   ]
  },
  {
   "cell_type": "code",
   "execution_count": null,
   "metadata": {},
   "outputs": [],
   "source": [
    "company_name = \"Fun Town Water District\"\n",
    "site_name = \"Ugly Factory\"\n",
    "account_number = 4224251997\n",
    "string = company_name + \"\\nSite Name: \" + site_name + \" || Account Number: \" + str(account_number) + \" || From: \" +  df.Timestamp[0].strftime('%B %d, %Y') + \" to \" + df.Timestamp[2881].strftime('%B %d, %Y') \n",
    "print(string)"
   ]
  },
  {
   "cell_type": "code",
   "execution_count": null,
   "metadata": {},
   "outputs": [],
   "source": [
    "df.Timestamp.min()"
   ]
  },
  {
   "cell_type": "code",
   "execution_count": null,
   "metadata": {},
   "outputs": [],
   "source": [
    "df.Timestamp.max()"
   ]
  },
  {
   "cell_type": "code",
   "execution_count": null,
   "metadata": {},
   "outputs": [],
   "source": [
    "df.Timestamp.min().strftime('%B %d, %Y')"
   ]
  },
  {
   "cell_type": "code",
   "execution_count": null,
   "metadata": {},
   "outputs": [],
   "source": [
    "df.Timestamp.max().strftime('%B %d, %Y')"
   ]
  },
  {
   "cell_type": "code",
   "execution_count": null,
   "metadata": {},
   "outputs": [],
   "source": [
    "company_name = \"Fun Town Water District\"\n",
    "site_name = \"Ugly Factory\"\n",
    "plot_type = \"15 Minute Data\"\n",
    "account_number = 4224251997\n",
    "string = company_name + \"\\n\" + site_name + ' ' + plot_type +  \"\\nAccount Number: \" + str(account_number) + \" || From: \" +  df.Timestamp.min().strftime('%B %d, %Y') + \" to \" + df.Timestamp.max().strftime('%B %d, %Y') \n",
    "print(string) "
   ]
  },
  {
   "cell_type": "code",
   "execution_count": null,
   "metadata": {},
   "outputs": [],
   "source": [
    "month[0]"
   ]
  },
  {
   "cell_type": "code",
   "execution_count": null,
   "metadata": {},
   "outputs": [],
   "source": [
    "company_name = \"Fun Town Water District\"\n",
    "site_name = \"Ugly Factory\"\n",
    "plot_type = \"15 Minute Data\"\n",
    "account_number = 4224251997\n",
    "string = company_name + \"\\n\" + site_name + ' ' + plot_type +  \"\\nAccount Number: \" + str(account_number) + \" || From: \" +  month[0].Timestamp.min().strftime('%B %d, %Y') + \" to \" + month[0].Timestamp.max().strftime('%B %d, %Y') \n",
    "print(string) "
   ]
  },
  {
   "cell_type": "code",
   "execution_count": null,
   "metadata": {},
   "outputs": [],
   "source": [
    "company_name = \"Fun Town Water District\"\n",
    "site_name = \"Ugly Factory\"\n",
    "plot_type = \"15 Minute Data\"\n",
    "account_number = 4224251997\n",
    "month_title = {}\n",
    "for i in range (0,len(month)):\n",
    "    month_title[i] = company_name + \"\\n\" + site_name + ' ' + plot_type +  \"\\nAccount Number: \" + str(account_number) + \" || From: \" +  month[i].Timestamp.min().strftime('%B %d, %Y') + \" to \" + month[i].Timestamp.max().strftime('%B %d, %Y') "
   ]
  },
  {
   "cell_type": "code",
   "execution_count": null,
   "metadata": {},
   "outputs": [],
   "source": [
    "month_title"
   ]
  },
  {
   "cell_type": "code",
   "execution_count": null,
   "metadata": {},
   "outputs": [],
   "source": [
    "for i in range (0,len(month)):\n",
    "    print(month_title[i] + '\\n')"
   ]
  },
  {
   "cell_type": "code",
   "execution_count": null,
   "metadata": {},
   "outputs": [],
   "source": [
    "company_name = \"Fun Town Water District\"\n",
    "site_name = \"Ugly Factory\"\n",
    "plot_type = \"15 Minute Data\"\n",
    "account_number = 4224251997\n",
    "month_title_filename = {}\n",
    "for i in range (0,len(month)):\n",
    "    month_title_filename[i] =  site_name + '_' + plot_type + '_' + str(account_number) + '_' +  month[i].Timestamp.min().strftime('%b_%d_%y') + \"_to_\" + month[i].Timestamp.max().strftime('%b_%d_%Y') "
   ]
  },
  {
   "cell_type": "code",
   "execution_count": null,
   "metadata": {},
   "outputs": [],
   "source": [
    "month_title_filename"
   ]
  }
 ],
 "metadata": {
  "kernelspec": {
   "display_name": "Python 3",
   "language": "python",
   "name": "python3"
  },
  "language_info": {
   "codemirror_mode": {
    "name": "ipython",
    "version": 3
   },
   "file_extension": ".py",
   "mimetype": "text/x-python",
   "name": "python",
   "nbconvert_exporter": "python",
   "pygments_lexer": "ipython3",
   "version": "3.7.6"
  }
 },
 "nbformat": 4,
 "nbformat_minor": 4
}
