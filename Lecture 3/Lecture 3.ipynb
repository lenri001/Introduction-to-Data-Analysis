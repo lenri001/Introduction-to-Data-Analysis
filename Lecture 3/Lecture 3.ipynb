{
 "cells": [
  {
   "cell_type": "code",
   "execution_count": 1,
   "metadata": {},
   "outputs": [
    {
     "data": {
      "text/html": [
       "<div>\n",
       "<style scoped>\n",
       "    .dataframe tbody tr th:only-of-type {\n",
       "        vertical-align: middle;\n",
       "    }\n",
       "\n",
       "    .dataframe tbody tr th {\n",
       "        vertical-align: top;\n",
       "    }\n",
       "\n",
       "    .dataframe thead th {\n",
       "        text-align: right;\n",
       "    }\n",
       "</style>\n",
       "<table border=\"1\" class=\"dataframe\">\n",
       "  <thead>\n",
       "    <tr style=\"text-align: right;\">\n",
       "      <th></th>\n",
       "      <th>Timestamp</th>\n",
       "      <th>Demand</th>\n",
       "      <th>DayWeek</th>\n",
       "      <th>Is_Weekend</th>\n",
       "      <th>Is_Holiday</th>\n",
       "      <th>is_summer</th>\n",
       "      <th>fun</th>\n",
       "      <th>Peak</th>\n",
       "    </tr>\n",
       "  </thead>\n",
       "  <tbody>\n",
       "    <tr>\n",
       "      <th>0</th>\n",
       "      <td>2019-03-07 00:00:00</td>\n",
       "      <td>560</td>\n",
       "      <td>3</td>\n",
       "      <td>0</td>\n",
       "      <td>0</td>\n",
       "      <td>0</td>\n",
       "      <td>Winter_Weekday</td>\n",
       "      <td>Off-Peak</td>\n",
       "    </tr>\n",
       "    <tr>\n",
       "      <th>1</th>\n",
       "      <td>2019-03-07 00:15:00</td>\n",
       "      <td>612</td>\n",
       "      <td>3</td>\n",
       "      <td>0</td>\n",
       "      <td>0</td>\n",
       "      <td>0</td>\n",
       "      <td>Winter_Weekday</td>\n",
       "      <td>Off-Peak</td>\n",
       "    </tr>\n",
       "    <tr>\n",
       "      <th>2</th>\n",
       "      <td>2019-03-07 00:30:00</td>\n",
       "      <td>758</td>\n",
       "      <td>3</td>\n",
       "      <td>0</td>\n",
       "      <td>0</td>\n",
       "      <td>0</td>\n",
       "      <td>Winter_Weekday</td>\n",
       "      <td>Off-Peak</td>\n",
       "    </tr>\n",
       "    <tr>\n",
       "      <th>3</th>\n",
       "      <td>2019-03-07 00:45:00</td>\n",
       "      <td>711</td>\n",
       "      <td>3</td>\n",
       "      <td>0</td>\n",
       "      <td>0</td>\n",
       "      <td>0</td>\n",
       "      <td>Winter_Weekday</td>\n",
       "      <td>Off-Peak</td>\n",
       "    </tr>\n",
       "    <tr>\n",
       "      <th>4</th>\n",
       "      <td>2019-03-07 01:00:00</td>\n",
       "      <td>107</td>\n",
       "      <td>3</td>\n",
       "      <td>0</td>\n",
       "      <td>0</td>\n",
       "      <td>0</td>\n",
       "      <td>Winter_Weekday</td>\n",
       "      <td>Off-Peak</td>\n",
       "    </tr>\n",
       "    <tr>\n",
       "      <th>...</th>\n",
       "      <td>...</td>\n",
       "      <td>...</td>\n",
       "      <td>...</td>\n",
       "      <td>...</td>\n",
       "      <td>...</td>\n",
       "      <td>...</td>\n",
       "      <td>...</td>\n",
       "      <td>...</td>\n",
       "    </tr>\n",
       "    <tr>\n",
       "      <th>34459</th>\n",
       "      <td>2020-02-29 22:45:00</td>\n",
       "      <td>221</td>\n",
       "      <td>5</td>\n",
       "      <td>1</td>\n",
       "      <td>0</td>\n",
       "      <td>0</td>\n",
       "      <td>Winter_Weekend</td>\n",
       "      <td>Off-Peak</td>\n",
       "    </tr>\n",
       "    <tr>\n",
       "      <th>34460</th>\n",
       "      <td>2020-02-29 23:00:00</td>\n",
       "      <td>1129</td>\n",
       "      <td>5</td>\n",
       "      <td>1</td>\n",
       "      <td>0</td>\n",
       "      <td>0</td>\n",
       "      <td>Winter_Weekend</td>\n",
       "      <td>Off-Peak</td>\n",
       "    </tr>\n",
       "    <tr>\n",
       "      <th>34461</th>\n",
       "      <td>2020-02-29 23:15:00</td>\n",
       "      <td>994</td>\n",
       "      <td>5</td>\n",
       "      <td>1</td>\n",
       "      <td>0</td>\n",
       "      <td>0</td>\n",
       "      <td>Winter_Weekend</td>\n",
       "      <td>Off-Peak</td>\n",
       "    </tr>\n",
       "    <tr>\n",
       "      <th>34462</th>\n",
       "      <td>2020-02-29 23:30:00</td>\n",
       "      <td>1154</td>\n",
       "      <td>5</td>\n",
       "      <td>1</td>\n",
       "      <td>0</td>\n",
       "      <td>0</td>\n",
       "      <td>Winter_Weekend</td>\n",
       "      <td>Off-Peak</td>\n",
       "    </tr>\n",
       "    <tr>\n",
       "      <th>34463</th>\n",
       "      <td>2020-02-29 23:45:00</td>\n",
       "      <td>1159</td>\n",
       "      <td>5</td>\n",
       "      <td>1</td>\n",
       "      <td>0</td>\n",
       "      <td>0</td>\n",
       "      <td>Winter_Weekend</td>\n",
       "      <td>Off-Peak</td>\n",
       "    </tr>\n",
       "  </tbody>\n",
       "</table>\n",
       "<p>34464 rows × 8 columns</p>\n",
       "</div>"
      ],
      "text/plain": [
       "                Timestamp  Demand  DayWeek  Is_Weekend  Is_Holiday  is_summer  \\\n",
       "0     2019-03-07 00:00:00     560        3           0           0          0   \n",
       "1     2019-03-07 00:15:00     612        3           0           0          0   \n",
       "2     2019-03-07 00:30:00     758        3           0           0          0   \n",
       "3     2019-03-07 00:45:00     711        3           0           0          0   \n",
       "4     2019-03-07 01:00:00     107        3           0           0          0   \n",
       "...                   ...     ...      ...         ...         ...        ...   \n",
       "34459 2020-02-29 22:45:00     221        5           1           0          0   \n",
       "34460 2020-02-29 23:00:00    1129        5           1           0          0   \n",
       "34461 2020-02-29 23:15:00     994        5           1           0          0   \n",
       "34462 2020-02-29 23:30:00    1154        5           1           0          0   \n",
       "34463 2020-02-29 23:45:00    1159        5           1           0          0   \n",
       "\n",
       "                  fun      Peak  \n",
       "0      Winter_Weekday  Off-Peak  \n",
       "1      Winter_Weekday  Off-Peak  \n",
       "2      Winter_Weekday  Off-Peak  \n",
       "3      Winter_Weekday  Off-Peak  \n",
       "4      Winter_Weekday  Off-Peak  \n",
       "...               ...       ...  \n",
       "34459  Winter_Weekend  Off-Peak  \n",
       "34460  Winter_Weekend  Off-Peak  \n",
       "34461  Winter_Weekend  Off-Peak  \n",
       "34462  Winter_Weekend  Off-Peak  \n",
       "34463  Winter_Weekend  Off-Peak  \n",
       "\n",
       "[34464 rows x 8 columns]"
      ]
     },
     "execution_count": 1,
     "metadata": {},
     "output_type": "execute_result"
    }
   ],
   "source": [
    "import pandas as pd \n",
    "import numpy as np\n",
    "import datetime\n",
    "import os \n",
    "os.chdir(\"/home/luisfernando/Git Code/Introduction-to-Data-Analysis/Lecture 3\")\n",
    "df = pd.read_excel(\"random_time_data.xlsx\")\n",
    "df"
   ]
  },
  {
   "cell_type": "code",
   "execution_count": 2,
   "metadata": {},
   "outputs": [
    {
     "data": {
      "text/plain": [
       "Timestamp     datetime64[ns]\n",
       "Demand                 int64\n",
       "DayWeek                int64\n",
       "Is_Weekend             int64\n",
       "Is_Holiday             int64\n",
       "is_summer              int64\n",
       "fun                   object\n",
       "Peak                  object\n",
       "dtype: object"
      ]
     },
     "execution_count": 2,
     "metadata": {},
     "output_type": "execute_result"
    }
   ],
   "source": [
    "df.dtypes"
   ]
  },
  {
   "cell_type": "code",
   "execution_count": 3,
   "metadata": {},
   "outputs": [
    {
     "data": {
      "text/plain": [
       "Timestamp('2020-01-01 00:00:00')"
      ]
     },
     "execution_count": 3,
     "metadata": {},
     "output_type": "execute_result"
    }
   ],
   "source": [
    "pd.Timestamp(year=2020, month=1, day=1, hour=0, minute=0, second=0)"
   ]
  },
  {
   "cell_type": "code",
   "execution_count": 4,
   "metadata": {},
   "outputs": [
    {
     "data": {
      "text/plain": [
       "Timestamp('2020-01-01 00:00:00')"
      ]
     },
     "execution_count": 4,
     "metadata": {},
     "output_type": "execute_result"
    }
   ],
   "source": [
    "pd.Timestamp(year=2020, month=1, day=1, hour=0, minute=0)"
   ]
  },
  {
   "cell_type": "code",
   "execution_count": 5,
   "metadata": {},
   "outputs": [
    {
     "data": {
      "text/plain": [
       "Timestamp('2020-01-01 00:00:00')"
      ]
     },
     "execution_count": 5,
     "metadata": {},
     "output_type": "execute_result"
    }
   ],
   "source": [
    "pd.Timestamp(year=2020, month=1, day=1, hour=0)"
   ]
  },
  {
   "cell_type": "code",
   "execution_count": 6,
   "metadata": {},
   "outputs": [
    {
     "data": {
      "text/plain": [
       "Timestamp('2020-01-01 00:00:00')"
      ]
     },
     "execution_count": 6,
     "metadata": {},
     "output_type": "execute_result"
    }
   ],
   "source": [
    "pd.Timestamp(year=2020, month=1, day=1)"
   ]
  },
  {
   "cell_type": "code",
   "execution_count": 7,
   "metadata": {},
   "outputs": [
    {
     "data": {
      "text/plain": [
       "Timestamp('2018-03-04 03:56:14')"
      ]
     },
     "execution_count": 7,
     "metadata": {},
     "output_type": "execute_result"
    }
   ],
   "source": [
    "pd.Timestamp(year=2018, month=3, day=4, hour=3, minute=56, second=14)"
   ]
  },
  {
   "cell_type": "code",
   "execution_count": 8,
   "metadata": {},
   "outputs": [
    {
     "data": {
      "text/plain": [
       "Timestamp('2018-03-04 03:45:00')"
      ]
     },
     "execution_count": 8,
     "metadata": {},
     "output_type": "execute_result"
    }
   ],
   "source": [
    "pd.Timestamp(year=2018, month=3, day=4, hour=3, minute=45)"
   ]
  },
  {
   "cell_type": "code",
   "execution_count": 9,
   "metadata": {},
   "outputs": [
    {
     "data": {
      "text/plain": [
       "0       2019-03-07 00:00:00\n",
       "1       2019-03-07 00:15:00\n",
       "2       2019-03-07 00:30:00\n",
       "3       2019-03-07 00:45:00\n",
       "4       2019-03-07 01:00:00\n",
       "                ...        \n",
       "34459   2020-02-29 22:45:00\n",
       "34460   2020-02-29 23:00:00\n",
       "34461   2020-02-29 23:15:00\n",
       "34462   2020-02-29 23:30:00\n",
       "34463   2020-02-29 23:45:00\n",
       "Name: Timestamp, Length: 34464, dtype: datetime64[ns]"
      ]
     },
     "execution_count": 9,
     "metadata": {},
     "output_type": "execute_result"
    }
   ],
   "source": [
    "df.Timestamp"
   ]
  },
  {
   "cell_type": "code",
   "execution_count": 10,
   "metadata": {},
   "outputs": [
    {
     "data": {
      "text/plain": [
       "0        00:00:00\n",
       "1        00:15:00\n",
       "2        00:30:00\n",
       "3        00:45:00\n",
       "4        01:00:00\n",
       "           ...   \n",
       "34459    22:45:00\n",
       "34460    23:00:00\n",
       "34461    23:15:00\n",
       "34462    23:30:00\n",
       "34463    23:45:00\n",
       "Name: Timestamp, Length: 34464, dtype: object"
      ]
     },
     "execution_count": 10,
     "metadata": {},
     "output_type": "execute_result"
    }
   ],
   "source": [
    "df.Timestamp.dt.time"
   ]
  },
  {
   "cell_type": "code",
   "execution_count": 11,
   "metadata": {},
   "outputs": [
    {
     "data": {
      "text/plain": [
       "0        2019-03-07\n",
       "1        2019-03-07\n",
       "2        2019-03-07\n",
       "3        2019-03-07\n",
       "4        2019-03-07\n",
       "            ...    \n",
       "34459    2020-02-29\n",
       "34460    2020-02-29\n",
       "34461    2020-02-29\n",
       "34462    2020-02-29\n",
       "34463    2020-02-29\n",
       "Name: Timestamp, Length: 34464, dtype: object"
      ]
     },
     "execution_count": 11,
     "metadata": {},
     "output_type": "execute_result"
    }
   ],
   "source": [
    "df.Timestamp.dt.date"
   ]
  },
  {
   "cell_type": "code",
   "execution_count": 12,
   "metadata": {},
   "outputs": [
    {
     "data": {
      "text/plain": [
       "0        False\n",
       "1        False\n",
       "2        False\n",
       "3        False\n",
       "4        False\n",
       "         ...  \n",
       "34459    False\n",
       "34460    False\n",
       "34461    False\n",
       "34462    False\n",
       "34463    False\n",
       "Name: Timestamp, Length: 34464, dtype: bool"
      ]
     },
     "execution_count": 12,
     "metadata": {},
     "output_type": "execute_result"
    }
   ],
   "source": [
    "df.Timestamp.between(pd.Timestamp(year=2020, month=1, day=1, hour=0, minute=0), pd.Timestamp(year=2020, month=2, day=1, hour=0, minute=0))"
   ]
  },
  {
   "cell_type": "code",
   "execution_count": 13,
   "metadata": {},
   "outputs": [
    {
     "data": {
      "text/html": [
       "<div>\n",
       "<style scoped>\n",
       "    .dataframe tbody tr th:only-of-type {\n",
       "        vertical-align: middle;\n",
       "    }\n",
       "\n",
       "    .dataframe tbody tr th {\n",
       "        vertical-align: top;\n",
       "    }\n",
       "\n",
       "    .dataframe thead th {\n",
       "        text-align: right;\n",
       "    }\n",
       "</style>\n",
       "<table border=\"1\" class=\"dataframe\">\n",
       "  <thead>\n",
       "    <tr style=\"text-align: right;\">\n",
       "      <th></th>\n",
       "      <th>Timestamp</th>\n",
       "      <th>Demand</th>\n",
       "      <th>DayWeek</th>\n",
       "      <th>Is_Weekend</th>\n",
       "      <th>Is_Holiday</th>\n",
       "      <th>is_summer</th>\n",
       "      <th>fun</th>\n",
       "      <th>Peak</th>\n",
       "    </tr>\n",
       "  </thead>\n",
       "  <tbody>\n",
       "    <tr>\n",
       "      <th>28704</th>\n",
       "      <td>2020-01-01 00:00:00</td>\n",
       "      <td>1333</td>\n",
       "      <td>2</td>\n",
       "      <td>0</td>\n",
       "      <td>1</td>\n",
       "      <td>0</td>\n",
       "      <td>Winter_Weekend</td>\n",
       "      <td>Off-Peak</td>\n",
       "    </tr>\n",
       "    <tr>\n",
       "      <th>28705</th>\n",
       "      <td>2020-01-01 00:15:00</td>\n",
       "      <td>199</td>\n",
       "      <td>2</td>\n",
       "      <td>0</td>\n",
       "      <td>1</td>\n",
       "      <td>0</td>\n",
       "      <td>Winter_Weekend</td>\n",
       "      <td>Off-Peak</td>\n",
       "    </tr>\n",
       "    <tr>\n",
       "      <th>28706</th>\n",
       "      <td>2020-01-01 00:30:00</td>\n",
       "      <td>578</td>\n",
       "      <td>2</td>\n",
       "      <td>0</td>\n",
       "      <td>1</td>\n",
       "      <td>0</td>\n",
       "      <td>Winter_Weekend</td>\n",
       "      <td>Off-Peak</td>\n",
       "    </tr>\n",
       "    <tr>\n",
       "      <th>28707</th>\n",
       "      <td>2020-01-01 00:45:00</td>\n",
       "      <td>1455</td>\n",
       "      <td>2</td>\n",
       "      <td>0</td>\n",
       "      <td>1</td>\n",
       "      <td>0</td>\n",
       "      <td>Winter_Weekend</td>\n",
       "      <td>Off-Peak</td>\n",
       "    </tr>\n",
       "    <tr>\n",
       "      <th>28708</th>\n",
       "      <td>2020-01-01 01:00:00</td>\n",
       "      <td>126</td>\n",
       "      <td>2</td>\n",
       "      <td>0</td>\n",
       "      <td>1</td>\n",
       "      <td>0</td>\n",
       "      <td>Winter_Weekend</td>\n",
       "      <td>Off-Peak</td>\n",
       "    </tr>\n",
       "    <tr>\n",
       "      <th>...</th>\n",
       "      <td>...</td>\n",
       "      <td>...</td>\n",
       "      <td>...</td>\n",
       "      <td>...</td>\n",
       "      <td>...</td>\n",
       "      <td>...</td>\n",
       "      <td>...</td>\n",
       "      <td>...</td>\n",
       "    </tr>\n",
       "    <tr>\n",
       "      <th>31676</th>\n",
       "      <td>2020-01-31 23:00:00</td>\n",
       "      <td>540</td>\n",
       "      <td>4</td>\n",
       "      <td>0</td>\n",
       "      <td>0</td>\n",
       "      <td>0</td>\n",
       "      <td>Winter_Weekday</td>\n",
       "      <td>Off-Peak</td>\n",
       "    </tr>\n",
       "    <tr>\n",
       "      <th>31677</th>\n",
       "      <td>2020-01-31 23:15:00</td>\n",
       "      <td>1303</td>\n",
       "      <td>4</td>\n",
       "      <td>0</td>\n",
       "      <td>0</td>\n",
       "      <td>0</td>\n",
       "      <td>Winter_Weekday</td>\n",
       "      <td>Off-Peak</td>\n",
       "    </tr>\n",
       "    <tr>\n",
       "      <th>31678</th>\n",
       "      <td>2020-01-31 23:30:00</td>\n",
       "      <td>320</td>\n",
       "      <td>4</td>\n",
       "      <td>0</td>\n",
       "      <td>0</td>\n",
       "      <td>0</td>\n",
       "      <td>Winter_Weekday</td>\n",
       "      <td>Off-Peak</td>\n",
       "    </tr>\n",
       "    <tr>\n",
       "      <th>31679</th>\n",
       "      <td>2020-01-31 23:45:00</td>\n",
       "      <td>1290</td>\n",
       "      <td>4</td>\n",
       "      <td>0</td>\n",
       "      <td>0</td>\n",
       "      <td>0</td>\n",
       "      <td>Winter_Weekday</td>\n",
       "      <td>Off-Peak</td>\n",
       "    </tr>\n",
       "    <tr>\n",
       "      <th>31680</th>\n",
       "      <td>2020-02-01 00:00:00</td>\n",
       "      <td>250</td>\n",
       "      <td>5</td>\n",
       "      <td>1</td>\n",
       "      <td>0</td>\n",
       "      <td>0</td>\n",
       "      <td>Winter_Weekend</td>\n",
       "      <td>Off-Peak</td>\n",
       "    </tr>\n",
       "  </tbody>\n",
       "</table>\n",
       "<p>2977 rows × 8 columns</p>\n",
       "</div>"
      ],
      "text/plain": [
       "                Timestamp  Demand  DayWeek  Is_Weekend  Is_Holiday  is_summer  \\\n",
       "28704 2020-01-01 00:00:00    1333        2           0           1          0   \n",
       "28705 2020-01-01 00:15:00     199        2           0           1          0   \n",
       "28706 2020-01-01 00:30:00     578        2           0           1          0   \n",
       "28707 2020-01-01 00:45:00    1455        2           0           1          0   \n",
       "28708 2020-01-01 01:00:00     126        2           0           1          0   \n",
       "...                   ...     ...      ...         ...         ...        ...   \n",
       "31676 2020-01-31 23:00:00     540        4           0           0          0   \n",
       "31677 2020-01-31 23:15:00    1303        4           0           0          0   \n",
       "31678 2020-01-31 23:30:00     320        4           0           0          0   \n",
       "31679 2020-01-31 23:45:00    1290        4           0           0          0   \n",
       "31680 2020-02-01 00:00:00     250        5           1           0          0   \n",
       "\n",
       "                  fun      Peak  \n",
       "28704  Winter_Weekend  Off-Peak  \n",
       "28705  Winter_Weekend  Off-Peak  \n",
       "28706  Winter_Weekend  Off-Peak  \n",
       "28707  Winter_Weekend  Off-Peak  \n",
       "28708  Winter_Weekend  Off-Peak  \n",
       "...               ...       ...  \n",
       "31676  Winter_Weekday  Off-Peak  \n",
       "31677  Winter_Weekday  Off-Peak  \n",
       "31678  Winter_Weekday  Off-Peak  \n",
       "31679  Winter_Weekday  Off-Peak  \n",
       "31680  Winter_Weekend  Off-Peak  \n",
       "\n",
       "[2977 rows x 8 columns]"
      ]
     },
     "execution_count": 13,
     "metadata": {},
     "output_type": "execute_result"
    }
   ],
   "source": [
    "df[df.Timestamp.between(pd.Timestamp(year=2020, month=1, day=1, hour=0, minute=0), pd.Timestamp(year=2020, month=2, day=1, hour=0, minute=0))]"
   ]
  },
  {
   "cell_type": "code",
   "execution_count": 14,
   "metadata": {},
   "outputs": [
    {
     "data": {
      "text/html": [
       "<div>\n",
       "<style scoped>\n",
       "    .dataframe tbody tr th:only-of-type {\n",
       "        vertical-align: middle;\n",
       "    }\n",
       "\n",
       "    .dataframe tbody tr th {\n",
       "        vertical-align: top;\n",
       "    }\n",
       "\n",
       "    .dataframe thead th {\n",
       "        text-align: right;\n",
       "    }\n",
       "</style>\n",
       "<table border=\"1\" class=\"dataframe\">\n",
       "  <thead>\n",
       "    <tr style=\"text-align: right;\">\n",
       "      <th></th>\n",
       "      <th>Timestamp</th>\n",
       "      <th>Demand</th>\n",
       "      <th>DayWeek</th>\n",
       "      <th>Is_Weekend</th>\n",
       "      <th>Is_Holiday</th>\n",
       "      <th>is_summer</th>\n",
       "      <th>fun</th>\n",
       "      <th>Peak</th>\n",
       "    </tr>\n",
       "  </thead>\n",
       "  <tbody>\n",
       "    <tr>\n",
       "      <th>28705</th>\n",
       "      <td>2020-01-01 00:15:00</td>\n",
       "      <td>199</td>\n",
       "      <td>2</td>\n",
       "      <td>0</td>\n",
       "      <td>1</td>\n",
       "      <td>0</td>\n",
       "      <td>Winter_Weekend</td>\n",
       "      <td>Off-Peak</td>\n",
       "    </tr>\n",
       "    <tr>\n",
       "      <th>28706</th>\n",
       "      <td>2020-01-01 00:30:00</td>\n",
       "      <td>578</td>\n",
       "      <td>2</td>\n",
       "      <td>0</td>\n",
       "      <td>1</td>\n",
       "      <td>0</td>\n",
       "      <td>Winter_Weekend</td>\n",
       "      <td>Off-Peak</td>\n",
       "    </tr>\n",
       "    <tr>\n",
       "      <th>28707</th>\n",
       "      <td>2020-01-01 00:45:00</td>\n",
       "      <td>1455</td>\n",
       "      <td>2</td>\n",
       "      <td>0</td>\n",
       "      <td>1</td>\n",
       "      <td>0</td>\n",
       "      <td>Winter_Weekend</td>\n",
       "      <td>Off-Peak</td>\n",
       "    </tr>\n",
       "    <tr>\n",
       "      <th>28708</th>\n",
       "      <td>2020-01-01 01:00:00</td>\n",
       "      <td>126</td>\n",
       "      <td>2</td>\n",
       "      <td>0</td>\n",
       "      <td>1</td>\n",
       "      <td>0</td>\n",
       "      <td>Winter_Weekend</td>\n",
       "      <td>Off-Peak</td>\n",
       "    </tr>\n",
       "    <tr>\n",
       "      <th>28709</th>\n",
       "      <td>2020-01-01 01:15:00</td>\n",
       "      <td>124</td>\n",
       "      <td>2</td>\n",
       "      <td>0</td>\n",
       "      <td>1</td>\n",
       "      <td>0</td>\n",
       "      <td>Winter_Weekend</td>\n",
       "      <td>Off-Peak</td>\n",
       "    </tr>\n",
       "    <tr>\n",
       "      <th>...</th>\n",
       "      <td>...</td>\n",
       "      <td>...</td>\n",
       "      <td>...</td>\n",
       "      <td>...</td>\n",
       "      <td>...</td>\n",
       "      <td>...</td>\n",
       "      <td>...</td>\n",
       "      <td>...</td>\n",
       "    </tr>\n",
       "    <tr>\n",
       "      <th>31675</th>\n",
       "      <td>2020-01-31 22:45:00</td>\n",
       "      <td>700</td>\n",
       "      <td>4</td>\n",
       "      <td>0</td>\n",
       "      <td>0</td>\n",
       "      <td>0</td>\n",
       "      <td>Winter_Weekday</td>\n",
       "      <td>Off-Peak</td>\n",
       "    </tr>\n",
       "    <tr>\n",
       "      <th>31676</th>\n",
       "      <td>2020-01-31 23:00:00</td>\n",
       "      <td>540</td>\n",
       "      <td>4</td>\n",
       "      <td>0</td>\n",
       "      <td>0</td>\n",
       "      <td>0</td>\n",
       "      <td>Winter_Weekday</td>\n",
       "      <td>Off-Peak</td>\n",
       "    </tr>\n",
       "    <tr>\n",
       "      <th>31677</th>\n",
       "      <td>2020-01-31 23:15:00</td>\n",
       "      <td>1303</td>\n",
       "      <td>4</td>\n",
       "      <td>0</td>\n",
       "      <td>0</td>\n",
       "      <td>0</td>\n",
       "      <td>Winter_Weekday</td>\n",
       "      <td>Off-Peak</td>\n",
       "    </tr>\n",
       "    <tr>\n",
       "      <th>31678</th>\n",
       "      <td>2020-01-31 23:30:00</td>\n",
       "      <td>320</td>\n",
       "      <td>4</td>\n",
       "      <td>0</td>\n",
       "      <td>0</td>\n",
       "      <td>0</td>\n",
       "      <td>Winter_Weekday</td>\n",
       "      <td>Off-Peak</td>\n",
       "    </tr>\n",
       "    <tr>\n",
       "      <th>31679</th>\n",
       "      <td>2020-01-31 23:45:00</td>\n",
       "      <td>1290</td>\n",
       "      <td>4</td>\n",
       "      <td>0</td>\n",
       "      <td>0</td>\n",
       "      <td>0</td>\n",
       "      <td>Winter_Weekday</td>\n",
       "      <td>Off-Peak</td>\n",
       "    </tr>\n",
       "  </tbody>\n",
       "</table>\n",
       "<p>2975 rows × 8 columns</p>\n",
       "</div>"
      ],
      "text/plain": [
       "                Timestamp  Demand  DayWeek  Is_Weekend  Is_Holiday  is_summer  \\\n",
       "28705 2020-01-01 00:15:00     199        2           0           1          0   \n",
       "28706 2020-01-01 00:30:00     578        2           0           1          0   \n",
       "28707 2020-01-01 00:45:00    1455        2           0           1          0   \n",
       "28708 2020-01-01 01:00:00     126        2           0           1          0   \n",
       "28709 2020-01-01 01:15:00     124        2           0           1          0   \n",
       "...                   ...     ...      ...         ...         ...        ...   \n",
       "31675 2020-01-31 22:45:00     700        4           0           0          0   \n",
       "31676 2020-01-31 23:00:00     540        4           0           0          0   \n",
       "31677 2020-01-31 23:15:00    1303        4           0           0          0   \n",
       "31678 2020-01-31 23:30:00     320        4           0           0          0   \n",
       "31679 2020-01-31 23:45:00    1290        4           0           0          0   \n",
       "\n",
       "                  fun      Peak  \n",
       "28705  Winter_Weekend  Off-Peak  \n",
       "28706  Winter_Weekend  Off-Peak  \n",
       "28707  Winter_Weekend  Off-Peak  \n",
       "28708  Winter_Weekend  Off-Peak  \n",
       "28709  Winter_Weekend  Off-Peak  \n",
       "...               ...       ...  \n",
       "31675  Winter_Weekday  Off-Peak  \n",
       "31676  Winter_Weekday  Off-Peak  \n",
       "31677  Winter_Weekday  Off-Peak  \n",
       "31678  Winter_Weekday  Off-Peak  \n",
       "31679  Winter_Weekday  Off-Peak  \n",
       "\n",
       "[2975 rows x 8 columns]"
      ]
     },
     "execution_count": 14,
     "metadata": {},
     "output_type": "execute_result"
    }
   ],
   "source": [
    "df[df.Timestamp.between(pd.Timestamp(year=2020, month=1, day=1, hour=0, minute=0), pd.Timestamp(year=2020, month=2, day=1, hour=0, minute=0),  inclusive = False)]"
   ]
  },
  {
   "cell_type": "code",
   "execution_count": 15,
   "metadata": {},
   "outputs": [
    {
     "data": {
      "text/html": [
       "<div>\n",
       "<style scoped>\n",
       "    .dataframe tbody tr th:only-of-type {\n",
       "        vertical-align: middle;\n",
       "    }\n",
       "\n",
       "    .dataframe tbody tr th {\n",
       "        vertical-align: top;\n",
       "    }\n",
       "\n",
       "    .dataframe thead th {\n",
       "        text-align: right;\n",
       "    }\n",
       "</style>\n",
       "<table border=\"1\" class=\"dataframe\">\n",
       "  <thead>\n",
       "    <tr style=\"text-align: right;\">\n",
       "      <th></th>\n",
       "      <th>Timestamp</th>\n",
       "      <th>Demand</th>\n",
       "      <th>DayWeek</th>\n",
       "      <th>Is_Weekend</th>\n",
       "      <th>Is_Holiday</th>\n",
       "      <th>is_summer</th>\n",
       "      <th>fun</th>\n",
       "      <th>Peak</th>\n",
       "    </tr>\n",
       "  </thead>\n",
       "  <tbody>\n",
       "    <tr>\n",
       "      <th>28704</th>\n",
       "      <td>2020-01-01 00:00:00</td>\n",
       "      <td>1333</td>\n",
       "      <td>2</td>\n",
       "      <td>0</td>\n",
       "      <td>1</td>\n",
       "      <td>0</td>\n",
       "      <td>Winter_Weekend</td>\n",
       "      <td>Off-Peak</td>\n",
       "    </tr>\n",
       "    <tr>\n",
       "      <th>28705</th>\n",
       "      <td>2020-01-01 00:15:00</td>\n",
       "      <td>199</td>\n",
       "      <td>2</td>\n",
       "      <td>0</td>\n",
       "      <td>1</td>\n",
       "      <td>0</td>\n",
       "      <td>Winter_Weekend</td>\n",
       "      <td>Off-Peak</td>\n",
       "    </tr>\n",
       "    <tr>\n",
       "      <th>28706</th>\n",
       "      <td>2020-01-01 00:30:00</td>\n",
       "      <td>578</td>\n",
       "      <td>2</td>\n",
       "      <td>0</td>\n",
       "      <td>1</td>\n",
       "      <td>0</td>\n",
       "      <td>Winter_Weekend</td>\n",
       "      <td>Off-Peak</td>\n",
       "    </tr>\n",
       "    <tr>\n",
       "      <th>28707</th>\n",
       "      <td>2020-01-01 00:45:00</td>\n",
       "      <td>1455</td>\n",
       "      <td>2</td>\n",
       "      <td>0</td>\n",
       "      <td>1</td>\n",
       "      <td>0</td>\n",
       "      <td>Winter_Weekend</td>\n",
       "      <td>Off-Peak</td>\n",
       "    </tr>\n",
       "    <tr>\n",
       "      <th>28708</th>\n",
       "      <td>2020-01-01 01:00:00</td>\n",
       "      <td>126</td>\n",
       "      <td>2</td>\n",
       "      <td>0</td>\n",
       "      <td>1</td>\n",
       "      <td>0</td>\n",
       "      <td>Winter_Weekend</td>\n",
       "      <td>Off-Peak</td>\n",
       "    </tr>\n",
       "    <tr>\n",
       "      <th>...</th>\n",
       "      <td>...</td>\n",
       "      <td>...</td>\n",
       "      <td>...</td>\n",
       "      <td>...</td>\n",
       "      <td>...</td>\n",
       "      <td>...</td>\n",
       "      <td>...</td>\n",
       "      <td>...</td>\n",
       "    </tr>\n",
       "    <tr>\n",
       "      <th>31676</th>\n",
       "      <td>2020-01-31 23:00:00</td>\n",
       "      <td>540</td>\n",
       "      <td>4</td>\n",
       "      <td>0</td>\n",
       "      <td>0</td>\n",
       "      <td>0</td>\n",
       "      <td>Winter_Weekday</td>\n",
       "      <td>Off-Peak</td>\n",
       "    </tr>\n",
       "    <tr>\n",
       "      <th>31677</th>\n",
       "      <td>2020-01-31 23:15:00</td>\n",
       "      <td>1303</td>\n",
       "      <td>4</td>\n",
       "      <td>0</td>\n",
       "      <td>0</td>\n",
       "      <td>0</td>\n",
       "      <td>Winter_Weekday</td>\n",
       "      <td>Off-Peak</td>\n",
       "    </tr>\n",
       "    <tr>\n",
       "      <th>31678</th>\n",
       "      <td>2020-01-31 23:30:00</td>\n",
       "      <td>320</td>\n",
       "      <td>4</td>\n",
       "      <td>0</td>\n",
       "      <td>0</td>\n",
       "      <td>0</td>\n",
       "      <td>Winter_Weekday</td>\n",
       "      <td>Off-Peak</td>\n",
       "    </tr>\n",
       "    <tr>\n",
       "      <th>31679</th>\n",
       "      <td>2020-01-31 23:45:00</td>\n",
       "      <td>1290</td>\n",
       "      <td>4</td>\n",
       "      <td>0</td>\n",
       "      <td>0</td>\n",
       "      <td>0</td>\n",
       "      <td>Winter_Weekday</td>\n",
       "      <td>Off-Peak</td>\n",
       "    </tr>\n",
       "    <tr>\n",
       "      <th>31680</th>\n",
       "      <td>2020-02-01 00:00:00</td>\n",
       "      <td>250</td>\n",
       "      <td>5</td>\n",
       "      <td>1</td>\n",
       "      <td>0</td>\n",
       "      <td>0</td>\n",
       "      <td>Winter_Weekend</td>\n",
       "      <td>Off-Peak</td>\n",
       "    </tr>\n",
       "  </tbody>\n",
       "</table>\n",
       "<p>2977 rows × 8 columns</p>\n",
       "</div>"
      ],
      "text/plain": [
       "                Timestamp  Demand  DayWeek  Is_Weekend  Is_Holiday  is_summer  \\\n",
       "28704 2020-01-01 00:00:00    1333        2           0           1          0   \n",
       "28705 2020-01-01 00:15:00     199        2           0           1          0   \n",
       "28706 2020-01-01 00:30:00     578        2           0           1          0   \n",
       "28707 2020-01-01 00:45:00    1455        2           0           1          0   \n",
       "28708 2020-01-01 01:00:00     126        2           0           1          0   \n",
       "...                   ...     ...      ...         ...         ...        ...   \n",
       "31676 2020-01-31 23:00:00     540        4           0           0          0   \n",
       "31677 2020-01-31 23:15:00    1303        4           0           0          0   \n",
       "31678 2020-01-31 23:30:00     320        4           0           0          0   \n",
       "31679 2020-01-31 23:45:00    1290        4           0           0          0   \n",
       "31680 2020-02-01 00:00:00     250        5           1           0          0   \n",
       "\n",
       "                  fun      Peak  \n",
       "28704  Winter_Weekend  Off-Peak  \n",
       "28705  Winter_Weekend  Off-Peak  \n",
       "28706  Winter_Weekend  Off-Peak  \n",
       "28707  Winter_Weekend  Off-Peak  \n",
       "28708  Winter_Weekend  Off-Peak  \n",
       "...               ...       ...  \n",
       "31676  Winter_Weekday  Off-Peak  \n",
       "31677  Winter_Weekday  Off-Peak  \n",
       "31678  Winter_Weekday  Off-Peak  \n",
       "31679  Winter_Weekday  Off-Peak  \n",
       "31680  Winter_Weekend  Off-Peak  \n",
       "\n",
       "[2977 rows x 8 columns]"
      ]
     },
     "execution_count": 15,
     "metadata": {},
     "output_type": "execute_result"
    }
   ],
   "source": [
    "january = df[df.Timestamp.between(pd.Timestamp(year=2020, month=1, day=1, hour=0, minute=0), pd.Timestamp(year=2020, month=2, day=1, hour=0, minute=0))]\n",
    "january"
   ]
  },
  {
   "cell_type": "code",
   "execution_count": 16,
   "metadata": {},
   "outputs": [
    {
     "data": {
      "text/html": [
       "<div>\n",
       "<style scoped>\n",
       "    .dataframe tbody tr th:only-of-type {\n",
       "        vertical-align: middle;\n",
       "    }\n",
       "\n",
       "    .dataframe tbody tr th {\n",
       "        vertical-align: top;\n",
       "    }\n",
       "\n",
       "    .dataframe thead th {\n",
       "        text-align: right;\n",
       "    }\n",
       "</style>\n",
       "<table border=\"1\" class=\"dataframe\">\n",
       "  <thead>\n",
       "    <tr style=\"text-align: right;\">\n",
       "      <th></th>\n",
       "      <th>Timestamp</th>\n",
       "      <th>Demand</th>\n",
       "      <th>DayWeek</th>\n",
       "      <th>Is_Weekend</th>\n",
       "      <th>Is_Holiday</th>\n",
       "      <th>is_summer</th>\n",
       "      <th>fun</th>\n",
       "      <th>Peak</th>\n",
       "    </tr>\n",
       "  </thead>\n",
       "  <tbody>\n",
       "    <tr>\n",
       "      <th>0</th>\n",
       "      <td>2020-01-01 00:00:00</td>\n",
       "      <td>1333</td>\n",
       "      <td>2</td>\n",
       "      <td>0</td>\n",
       "      <td>1</td>\n",
       "      <td>0</td>\n",
       "      <td>Winter_Weekend</td>\n",
       "      <td>Off-Peak</td>\n",
       "    </tr>\n",
       "    <tr>\n",
       "      <th>1</th>\n",
       "      <td>2020-01-01 00:15:00</td>\n",
       "      <td>199</td>\n",
       "      <td>2</td>\n",
       "      <td>0</td>\n",
       "      <td>1</td>\n",
       "      <td>0</td>\n",
       "      <td>Winter_Weekend</td>\n",
       "      <td>Off-Peak</td>\n",
       "    </tr>\n",
       "    <tr>\n",
       "      <th>2</th>\n",
       "      <td>2020-01-01 00:30:00</td>\n",
       "      <td>578</td>\n",
       "      <td>2</td>\n",
       "      <td>0</td>\n",
       "      <td>1</td>\n",
       "      <td>0</td>\n",
       "      <td>Winter_Weekend</td>\n",
       "      <td>Off-Peak</td>\n",
       "    </tr>\n",
       "    <tr>\n",
       "      <th>3</th>\n",
       "      <td>2020-01-01 00:45:00</td>\n",
       "      <td>1455</td>\n",
       "      <td>2</td>\n",
       "      <td>0</td>\n",
       "      <td>1</td>\n",
       "      <td>0</td>\n",
       "      <td>Winter_Weekend</td>\n",
       "      <td>Off-Peak</td>\n",
       "    </tr>\n",
       "    <tr>\n",
       "      <th>4</th>\n",
       "      <td>2020-01-01 01:00:00</td>\n",
       "      <td>126</td>\n",
       "      <td>2</td>\n",
       "      <td>0</td>\n",
       "      <td>1</td>\n",
       "      <td>0</td>\n",
       "      <td>Winter_Weekend</td>\n",
       "      <td>Off-Peak</td>\n",
       "    </tr>\n",
       "    <tr>\n",
       "      <th>...</th>\n",
       "      <td>...</td>\n",
       "      <td>...</td>\n",
       "      <td>...</td>\n",
       "      <td>...</td>\n",
       "      <td>...</td>\n",
       "      <td>...</td>\n",
       "      <td>...</td>\n",
       "      <td>...</td>\n",
       "    </tr>\n",
       "    <tr>\n",
       "      <th>2972</th>\n",
       "      <td>2020-01-31 23:00:00</td>\n",
       "      <td>540</td>\n",
       "      <td>4</td>\n",
       "      <td>0</td>\n",
       "      <td>0</td>\n",
       "      <td>0</td>\n",
       "      <td>Winter_Weekday</td>\n",
       "      <td>Off-Peak</td>\n",
       "    </tr>\n",
       "    <tr>\n",
       "      <th>2973</th>\n",
       "      <td>2020-01-31 23:15:00</td>\n",
       "      <td>1303</td>\n",
       "      <td>4</td>\n",
       "      <td>0</td>\n",
       "      <td>0</td>\n",
       "      <td>0</td>\n",
       "      <td>Winter_Weekday</td>\n",
       "      <td>Off-Peak</td>\n",
       "    </tr>\n",
       "    <tr>\n",
       "      <th>2974</th>\n",
       "      <td>2020-01-31 23:30:00</td>\n",
       "      <td>320</td>\n",
       "      <td>4</td>\n",
       "      <td>0</td>\n",
       "      <td>0</td>\n",
       "      <td>0</td>\n",
       "      <td>Winter_Weekday</td>\n",
       "      <td>Off-Peak</td>\n",
       "    </tr>\n",
       "    <tr>\n",
       "      <th>2975</th>\n",
       "      <td>2020-01-31 23:45:00</td>\n",
       "      <td>1290</td>\n",
       "      <td>4</td>\n",
       "      <td>0</td>\n",
       "      <td>0</td>\n",
       "      <td>0</td>\n",
       "      <td>Winter_Weekday</td>\n",
       "      <td>Off-Peak</td>\n",
       "    </tr>\n",
       "    <tr>\n",
       "      <th>2976</th>\n",
       "      <td>2020-02-01 00:00:00</td>\n",
       "      <td>250</td>\n",
       "      <td>5</td>\n",
       "      <td>1</td>\n",
       "      <td>0</td>\n",
       "      <td>0</td>\n",
       "      <td>Winter_Weekend</td>\n",
       "      <td>Off-Peak</td>\n",
       "    </tr>\n",
       "  </tbody>\n",
       "</table>\n",
       "<p>2977 rows × 8 columns</p>\n",
       "</div>"
      ],
      "text/plain": [
       "               Timestamp  Demand  DayWeek  Is_Weekend  Is_Holiday  is_summer  \\\n",
       "0    2020-01-01 00:00:00    1333        2           0           1          0   \n",
       "1    2020-01-01 00:15:00     199        2           0           1          0   \n",
       "2    2020-01-01 00:30:00     578        2           0           1          0   \n",
       "3    2020-01-01 00:45:00    1455        2           0           1          0   \n",
       "4    2020-01-01 01:00:00     126        2           0           1          0   \n",
       "...                  ...     ...      ...         ...         ...        ...   \n",
       "2972 2020-01-31 23:00:00     540        4           0           0          0   \n",
       "2973 2020-01-31 23:15:00    1303        4           0           0          0   \n",
       "2974 2020-01-31 23:30:00     320        4           0           0          0   \n",
       "2975 2020-01-31 23:45:00    1290        4           0           0          0   \n",
       "2976 2020-02-01 00:00:00     250        5           1           0          0   \n",
       "\n",
       "                 fun      Peak  \n",
       "0     Winter_Weekend  Off-Peak  \n",
       "1     Winter_Weekend  Off-Peak  \n",
       "2     Winter_Weekend  Off-Peak  \n",
       "3     Winter_Weekend  Off-Peak  \n",
       "4     Winter_Weekend  Off-Peak  \n",
       "...              ...       ...  \n",
       "2972  Winter_Weekday  Off-Peak  \n",
       "2973  Winter_Weekday  Off-Peak  \n",
       "2974  Winter_Weekday  Off-Peak  \n",
       "2975  Winter_Weekday  Off-Peak  \n",
       "2976  Winter_Weekend  Off-Peak  \n",
       "\n",
       "[2977 rows x 8 columns]"
      ]
     },
     "execution_count": 16,
     "metadata": {},
     "output_type": "execute_result"
    }
   ],
   "source": [
    "january = january.reset_index(drop=True)\n",
    "january"
   ]
  },
  {
   "cell_type": "code",
   "execution_count": 17,
   "metadata": {},
   "outputs": [
    {
     "data": {
      "text/plain": [
       "1499"
      ]
     },
     "execution_count": 17,
     "metadata": {},
     "output_type": "execute_result"
    }
   ],
   "source": [
    "january.Demand.max()"
   ]
  },
  {
   "cell_type": "code",
   "execution_count": 18,
   "metadata": {},
   "outputs": [
    {
     "data": {
      "text/plain": [
       "5051"
      ]
     },
     "execution_count": 18,
     "metadata": {},
     "output_type": "execute_result"
    }
   ],
   "source": [
    "df.Demand.max()"
   ]
  },
  {
   "cell_type": "code",
   "execution_count": 19,
   "metadata": {},
   "outputs": [
    {
     "data": {
      "text/plain": [
       "64       484\n",
       "65      1394\n",
       "66      1338\n",
       "67       947\n",
       "68      1365\n",
       "        ... \n",
       "2959     283\n",
       "2960    1259\n",
       "2961     177\n",
       "2962     282\n",
       "2963     980\n",
       "Name: Demand, Length: 620, dtype: int64"
      ]
     },
     "execution_count": 19,
     "metadata": {},
     "output_type": "execute_result"
    }
   ],
   "source": [
    "january.Demand[df.Peak == \"Mid-Peak\"]"
   ]
  },
  {
   "cell_type": "code",
   "execution_count": 20,
   "metadata": {},
   "outputs": [
    {
     "data": {
      "text/plain": [
       "1494"
      ]
     },
     "execution_count": 20,
     "metadata": {},
     "output_type": "execute_result"
    }
   ],
   "source": [
    "january.Demand[df.Peak == \"Mid-Peak\"].max()"
   ]
  },
  {
   "cell_type": "code",
   "execution_count": 21,
   "metadata": {},
   "outputs": [
    {
     "data": {
      "text/html": [
       "<div>\n",
       "<style scoped>\n",
       "    .dataframe tbody tr th:only-of-type {\n",
       "        vertical-align: middle;\n",
       "    }\n",
       "\n",
       "    .dataframe tbody tr th {\n",
       "        vertical-align: top;\n",
       "    }\n",
       "\n",
       "    .dataframe thead th {\n",
       "        text-align: right;\n",
       "    }\n",
       "</style>\n",
       "<table border=\"1\" class=\"dataframe\">\n",
       "  <thead>\n",
       "    <tr style=\"text-align: right;\">\n",
       "      <th></th>\n",
       "      <th>billing_month</th>\n",
       "    </tr>\n",
       "  </thead>\n",
       "  <tbody>\n",
       "    <tr>\n",
       "      <th>0</th>\n",
       "      <td>2019-03-15</td>\n",
       "    </tr>\n",
       "    <tr>\n",
       "      <th>1</th>\n",
       "      <td>2019-04-17</td>\n",
       "    </tr>\n",
       "    <tr>\n",
       "      <th>2</th>\n",
       "      <td>2019-05-16</td>\n",
       "    </tr>\n",
       "    <tr>\n",
       "      <th>3</th>\n",
       "      <td>2019-06-14</td>\n",
       "    </tr>\n",
       "    <tr>\n",
       "      <th>4</th>\n",
       "      <td>2019-07-18</td>\n",
       "    </tr>\n",
       "    <tr>\n",
       "      <th>5</th>\n",
       "      <td>2019-08-15</td>\n",
       "    </tr>\n",
       "    <tr>\n",
       "      <th>6</th>\n",
       "      <td>2019-09-16</td>\n",
       "    </tr>\n",
       "    <tr>\n",
       "      <th>7</th>\n",
       "      <td>2019-10-14</td>\n",
       "    </tr>\n",
       "    <tr>\n",
       "      <th>8</th>\n",
       "      <td>2019-11-18</td>\n",
       "    </tr>\n",
       "    <tr>\n",
       "      <th>9</th>\n",
       "      <td>2019-12-17</td>\n",
       "    </tr>\n",
       "    <tr>\n",
       "      <th>10</th>\n",
       "      <td>2020-01-16</td>\n",
       "    </tr>\n",
       "    <tr>\n",
       "      <th>11</th>\n",
       "      <td>2020-02-20</td>\n",
       "    </tr>\n",
       "  </tbody>\n",
       "</table>\n",
       "</div>"
      ],
      "text/plain": [
       "   billing_month\n",
       "0     2019-03-15\n",
       "1     2019-04-17\n",
       "2     2019-05-16\n",
       "3     2019-06-14\n",
       "4     2019-07-18\n",
       "5     2019-08-15\n",
       "6     2019-09-16\n",
       "7     2019-10-14\n",
       "8     2019-11-18\n",
       "9     2019-12-17\n",
       "10    2020-01-16\n",
       "11    2020-02-20"
      ]
     },
     "execution_count": 21,
     "metadata": {},
     "output_type": "execute_result"
    }
   ],
   "source": [
    "billing = pd.read_excel(\"billing_month.xlsx\")\n",
    "billing"
   ]
  },
  {
   "cell_type": "code",
   "execution_count": 22,
   "metadata": {},
   "outputs": [
    {
     "data": {
      "text/plain": [
       "billing_month    datetime64[ns]\n",
       "dtype: object"
      ]
     },
     "execution_count": 22,
     "metadata": {},
     "output_type": "execute_result"
    }
   ],
   "source": [
    "billing.dtypes"
   ]
  },
  {
   "cell_type": "code",
   "execution_count": 23,
   "metadata": {},
   "outputs": [
    {
     "data": {
      "text/plain": [
       "0    2019-03-15\n",
       "1    2019-04-17\n",
       "2    2019-05-16\n",
       "3    2019-06-14\n",
       "4    2019-07-18\n",
       "5    2019-08-15\n",
       "6    2019-09-16\n",
       "7    2019-10-14\n",
       "8    2019-11-18\n",
       "9    2019-12-17\n",
       "10   2020-01-16\n",
       "11   2020-02-20\n",
       "Name: billing_month, dtype: datetime64[ns]"
      ]
     },
     "execution_count": 23,
     "metadata": {},
     "output_type": "execute_result"
    }
   ],
   "source": [
    "billing.billing_month"
   ]
  },
  {
   "cell_type": "code",
   "execution_count": 24,
   "metadata": {},
   "outputs": [
    {
     "data": {
      "text/plain": [
       "Timestamp('2019-03-15 00:00:00')"
      ]
     },
     "execution_count": 24,
     "metadata": {},
     "output_type": "execute_result"
    }
   ],
   "source": [
    "billing.billing_month[0]"
   ]
  },
  {
   "cell_type": "code",
   "execution_count": 25,
   "metadata": {},
   "outputs": [
    {
     "data": {
      "text/plain": [
       "Timestamp('2019-03-15 12:00:00')"
      ]
     },
     "execution_count": 25,
     "metadata": {},
     "output_type": "execute_result"
    }
   ],
   "source": [
    "billing.billing_month[0] + pd.DateOffset(hours=12)"
   ]
  },
  {
   "cell_type": "code",
   "execution_count": 26,
   "metadata": {},
   "outputs": [
    {
     "data": {
      "text/plain": [
       "{0:                Timestamp  Demand  DayWeek  Is_Weekend  Is_Holiday  is_summer  \\\n",
       " 768  2019-03-15 00:00:00     414        4           0           0          0   \n",
       " 769  2019-03-15 00:15:00     235        4           0           0          0   \n",
       " 770  2019-03-15 00:30:00    1191        4           0           0          0   \n",
       " 771  2019-03-15 00:45:00     453        4           0           0          0   \n",
       " 772  2019-03-15 01:00:00    1242        4           0           0          0   \n",
       " ...                  ...     ...      ...         ...         ...        ...   \n",
       " 3835 2019-04-16 22:45:00    1321        1           0           0          0   \n",
       " 3836 2019-04-16 23:00:00     179        1           0           0          0   \n",
       " 3837 2019-04-16 23:15:00    1021        1           0           0          0   \n",
       " 3838 2019-04-16 23:30:00     734        1           0           0          0   \n",
       " 3839 2019-04-16 23:45:00     874        1           0           0          0   \n",
       " \n",
       "                  fun      Peak  \n",
       " 768   Winter_Weekday  Off-Peak  \n",
       " 769   Winter_Weekday  Off-Peak  \n",
       " 770   Winter_Weekday  Off-Peak  \n",
       " 771   Winter_Weekday  Off-Peak  \n",
       " 772   Winter_Weekday  Off-Peak  \n",
       " ...              ...       ...  \n",
       " 3835  Winter_Weekday  Off-Peak  \n",
       " 3836  Winter_Weekday  Off-Peak  \n",
       " 3837  Winter_Weekday  Off-Peak  \n",
       " 3838  Winter_Weekday  Off-Peak  \n",
       " 3839  Winter_Weekday  Off-Peak  \n",
       " \n",
       " [3072 rows x 8 columns],\n",
       " 1:                Timestamp  Demand  DayWeek  Is_Weekend  Is_Holiday  is_summer  \\\n",
       " 3840 2019-04-17 00:00:00    1264        2           0           0          0   \n",
       " 3841 2019-04-17 00:15:00    1449        2           0           0          0   \n",
       " 3842 2019-04-17 00:30:00     135        2           0           0          0   \n",
       " 3843 2019-04-17 00:45:00    1290        2           0           0          0   \n",
       " 3844 2019-04-17 01:00:00     313        2           0           0          0   \n",
       " ...                  ...     ...      ...         ...         ...        ...   \n",
       " 6619 2019-05-15 22:45:00    1357        2           0           0          0   \n",
       " 6620 2019-05-15 23:00:00     625        2           0           0          0   \n",
       " 6621 2019-05-15 23:15:00     659        2           0           0          0   \n",
       " 6622 2019-05-15 23:30:00     433        2           0           0          0   \n",
       " 6623 2019-05-15 23:45:00    1105        2           0           0          0   \n",
       " \n",
       "                  fun      Peak  \n",
       " 3840  Winter_Weekday  Off-Peak  \n",
       " 3841  Winter_Weekday  Off-Peak  \n",
       " 3842  Winter_Weekday  Off-Peak  \n",
       " 3843  Winter_Weekday  Off-Peak  \n",
       " 3844  Winter_Weekday  Off-Peak  \n",
       " ...              ...       ...  \n",
       " 6619  Winter_Weekday  Off-Peak  \n",
       " 6620  Winter_Weekday  Off-Peak  \n",
       " 6621  Winter_Weekday  Off-Peak  \n",
       " 6622  Winter_Weekday  Off-Peak  \n",
       " 6623  Winter_Weekday  Off-Peak  \n",
       " \n",
       " [2784 rows x 8 columns],\n",
       " 2:                Timestamp  Demand  DayWeek  Is_Weekend  Is_Holiday  is_summer  \\\n",
       " 6624 2019-05-16 00:00:00     721        3           0           0          0   \n",
       " 6625 2019-05-16 00:15:00    1395        3           0           0          0   \n",
       " 6626 2019-05-16 00:30:00     891        3           0           0          0   \n",
       " 6627 2019-05-16 00:45:00     680        3           0           0          0   \n",
       " 6628 2019-05-16 01:00:00    1262        3           0           0          0   \n",
       " ...                  ...     ...      ...         ...         ...        ...   \n",
       " 9403 2019-06-13 22:45:00     652        3           0           0          1   \n",
       " 9404 2019-06-13 23:00:00     689        3           0           0          1   \n",
       " 9405 2019-06-13 23:15:00     128        3           0           0          1   \n",
       " 9406 2019-06-13 23:30:00     272        3           0           0          1   \n",
       " 9407 2019-06-13 23:45:00     286        3           0           0          1   \n",
       " \n",
       "                  fun      Peak  \n",
       " 6624  Winter_Weekday  Off-Peak  \n",
       " 6625  Winter_Weekday  Off-Peak  \n",
       " 6626  Winter_Weekday  Off-Peak  \n",
       " 6627  Winter_Weekday  Off-Peak  \n",
       " 6628  Winter_Weekday  Off-Peak  \n",
       " ...              ...       ...  \n",
       " 9403  Summer_Weekday  Off-Peak  \n",
       " 9404  Summer_Weekday  Off-Peak  \n",
       " 9405  Summer_Weekday  Off-Peak  \n",
       " 9406  Summer_Weekday  Off-Peak  \n",
       " 9407  Summer_Weekday  Off-Peak  \n",
       " \n",
       " [2784 rows x 8 columns],\n",
       " 3:                 Timestamp  Demand  DayWeek  Is_Weekend  Is_Holiday  is_summer  \\\n",
       " 9408  2019-06-14 00:00:00     532        4           0           0          1   \n",
       " 9409  2019-06-14 00:15:00     295        4           0           0          1   \n",
       " 9410  2019-06-14 00:30:00    1362        4           0           0          1   \n",
       " 9411  2019-06-14 00:45:00     882        4           0           0          1   \n",
       " 9412  2019-06-14 01:00:00    1299        4           0           0          1   \n",
       " ...                   ...     ...      ...         ...         ...        ...   \n",
       " 12667 2019-07-17 22:45:00     212        2           0           0          1   \n",
       " 12668 2019-07-17 23:00:00    1488        2           0           0          1   \n",
       " 12669 2019-07-17 23:15:00     283        2           0           0          1   \n",
       " 12670 2019-07-17 23:30:00     471        2           0           0          1   \n",
       " 12671 2019-07-17 23:45:00     233        2           0           0          1   \n",
       " \n",
       "                   fun      Peak  \n",
       " 9408   Summer_Weekday  Off-Peak  \n",
       " 9409   Summer_Weekday  Off-Peak  \n",
       " 9410   Summer_Weekday  Off-Peak  \n",
       " 9411   Summer_Weekday  Off-Peak  \n",
       " 9412   Summer_Weekday  Off-Peak  \n",
       " ...               ...       ...  \n",
       " 12667  Summer_Weekday  Off-Peak  \n",
       " 12668  Summer_Weekday  Off-Peak  \n",
       " 12669  Summer_Weekday  Off-Peak  \n",
       " 12670  Summer_Weekday  Off-Peak  \n",
       " 12671  Summer_Weekday  Off-Peak  \n",
       " \n",
       " [3264 rows x 8 columns],\n",
       " 4:                 Timestamp  Demand  DayWeek  Is_Weekend  Is_Holiday  is_summer  \\\n",
       " 12672 2019-07-18 00:00:00    1017        3           0           0          1   \n",
       " 12673 2019-07-18 00:15:00     356        3           0           0          1   \n",
       " 12674 2019-07-18 00:30:00     319        3           0           0          1   \n",
       " 12675 2019-07-18 00:45:00    1064        3           0           0          1   \n",
       " 12676 2019-07-18 01:00:00     774        3           0           0          1   \n",
       " ...                   ...     ...      ...         ...         ...        ...   \n",
       " 15355 2019-08-14 22:45:00    1257        2           0           0          1   \n",
       " 15356 2019-08-14 23:00:00    1190        2           0           0          1   \n",
       " 15357 2019-08-14 23:15:00     174        2           0           0          1   \n",
       " 15358 2019-08-14 23:30:00     391        2           0           0          1   \n",
       " 15359 2019-08-14 23:45:00     322        2           0           0          1   \n",
       " \n",
       "                   fun      Peak  \n",
       " 12672  Summer_Weekday  Off-Peak  \n",
       " 12673  Summer_Weekday  Off-Peak  \n",
       " 12674  Summer_Weekday  Off-Peak  \n",
       " 12675  Summer_Weekday  Off-Peak  \n",
       " 12676  Summer_Weekday  Off-Peak  \n",
       " ...               ...       ...  \n",
       " 15355  Summer_Weekday  Off-Peak  \n",
       " 15356  Summer_Weekday  Off-Peak  \n",
       " 15357  Summer_Weekday  Off-Peak  \n",
       " 15358  Summer_Weekday  Off-Peak  \n",
       " 15359  Summer_Weekday  Off-Peak  \n",
       " \n",
       " [2688 rows x 8 columns],\n",
       " 5:                 Timestamp  Demand  DayWeek  Is_Weekend  Is_Holiday  is_summer  \\\n",
       " 15360 2019-08-15 00:00:00     353        3           0           0          1   \n",
       " 15361 2019-08-15 00:15:00     378        3           0           0          1   \n",
       " 15362 2019-08-15 00:30:00    1481        3           0           0          1   \n",
       " 15363 2019-08-15 00:45:00     825        3           0           0          1   \n",
       " 15364 2019-08-15 01:00:00     806        3           0           0          1   \n",
       " ...                   ...     ...      ...         ...         ...        ...   \n",
       " 18427 2019-09-15 22:45:00     695        6           1           0          1   \n",
       " 18428 2019-09-15 23:00:00    1175        6           1           0          1   \n",
       " 18429 2019-09-15 23:15:00     762        6           1           0          1   \n",
       " 18430 2019-09-15 23:30:00     875        6           1           0          1   \n",
       " 18431 2019-09-15 23:45:00    1392        6           1           0          1   \n",
       " \n",
       "                   fun      Peak  \n",
       " 15360  Summer_Weekday  Off-Peak  \n",
       " 15361  Summer_Weekday  Off-Peak  \n",
       " 15362  Summer_Weekday  Off-Peak  \n",
       " 15363  Summer_Weekday  Off-Peak  \n",
       " 15364  Summer_Weekday  Off-Peak  \n",
       " ...               ...       ...  \n",
       " 18427  Summer_Weekend  Off-Peak  \n",
       " 18428  Summer_Weekend  Off-Peak  \n",
       " 18429  Summer_Weekend  Off-Peak  \n",
       " 18430  Summer_Weekend  Off-Peak  \n",
       " 18431  Summer_Weekend  Off-Peak  \n",
       " \n",
       " [3072 rows x 8 columns],\n",
       " 6:                 Timestamp  Demand  DayWeek  Is_Weekend  Is_Holiday  is_summer  \\\n",
       " 18432 2019-09-16 00:00:00     674        0           0           0          1   \n",
       " 18433 2019-09-16 00:15:00    1374        0           0           0          1   \n",
       " 18434 2019-09-16 00:30:00     753        0           0           0          1   \n",
       " 18435 2019-09-16 00:45:00     529        0           0           0          1   \n",
       " 18436 2019-09-16 01:00:00    1335        0           0           0          1   \n",
       " ...                   ...     ...      ...         ...         ...        ...   \n",
       " 21115 2019-10-13 22:45:00     828        6           1           0          0   \n",
       " 21116 2019-10-13 23:00:00     151        6           1           0          0   \n",
       " 21117 2019-10-13 23:15:00    1439        6           1           0          0   \n",
       " 21118 2019-10-13 23:30:00     511        6           1           0          0   \n",
       " 21119 2019-10-13 23:45:00     667        6           1           0          0   \n",
       " \n",
       "                   fun      Peak  \n",
       " 18432  Summer_Weekday  Off-Peak  \n",
       " 18433  Summer_Weekday  Off-Peak  \n",
       " 18434  Summer_Weekday  Off-Peak  \n",
       " 18435  Summer_Weekday  Off-Peak  \n",
       " 18436  Summer_Weekday  Off-Peak  \n",
       " ...               ...       ...  \n",
       " 21115  Winter_Weekend  Off-Peak  \n",
       " 21116  Winter_Weekend  Off-Peak  \n",
       " 21117  Winter_Weekend  Off-Peak  \n",
       " 21118  Winter_Weekend  Off-Peak  \n",
       " 21119  Winter_Weekend  Off-Peak  \n",
       " \n",
       " [2688 rows x 8 columns],\n",
       " 7:                 Timestamp  Demand  DayWeek  Is_Weekend  Is_Holiday  is_summer  \\\n",
       " 21120 2019-10-14 00:00:00     534        0           0           0          0   \n",
       " 21121 2019-10-14 00:15:00     954        0           0           0          0   \n",
       " 21122 2019-10-14 00:30:00     858        0           0           0          0   \n",
       " 21123 2019-10-14 00:45:00     362        0           0           0          0   \n",
       " 21124 2019-10-14 01:00:00     147        0           0           0          0   \n",
       " ...                   ...     ...      ...         ...         ...        ...   \n",
       " 24475 2019-11-17 22:45:00     937        6           1           0          0   \n",
       " 24476 2019-11-17 23:00:00     484        6           1           0          0   \n",
       " 24477 2019-11-17 23:15:00    1157        6           1           0          0   \n",
       " 24478 2019-11-17 23:30:00     868        6           1           0          0   \n",
       " 24479 2019-11-17 23:45:00    1141        6           1           0          0   \n",
       " \n",
       "                   fun      Peak  \n",
       " 21120  Winter_Weekday  Off-Peak  \n",
       " 21121  Winter_Weekday  Off-Peak  \n",
       " 21122  Winter_Weekday  Off-Peak  \n",
       " 21123  Winter_Weekday  Off-Peak  \n",
       " 21124  Winter_Weekday  Off-Peak  \n",
       " ...               ...       ...  \n",
       " 24475  Winter_Weekend  Off-Peak  \n",
       " 24476  Winter_Weekend  Off-Peak  \n",
       " 24477  Winter_Weekend  Off-Peak  \n",
       " 24478  Winter_Weekend  Off-Peak  \n",
       " 24479  Winter_Weekend  Off-Peak  \n",
       " \n",
       " [3360 rows x 8 columns],\n",
       " 8:                 Timestamp  Demand  DayWeek  Is_Weekend  Is_Holiday  is_summer  \\\n",
       " 24480 2019-11-18 00:00:00    1214        0           0           0          0   \n",
       " 24481 2019-11-18 00:15:00     134        0           0           0          0   \n",
       " 24482 2019-11-18 00:30:00     976        0           0           0          0   \n",
       " 24483 2019-11-18 00:45:00     807        0           0           0          0   \n",
       " 24484 2019-11-18 01:00:00     646        0           0           0          0   \n",
       " ...                   ...     ...      ...         ...         ...        ...   \n",
       " 27259 2019-12-16 22:45:00     511        0           0           0          0   \n",
       " 27260 2019-12-16 23:00:00    1385        0           0           0          0   \n",
       " 27261 2019-12-16 23:15:00    1025        0           0           0          0   \n",
       " 27262 2019-12-16 23:30:00     280        0           0           0          0   \n",
       " 27263 2019-12-16 23:45:00     952        0           0           0          0   \n",
       " \n",
       "                   fun      Peak  \n",
       " 24480  Winter_Weekday  Off-Peak  \n",
       " 24481  Winter_Weekday  Off-Peak  \n",
       " 24482  Winter_Weekday  Off-Peak  \n",
       " 24483  Winter_Weekday  Off-Peak  \n",
       " 24484  Winter_Weekday  Off-Peak  \n",
       " ...               ...       ...  \n",
       " 27259  Winter_Weekday  Off-Peak  \n",
       " 27260  Winter_Weekday  Off-Peak  \n",
       " 27261  Winter_Weekday  Off-Peak  \n",
       " 27262  Winter_Weekday  Off-Peak  \n",
       " 27263  Winter_Weekday  Off-Peak  \n",
       " \n",
       " [2784 rows x 8 columns],\n",
       " 9:                 Timestamp  Demand  DayWeek  Is_Weekend  Is_Holiday  is_summer  \\\n",
       " 27264 2019-12-17 00:00:00    1256        1           0           0          0   \n",
       " 27265 2019-12-17 00:15:00     884        1           0           0          0   \n",
       " 27266 2019-12-17 00:30:00     897        1           0           0          0   \n",
       " 27267 2019-12-17 00:45:00     436        1           0           0          0   \n",
       " 27268 2019-12-17 01:00:00    1456        1           0           0          0   \n",
       " ...                   ...     ...      ...         ...         ...        ...   \n",
       " 30139 2020-01-15 22:45:00    1292        2           0           0          0   \n",
       " 30140 2020-01-15 23:00:00     270        2           0           0          0   \n",
       " 30141 2020-01-15 23:15:00     833        2           0           0          0   \n",
       " 30142 2020-01-15 23:30:00     417        2           0           0          0   \n",
       " 30143 2020-01-15 23:45:00    1000        2           0           0          0   \n",
       " \n",
       "                   fun      Peak  \n",
       " 27264  Winter_Weekday  Off-Peak  \n",
       " 27265  Winter_Weekday  Off-Peak  \n",
       " 27266  Winter_Weekday  Off-Peak  \n",
       " 27267  Winter_Weekday  Off-Peak  \n",
       " 27268  Winter_Weekday  Off-Peak  \n",
       " ...               ...       ...  \n",
       " 30139  Winter_Weekday  Off-Peak  \n",
       " 30140  Winter_Weekday  Off-Peak  \n",
       " 30141  Winter_Weekday  Off-Peak  \n",
       " 30142  Winter_Weekday  Off-Peak  \n",
       " 30143  Winter_Weekday  Off-Peak  \n",
       " \n",
       " [2880 rows x 8 columns],\n",
       " 10:                 Timestamp  Demand  DayWeek  Is_Weekend  Is_Holiday  is_summer  \\\n",
       " 30144 2020-01-16 00:00:00     598        3           0           0          0   \n",
       " 30145 2020-01-16 00:15:00     393        3           0           0          0   \n",
       " 30146 2020-01-16 00:30:00     433        3           0           0          0   \n",
       " 30147 2020-01-16 00:45:00    1467        3           0           0          0   \n",
       " 30148 2020-01-16 01:00:00     406        3           0           0          0   \n",
       " ...                   ...     ...      ...         ...         ...        ...   \n",
       " 33499 2020-02-19 22:45:00     255        2           0           0          0   \n",
       " 33500 2020-02-19 23:00:00     622        2           0           0          0   \n",
       " 33501 2020-02-19 23:15:00     247        2           0           0          0   \n",
       " 33502 2020-02-19 23:30:00    1059        2           0           0          0   \n",
       " 33503 2020-02-19 23:45:00     163        2           0           0          0   \n",
       " \n",
       "                   fun      Peak  \n",
       " 30144  Winter_Weekday  Off-Peak  \n",
       " 30145  Winter_Weekday  Off-Peak  \n",
       " 30146  Winter_Weekday  Off-Peak  \n",
       " 30147  Winter_Weekday  Off-Peak  \n",
       " 30148  Winter_Weekday  Off-Peak  \n",
       " ...               ...       ...  \n",
       " 33499  Winter_Weekday  Off-Peak  \n",
       " 33500  Winter_Weekday  Off-Peak  \n",
       " 33501  Winter_Weekday  Off-Peak  \n",
       " 33502  Winter_Weekday  Off-Peak  \n",
       " 33503  Winter_Weekday  Off-Peak  \n",
       " \n",
       " [3360 rows x 8 columns]}"
      ]
     },
     "execution_count": 26,
     "metadata": {},
     "output_type": "execute_result"
    }
   ],
   "source": [
    "billMonth = billing.billing_month\n",
    "offset = pd.DateOffset(minutes=15)\n",
    "month = {}\n",
    "monthLength = len(billMonth) - 1\n",
    "for i in range (0,monthLength,1):\n",
    "    end = billMonth[i + 1] - offset\n",
    "    month[i] = df[df.Timestamp.between(billMonth[i], end)]\n",
    "month"
   ]
  },
  {
   "cell_type": "code",
   "execution_count": 27,
   "metadata": {},
   "outputs": [
    {
     "data": {
      "text/html": [
       "<div>\n",
       "<style scoped>\n",
       "    .dataframe tbody tr th:only-of-type {\n",
       "        vertical-align: middle;\n",
       "    }\n",
       "\n",
       "    .dataframe tbody tr th {\n",
       "        vertical-align: top;\n",
       "    }\n",
       "\n",
       "    .dataframe thead th {\n",
       "        text-align: right;\n",
       "    }\n",
       "</style>\n",
       "<table border=\"1\" class=\"dataframe\">\n",
       "  <thead>\n",
       "    <tr style=\"text-align: right;\">\n",
       "      <th></th>\n",
       "      <th>Timestamp</th>\n",
       "      <th>Demand</th>\n",
       "      <th>DayWeek</th>\n",
       "      <th>Is_Weekend</th>\n",
       "      <th>Is_Holiday</th>\n",
       "      <th>is_summer</th>\n",
       "      <th>fun</th>\n",
       "      <th>Peak</th>\n",
       "    </tr>\n",
       "  </thead>\n",
       "  <tbody>\n",
       "    <tr>\n",
       "      <th>768</th>\n",
       "      <td>2019-03-15 00:00:00</td>\n",
       "      <td>414</td>\n",
       "      <td>4</td>\n",
       "      <td>0</td>\n",
       "      <td>0</td>\n",
       "      <td>0</td>\n",
       "      <td>Winter_Weekday</td>\n",
       "      <td>Off-Peak</td>\n",
       "    </tr>\n",
       "    <tr>\n",
       "      <th>769</th>\n",
       "      <td>2019-03-15 00:15:00</td>\n",
       "      <td>235</td>\n",
       "      <td>4</td>\n",
       "      <td>0</td>\n",
       "      <td>0</td>\n",
       "      <td>0</td>\n",
       "      <td>Winter_Weekday</td>\n",
       "      <td>Off-Peak</td>\n",
       "    </tr>\n",
       "    <tr>\n",
       "      <th>770</th>\n",
       "      <td>2019-03-15 00:30:00</td>\n",
       "      <td>1191</td>\n",
       "      <td>4</td>\n",
       "      <td>0</td>\n",
       "      <td>0</td>\n",
       "      <td>0</td>\n",
       "      <td>Winter_Weekday</td>\n",
       "      <td>Off-Peak</td>\n",
       "    </tr>\n",
       "    <tr>\n",
       "      <th>771</th>\n",
       "      <td>2019-03-15 00:45:00</td>\n",
       "      <td>453</td>\n",
       "      <td>4</td>\n",
       "      <td>0</td>\n",
       "      <td>0</td>\n",
       "      <td>0</td>\n",
       "      <td>Winter_Weekday</td>\n",
       "      <td>Off-Peak</td>\n",
       "    </tr>\n",
       "    <tr>\n",
       "      <th>772</th>\n",
       "      <td>2019-03-15 01:00:00</td>\n",
       "      <td>1242</td>\n",
       "      <td>4</td>\n",
       "      <td>0</td>\n",
       "      <td>0</td>\n",
       "      <td>0</td>\n",
       "      <td>Winter_Weekday</td>\n",
       "      <td>Off-Peak</td>\n",
       "    </tr>\n",
       "    <tr>\n",
       "      <th>...</th>\n",
       "      <td>...</td>\n",
       "      <td>...</td>\n",
       "      <td>...</td>\n",
       "      <td>...</td>\n",
       "      <td>...</td>\n",
       "      <td>...</td>\n",
       "      <td>...</td>\n",
       "      <td>...</td>\n",
       "    </tr>\n",
       "    <tr>\n",
       "      <th>3835</th>\n",
       "      <td>2019-04-16 22:45:00</td>\n",
       "      <td>1321</td>\n",
       "      <td>1</td>\n",
       "      <td>0</td>\n",
       "      <td>0</td>\n",
       "      <td>0</td>\n",
       "      <td>Winter_Weekday</td>\n",
       "      <td>Off-Peak</td>\n",
       "    </tr>\n",
       "    <tr>\n",
       "      <th>3836</th>\n",
       "      <td>2019-04-16 23:00:00</td>\n",
       "      <td>179</td>\n",
       "      <td>1</td>\n",
       "      <td>0</td>\n",
       "      <td>0</td>\n",
       "      <td>0</td>\n",
       "      <td>Winter_Weekday</td>\n",
       "      <td>Off-Peak</td>\n",
       "    </tr>\n",
       "    <tr>\n",
       "      <th>3837</th>\n",
       "      <td>2019-04-16 23:15:00</td>\n",
       "      <td>1021</td>\n",
       "      <td>1</td>\n",
       "      <td>0</td>\n",
       "      <td>0</td>\n",
       "      <td>0</td>\n",
       "      <td>Winter_Weekday</td>\n",
       "      <td>Off-Peak</td>\n",
       "    </tr>\n",
       "    <tr>\n",
       "      <th>3838</th>\n",
       "      <td>2019-04-16 23:30:00</td>\n",
       "      <td>734</td>\n",
       "      <td>1</td>\n",
       "      <td>0</td>\n",
       "      <td>0</td>\n",
       "      <td>0</td>\n",
       "      <td>Winter_Weekday</td>\n",
       "      <td>Off-Peak</td>\n",
       "    </tr>\n",
       "    <tr>\n",
       "      <th>3839</th>\n",
       "      <td>2019-04-16 23:45:00</td>\n",
       "      <td>874</td>\n",
       "      <td>1</td>\n",
       "      <td>0</td>\n",
       "      <td>0</td>\n",
       "      <td>0</td>\n",
       "      <td>Winter_Weekday</td>\n",
       "      <td>Off-Peak</td>\n",
       "    </tr>\n",
       "  </tbody>\n",
       "</table>\n",
       "<p>3072 rows × 8 columns</p>\n",
       "</div>"
      ],
      "text/plain": [
       "               Timestamp  Demand  DayWeek  Is_Weekend  Is_Holiday  is_summer  \\\n",
       "768  2019-03-15 00:00:00     414        4           0           0          0   \n",
       "769  2019-03-15 00:15:00     235        4           0           0          0   \n",
       "770  2019-03-15 00:30:00    1191        4           0           0          0   \n",
       "771  2019-03-15 00:45:00     453        4           0           0          0   \n",
       "772  2019-03-15 01:00:00    1242        4           0           0          0   \n",
       "...                  ...     ...      ...         ...         ...        ...   \n",
       "3835 2019-04-16 22:45:00    1321        1           0           0          0   \n",
       "3836 2019-04-16 23:00:00     179        1           0           0          0   \n",
       "3837 2019-04-16 23:15:00    1021        1           0           0          0   \n",
       "3838 2019-04-16 23:30:00     734        1           0           0          0   \n",
       "3839 2019-04-16 23:45:00     874        1           0           0          0   \n",
       "\n",
       "                 fun      Peak  \n",
       "768   Winter_Weekday  Off-Peak  \n",
       "769   Winter_Weekday  Off-Peak  \n",
       "770   Winter_Weekday  Off-Peak  \n",
       "771   Winter_Weekday  Off-Peak  \n",
       "772   Winter_Weekday  Off-Peak  \n",
       "...              ...       ...  \n",
       "3835  Winter_Weekday  Off-Peak  \n",
       "3836  Winter_Weekday  Off-Peak  \n",
       "3837  Winter_Weekday  Off-Peak  \n",
       "3838  Winter_Weekday  Off-Peak  \n",
       "3839  Winter_Weekday  Off-Peak  \n",
       "\n",
       "[3072 rows x 8 columns]"
      ]
     },
     "execution_count": 27,
     "metadata": {},
     "output_type": "execute_result"
    }
   ],
   "source": [
    "month[0]"
   ]
  },
  {
   "cell_type": "code",
   "execution_count": 28,
   "metadata": {},
   "outputs": [
    {
     "data": {
      "text/plain": [
       "nan"
      ]
     },
     "execution_count": 28,
     "metadata": {},
     "output_type": "execute_result"
    }
   ],
   "source": [
    "np.nan"
   ]
  },
  {
   "cell_type": "code",
   "execution_count": 29,
   "metadata": {},
   "outputs": [
    {
     "data": {
      "text/html": [
       "<div>\n",
       "<style scoped>\n",
       "    .dataframe tbody tr th:only-of-type {\n",
       "        vertical-align: middle;\n",
       "    }\n",
       "\n",
       "    .dataframe tbody tr th {\n",
       "        vertical-align: top;\n",
       "    }\n",
       "\n",
       "    .dataframe thead th {\n",
       "        text-align: right;\n",
       "    }\n",
       "</style>\n",
       "<table border=\"1\" class=\"dataframe\">\n",
       "  <thead>\n",
       "    <tr style=\"text-align: right;\">\n",
       "      <th></th>\n",
       "      <th>One</th>\n",
       "      <th>Two</th>\n",
       "      <th>Three</th>\n",
       "      <th>Four</th>\n",
       "    </tr>\n",
       "  </thead>\n",
       "  <tbody>\n",
       "    <tr>\n",
       "      <th>0</th>\n",
       "      <td>NaN</td>\n",
       "      <td>NaN</td>\n",
       "      <td>NaN</td>\n",
       "      <td>NaN</td>\n",
       "    </tr>\n",
       "    <tr>\n",
       "      <th>1</th>\n",
       "      <td>NaN</td>\n",
       "      <td>NaN</td>\n",
       "      <td>NaN</td>\n",
       "      <td>NaN</td>\n",
       "    </tr>\n",
       "    <tr>\n",
       "      <th>2</th>\n",
       "      <td>NaN</td>\n",
       "      <td>NaN</td>\n",
       "      <td>NaN</td>\n",
       "      <td>NaN</td>\n",
       "    </tr>\n",
       "    <tr>\n",
       "      <th>3</th>\n",
       "      <td>NaN</td>\n",
       "      <td>NaN</td>\n",
       "      <td>NaN</td>\n",
       "      <td>NaN</td>\n",
       "    </tr>\n",
       "    <tr>\n",
       "      <th>4</th>\n",
       "      <td>NaN</td>\n",
       "      <td>NaN</td>\n",
       "      <td>NaN</td>\n",
       "      <td>NaN</td>\n",
       "    </tr>\n",
       "    <tr>\n",
       "      <th>5</th>\n",
       "      <td>NaN</td>\n",
       "      <td>NaN</td>\n",
       "      <td>NaN</td>\n",
       "      <td>NaN</td>\n",
       "    </tr>\n",
       "    <tr>\n",
       "      <th>6</th>\n",
       "      <td>NaN</td>\n",
       "      <td>NaN</td>\n",
       "      <td>NaN</td>\n",
       "      <td>NaN</td>\n",
       "    </tr>\n",
       "    <tr>\n",
       "      <th>7</th>\n",
       "      <td>NaN</td>\n",
       "      <td>NaN</td>\n",
       "      <td>NaN</td>\n",
       "      <td>NaN</td>\n",
       "    </tr>\n",
       "    <tr>\n",
       "      <th>8</th>\n",
       "      <td>NaN</td>\n",
       "      <td>NaN</td>\n",
       "      <td>NaN</td>\n",
       "      <td>NaN</td>\n",
       "    </tr>\n",
       "    <tr>\n",
       "      <th>9</th>\n",
       "      <td>NaN</td>\n",
       "      <td>NaN</td>\n",
       "      <td>NaN</td>\n",
       "      <td>NaN</td>\n",
       "    </tr>\n",
       "  </tbody>\n",
       "</table>\n",
       "</div>"
      ],
      "text/plain": [
       "   One  Two  Three  Four\n",
       "0  NaN  NaN    NaN   NaN\n",
       "1  NaN  NaN    NaN   NaN\n",
       "2  NaN  NaN    NaN   NaN\n",
       "3  NaN  NaN    NaN   NaN\n",
       "4  NaN  NaN    NaN   NaN\n",
       "5  NaN  NaN    NaN   NaN\n",
       "6  NaN  NaN    NaN   NaN\n",
       "7  NaN  NaN    NaN   NaN\n",
       "8  NaN  NaN    NaN   NaN\n",
       "9  NaN  NaN    NaN   NaN"
      ]
     },
     "execution_count": 29,
     "metadata": {},
     "output_type": "execute_result"
    }
   ],
   "source": [
    "example = pd.DataFrame(np.zeros([10, 4])*np.nan, columns = [\"One\", \"Two\", \"Three\", \"Four\"])\n",
    "example"
   ]
  },
  {
   "cell_type": "code",
   "execution_count": 30,
   "metadata": {},
   "outputs": [],
   "source": [
    "def energy(df, month):\n",
    "    df = df.reset_index(drop=True)\n",
    "\n",
    "    if len(month) != 0:\n",
    "        monthLength = len(month) \n",
    "    else:\n",
    "         monthLength = 0\n",
    "            \n",
    "    monthTitle = {}\n",
    "    for i in range(0, monthLength, 1): # iterates through every billing month df\n",
    "        monthTitle[i] = month[i].Timestamp.min().strftime('%b_%d_%Y') + ' to ' + month[i].Timestamp.max().strftime('%b_%d_%Y')\n",
    "\n",
    "    columns = ['Billing Month', 'kiloWattHour Total', 'kiloWattHour Super Off-Peak', 'kiloWattHour Off-Peak', 'kiloWattHour Mid-Peak', 'kiloWattHour On-Peak']\n",
    "    col_len = int(len(columns))\n",
    "    kiloWattHour = pd.DataFrame(np.zeros([monthLength, col_len])*np.nan, columns = columns)\n",
    "    for i in range(0, monthLength, 1):\n",
    "        month[i] = month[i].reset_index(drop=True)\n",
    "        kiloWattHour['Billing Month'][i] = monthTitle[i]\n",
    "        kiloWattHour['kiloWattHour Total'][i] = month[i].Demand.sum() / 4\n",
    "        kiloWattHour['kiloWattHour Super Off-Peak'][i] = month[i].Demand[month[i].Peak == 'Super Off-Peak'].sum() / 4\n",
    "        kiloWattHour['kiloWattHour Off-Peak'][i] = month[i].Demand[month[i].Peak == 'Off-Peak'].sum() / 4\n",
    "        kiloWattHour['kiloWattHour Mid-Peak'][i] = month[i].Demand[month[i].Peak == 'Mid-Peak'].sum() / 4\n",
    "        kiloWattHour['kiloWattHour On-Peak'][i] = month[i].Demand[month[i].Peak == 'On-Peak'].sum() / 4\n",
    "\n",
    "    kiloWattHour.loc[len(kiloWattHour)] = np.nan\n",
    "    kiloWattHour = kiloWattHour.shift()\n",
    "    kiloWattHour['Billing Month'][0] = 'Entire Interval'\n",
    "    kiloWattHour['kiloWattHour Total'][0] = df.Demand.sum() / 4\n",
    "    kiloWattHour['kiloWattHour Super Off-Peak'][0] = df.Demand[df.Peak == 'Super Off-Peak'].sum() / 4\n",
    "    kiloWattHour['kiloWattHour Off-Peak'][0] = df.Demand[df.Peak == 'Off-Peak'].sum() / 4\n",
    "    kiloWattHour['kiloWattHour Mid-Peak'][0] = df.Demand[df.Peak == 'Mid-Peak'].sum() / 4\n",
    "    kiloWattHour['kiloWattHour On-Peak'][0] = df.Demand[df.Peak == 'On-Peak'].sum() / 4\n",
    "\n",
    "    return kiloWattHour "
   ]
  },
  {
   "cell_type": "code",
   "execution_count": 31,
   "metadata": {},
   "outputs": [
    {
     "name": "stderr",
     "output_type": "stream",
     "text": [
      "/home/luisfernando/anaconda3/lib/python3.7/site-packages/ipykernel_launcher.py:19: SettingWithCopyWarning: \n",
      "A value is trying to be set on a copy of a slice from a DataFrame\n",
      "\n",
      "See the caveats in the documentation: https://pandas.pydata.org/pandas-docs/stable/user_guide/indexing.html#returning-a-view-versus-a-copy\n",
      "/home/luisfernando/anaconda3/lib/python3.7/site-packages/ipykernel_launcher.py:20: SettingWithCopyWarning: \n",
      "A value is trying to be set on a copy of a slice from a DataFrame\n",
      "\n",
      "See the caveats in the documentation: https://pandas.pydata.org/pandas-docs/stable/user_guide/indexing.html#returning-a-view-versus-a-copy\n",
      "/home/luisfernando/anaconda3/lib/python3.7/site-packages/ipykernel_launcher.py:21: SettingWithCopyWarning: \n",
      "A value is trying to be set on a copy of a slice from a DataFrame\n",
      "\n",
      "See the caveats in the documentation: https://pandas.pydata.org/pandas-docs/stable/user_guide/indexing.html#returning-a-view-versus-a-copy\n",
      "/home/luisfernando/anaconda3/lib/python3.7/site-packages/ipykernel_launcher.py:22: SettingWithCopyWarning: \n",
      "A value is trying to be set on a copy of a slice from a DataFrame\n",
      "\n",
      "See the caveats in the documentation: https://pandas.pydata.org/pandas-docs/stable/user_guide/indexing.html#returning-a-view-versus-a-copy\n",
      "/home/luisfernando/anaconda3/lib/python3.7/site-packages/ipykernel_launcher.py:23: SettingWithCopyWarning: \n",
      "A value is trying to be set on a copy of a slice from a DataFrame\n",
      "\n",
      "See the caveats in the documentation: https://pandas.pydata.org/pandas-docs/stable/user_guide/indexing.html#returning-a-view-versus-a-copy\n",
      "/home/luisfernando/anaconda3/lib/python3.7/site-packages/ipykernel_launcher.py:18: SettingWithCopyWarning: \n",
      "A value is trying to be set on a copy of a slice from a DataFrame\n",
      "\n",
      "See the caveats in the documentation: https://pandas.pydata.org/pandas-docs/stable/user_guide/indexing.html#returning-a-view-versus-a-copy\n",
      "/home/luisfernando/anaconda3/lib/python3.7/site-packages/ipykernel_launcher.py:27: SettingWithCopyWarning: \n",
      "A value is trying to be set on a copy of a slice from a DataFrame\n",
      "\n",
      "See the caveats in the documentation: https://pandas.pydata.org/pandas-docs/stable/user_guide/indexing.html#returning-a-view-versus-a-copy\n",
      "/home/luisfernando/anaconda3/lib/python3.7/site-packages/ipykernel_launcher.py:28: SettingWithCopyWarning: \n",
      "A value is trying to be set on a copy of a slice from a DataFrame\n",
      "\n",
      "See the caveats in the documentation: https://pandas.pydata.org/pandas-docs/stable/user_guide/indexing.html#returning-a-view-versus-a-copy\n",
      "/home/luisfernando/anaconda3/lib/python3.7/site-packages/ipykernel_launcher.py:29: SettingWithCopyWarning: \n",
      "A value is trying to be set on a copy of a slice from a DataFrame\n",
      "\n",
      "See the caveats in the documentation: https://pandas.pydata.org/pandas-docs/stable/user_guide/indexing.html#returning-a-view-versus-a-copy\n",
      "/home/luisfernando/anaconda3/lib/python3.7/site-packages/ipykernel_launcher.py:30: SettingWithCopyWarning: \n",
      "A value is trying to be set on a copy of a slice from a DataFrame\n",
      "\n",
      "See the caveats in the documentation: https://pandas.pydata.org/pandas-docs/stable/user_guide/indexing.html#returning-a-view-versus-a-copy\n",
      "/home/luisfernando/anaconda3/lib/python3.7/site-packages/ipykernel_launcher.py:31: SettingWithCopyWarning: \n",
      "A value is trying to be set on a copy of a slice from a DataFrame\n",
      "\n",
      "See the caveats in the documentation: https://pandas.pydata.org/pandas-docs/stable/user_guide/indexing.html#returning-a-view-versus-a-copy\n",
      "/home/luisfernando/anaconda3/lib/python3.7/site-packages/ipykernel_launcher.py:32: SettingWithCopyWarning: \n",
      "A value is trying to be set on a copy of a slice from a DataFrame\n",
      "\n",
      "See the caveats in the documentation: https://pandas.pydata.org/pandas-docs/stable/user_guide/indexing.html#returning-a-view-versus-a-copy\n"
     ]
    },
    {
     "data": {
      "text/html": [
       "<div>\n",
       "<style scoped>\n",
       "    .dataframe tbody tr th:only-of-type {\n",
       "        vertical-align: middle;\n",
       "    }\n",
       "\n",
       "    .dataframe tbody tr th {\n",
       "        vertical-align: top;\n",
       "    }\n",
       "\n",
       "    .dataframe thead th {\n",
       "        text-align: right;\n",
       "    }\n",
       "</style>\n",
       "<table border=\"1\" class=\"dataframe\">\n",
       "  <thead>\n",
       "    <tr style=\"text-align: right;\">\n",
       "      <th></th>\n",
       "      <th>Billing Month</th>\n",
       "      <th>kiloWattHour Total</th>\n",
       "      <th>kiloWattHour Super Off-Peak</th>\n",
       "      <th>kiloWattHour Off-Peak</th>\n",
       "      <th>kiloWattHour Mid-Peak</th>\n",
       "      <th>kiloWattHour On-Peak</th>\n",
       "    </tr>\n",
       "  </thead>\n",
       "  <tbody>\n",
       "    <tr>\n",
       "      <th>0</th>\n",
       "      <td>Entire Interval</td>\n",
       "      <td>6901227.75</td>\n",
       "      <td>1518047.00</td>\n",
       "      <td>3947831.25</td>\n",
       "      <td>1106351.25</td>\n",
       "      <td>328998.25</td>\n",
       "    </tr>\n",
       "    <tr>\n",
       "      <th>1</th>\n",
       "      <td>Mar_15_2019 to Apr_16_2019</td>\n",
       "      <td>617235.00</td>\n",
       "      <td>208458.75</td>\n",
       "      <td>283729.00</td>\n",
       "      <td>125047.25</td>\n",
       "      <td>0.00</td>\n",
       "    </tr>\n",
       "    <tr>\n",
       "      <th>2</th>\n",
       "      <td>Apr_17_2019 to May_15_2019</td>\n",
       "      <td>553717.00</td>\n",
       "      <td>182300.00</td>\n",
       "      <td>252092.00</td>\n",
       "      <td>119325.00</td>\n",
       "      <td>0.00</td>\n",
       "    </tr>\n",
       "    <tr>\n",
       "      <th>3</th>\n",
       "      <td>May_16_2019 to Jun_13_2019</td>\n",
       "      <td>549000.25</td>\n",
       "      <td>98830.75</td>\n",
       "      <td>335172.50</td>\n",
       "      <td>79047.50</td>\n",
       "      <td>35949.50</td>\n",
       "    </tr>\n",
       "    <tr>\n",
       "      <th>4</th>\n",
       "      <td>Jun_14_2019 to Jul_17_2019</td>\n",
       "      <td>648262.00</td>\n",
       "      <td>0.00</td>\n",
       "      <td>516024.50</td>\n",
       "      <td>43389.75</td>\n",
       "      <td>88847.75</td>\n",
       "    </tr>\n",
       "    <tr>\n",
       "      <th>5</th>\n",
       "      <td>Jul_18_2019 to Aug_14_2019</td>\n",
       "      <td>534712.00</td>\n",
       "      <td>0.00</td>\n",
       "      <td>423416.50</td>\n",
       "      <td>30468.50</td>\n",
       "      <td>80827.00</td>\n",
       "    </tr>\n",
       "    <tr>\n",
       "      <th>6</th>\n",
       "      <td>Aug_15_2019 to Sep_15_2019</td>\n",
       "      <td>610643.50</td>\n",
       "      <td>0.00</td>\n",
       "      <td>488546.50</td>\n",
       "      <td>42328.75</td>\n",
       "      <td>79768.25</td>\n",
       "    </tr>\n",
       "    <tr>\n",
       "      <th>7</th>\n",
       "      <td>Sep_16_2019 to Oct_13_2019</td>\n",
       "      <td>545999.00</td>\n",
       "      <td>85108.75</td>\n",
       "      <td>345860.50</td>\n",
       "      <td>71424.00</td>\n",
       "      <td>43605.75</td>\n",
       "    </tr>\n",
       "    <tr>\n",
       "      <th>8</th>\n",
       "      <td>Oct_14_2019 to Nov_17_2019</td>\n",
       "      <td>678015.50</td>\n",
       "      <td>226765.00</td>\n",
       "      <td>306373.00</td>\n",
       "      <td>144877.50</td>\n",
       "      <td>0.00</td>\n",
       "    </tr>\n",
       "    <tr>\n",
       "      <th>9</th>\n",
       "      <td>Nov_18_2019 to Dec_16_2019</td>\n",
       "      <td>560029.50</td>\n",
       "      <td>188117.75</td>\n",
       "      <td>255578.75</td>\n",
       "      <td>116333.00</td>\n",
       "      <td>0.00</td>\n",
       "    </tr>\n",
       "    <tr>\n",
       "      <th>10</th>\n",
       "      <td>Dec_17_2019 to Jan_15_2020</td>\n",
       "      <td>586465.50</td>\n",
       "      <td>194427.75</td>\n",
       "      <td>271362.25</td>\n",
       "      <td>120675.50</td>\n",
       "      <td>0.00</td>\n",
       "    </tr>\n",
       "    <tr>\n",
       "      <th>11</th>\n",
       "      <td>Jan_16_2020 to Feb_19_2020</td>\n",
       "      <td>672277.50</td>\n",
       "      <td>221307.00</td>\n",
       "      <td>308388.25</td>\n",
       "      <td>142582.25</td>\n",
       "      <td>0.00</td>\n",
       "    </tr>\n",
       "  </tbody>\n",
       "</table>\n",
       "</div>"
      ],
      "text/plain": [
       "                 Billing Month  kiloWattHour Total  \\\n",
       "0              Entire Interval          6901227.75   \n",
       "1   Mar_15_2019 to Apr_16_2019           617235.00   \n",
       "2   Apr_17_2019 to May_15_2019           553717.00   \n",
       "3   May_16_2019 to Jun_13_2019           549000.25   \n",
       "4   Jun_14_2019 to Jul_17_2019           648262.00   \n",
       "5   Jul_18_2019 to Aug_14_2019           534712.00   \n",
       "6   Aug_15_2019 to Sep_15_2019           610643.50   \n",
       "7   Sep_16_2019 to Oct_13_2019           545999.00   \n",
       "8   Oct_14_2019 to Nov_17_2019           678015.50   \n",
       "9   Nov_18_2019 to Dec_16_2019           560029.50   \n",
       "10  Dec_17_2019 to Jan_15_2020           586465.50   \n",
       "11  Jan_16_2020 to Feb_19_2020           672277.50   \n",
       "\n",
       "    kiloWattHour Super Off-Peak  kiloWattHour Off-Peak  kiloWattHour Mid-Peak  \\\n",
       "0                    1518047.00             3947831.25             1106351.25   \n",
       "1                     208458.75              283729.00              125047.25   \n",
       "2                     182300.00              252092.00              119325.00   \n",
       "3                      98830.75              335172.50               79047.50   \n",
       "4                          0.00              516024.50               43389.75   \n",
       "5                          0.00              423416.50               30468.50   \n",
       "6                          0.00              488546.50               42328.75   \n",
       "7                      85108.75              345860.50               71424.00   \n",
       "8                     226765.00              306373.00              144877.50   \n",
       "9                     188117.75              255578.75              116333.00   \n",
       "10                    194427.75              271362.25              120675.50   \n",
       "11                    221307.00              308388.25              142582.25   \n",
       "\n",
       "    kiloWattHour On-Peak  \n",
       "0              328998.25  \n",
       "1                   0.00  \n",
       "2                   0.00  \n",
       "3               35949.50  \n",
       "4               88847.75  \n",
       "5               80827.00  \n",
       "6               79768.25  \n",
       "7               43605.75  \n",
       "8                   0.00  \n",
       "9                   0.00  \n",
       "10                  0.00  \n",
       "11                  0.00  "
      ]
     },
     "execution_count": 31,
     "metadata": {},
     "output_type": "execute_result"
    }
   ],
   "source": [
    "kiloWattHour = energy(df,month)\n",
    "kiloWattHour"
   ]
  },
  {
   "cell_type": "code",
   "execution_count": 32,
   "metadata": {},
   "outputs": [],
   "source": [
    "def max_peak(df, month):\n",
    "    df = df.reset_index(drop=True)\n",
    "\n",
    "    if len(month) != 0:\n",
    "        monthLength = len(month) \n",
    "    else:\n",
    "         monthLength = 0\n",
    "\n",
    "    monthTitle = {}\n",
    "    for i in range(0, monthLength, 1): # iterates through every billing month df\n",
    "        monthTitle[i] = month[i].Timestamp.min().strftime('%b_%d_%Y') + ' to ' + month[i].Timestamp.max().strftime('%b_%d_%Y')\n",
    "\n",
    "    columns = ['Billing Month', 'max_peak Total', 'max_peak Super Off-Peak', 'max_peak Off-Peak', 'max_peak Mid-Peak', 'max_peak On-Peak']\n",
    "    col_len = int(len(columns))\n",
    "    max_peak = pd.DataFrame(np.zeros([monthLength, col_len])*np.nan, columns = columns)\n",
    "    for i in range(0, monthLength, 1):\n",
    "        month[i] = month[i].reset_index(drop=True)\n",
    "        max_peak['Billing Month'][i] = monthTitle[i]\n",
    "        max_peak['max_peak Total'][i] = month[i].Demand.max()\n",
    "        max_peak['max_peak Super Off-Peak'][i] = month[i].Demand[month[i].Peak == 'Super Off-Peak'].max()\n",
    "        max_peak['max_peak Off-Peak'][i] = month[i].Demand[month[i].Peak == 'Off-Peak'].max()\n",
    "        max_peak['max_peak Mid-Peak'][i] = month[i].Demand[month[i].Peak == 'Mid-Peak'].max()\n",
    "        max_peak['max_peak On-Peak'][i] = month[i].Demand[month[i].Peak == 'On-Peak'].max()\n",
    "\n",
    "    max_peak.loc[len(max_peak)] = np.nan\n",
    "    max_peak = max_peak.shift()\n",
    "    max_peak['Billing Month'][0] = 'Entire Interval'\n",
    "    max_peak['max_peak Total'][0] = df.Demand.max()\n",
    "    max_peak['max_peak Super Off-Peak'][0] = df.Demand[df.Peak == 'Super Off-Peak'].max()\n",
    "    max_peak['max_peak Off-Peak'][0] = df.Demand[df.Peak == 'Off-Peak'].max()\n",
    "    max_peak['max_peak Mid-Peak'][0] = df.Demand[df.Peak == 'Mid-Peak'].max()\n",
    "    max_peak['max_peak On-Peak'][0] = df.Demand[df.Peak == 'On-Peak'].max()\n",
    "\n",
    "    return max_peak"
   ]
  },
  {
   "cell_type": "code",
   "execution_count": 33,
   "metadata": {},
   "outputs": [
    {
     "name": "stderr",
     "output_type": "stream",
     "text": [
      "/home/luisfernando/anaconda3/lib/python3.7/site-packages/ipykernel_launcher.py:19: SettingWithCopyWarning: \n",
      "A value is trying to be set on a copy of a slice from a DataFrame\n",
      "\n",
      "See the caveats in the documentation: https://pandas.pydata.org/pandas-docs/stable/user_guide/indexing.html#returning-a-view-versus-a-copy\n",
      "/home/luisfernando/anaconda3/lib/python3.7/site-packages/ipykernel_launcher.py:20: SettingWithCopyWarning: \n",
      "A value is trying to be set on a copy of a slice from a DataFrame\n",
      "\n",
      "See the caveats in the documentation: https://pandas.pydata.org/pandas-docs/stable/user_guide/indexing.html#returning-a-view-versus-a-copy\n",
      "/home/luisfernando/anaconda3/lib/python3.7/site-packages/ipykernel_launcher.py:21: SettingWithCopyWarning: \n",
      "A value is trying to be set on a copy of a slice from a DataFrame\n",
      "\n",
      "See the caveats in the documentation: https://pandas.pydata.org/pandas-docs/stable/user_guide/indexing.html#returning-a-view-versus-a-copy\n",
      "/home/luisfernando/anaconda3/lib/python3.7/site-packages/ipykernel_launcher.py:22: SettingWithCopyWarning: \n",
      "A value is trying to be set on a copy of a slice from a DataFrame\n",
      "\n",
      "See the caveats in the documentation: https://pandas.pydata.org/pandas-docs/stable/user_guide/indexing.html#returning-a-view-versus-a-copy\n",
      "/home/luisfernando/anaconda3/lib/python3.7/site-packages/ipykernel_launcher.py:23: SettingWithCopyWarning: \n",
      "A value is trying to be set on a copy of a slice from a DataFrame\n",
      "\n",
      "See the caveats in the documentation: https://pandas.pydata.org/pandas-docs/stable/user_guide/indexing.html#returning-a-view-versus-a-copy\n",
      "/home/luisfernando/anaconda3/lib/python3.7/site-packages/ipykernel_launcher.py:18: SettingWithCopyWarning: \n",
      "A value is trying to be set on a copy of a slice from a DataFrame\n",
      "\n",
      "See the caveats in the documentation: https://pandas.pydata.org/pandas-docs/stable/user_guide/indexing.html#returning-a-view-versus-a-copy\n",
      "/home/luisfernando/anaconda3/lib/python3.7/site-packages/ipykernel_launcher.py:27: SettingWithCopyWarning: \n",
      "A value is trying to be set on a copy of a slice from a DataFrame\n",
      "\n",
      "See the caveats in the documentation: https://pandas.pydata.org/pandas-docs/stable/user_guide/indexing.html#returning-a-view-versus-a-copy\n",
      "/home/luisfernando/anaconda3/lib/python3.7/site-packages/ipykernel_launcher.py:28: SettingWithCopyWarning: \n",
      "A value is trying to be set on a copy of a slice from a DataFrame\n",
      "\n",
      "See the caveats in the documentation: https://pandas.pydata.org/pandas-docs/stable/user_guide/indexing.html#returning-a-view-versus-a-copy\n",
      "/home/luisfernando/anaconda3/lib/python3.7/site-packages/ipykernel_launcher.py:29: SettingWithCopyWarning: \n",
      "A value is trying to be set on a copy of a slice from a DataFrame\n",
      "\n",
      "See the caveats in the documentation: https://pandas.pydata.org/pandas-docs/stable/user_guide/indexing.html#returning-a-view-versus-a-copy\n",
      "/home/luisfernando/anaconda3/lib/python3.7/site-packages/ipykernel_launcher.py:30: SettingWithCopyWarning: \n",
      "A value is trying to be set on a copy of a slice from a DataFrame\n",
      "\n",
      "See the caveats in the documentation: https://pandas.pydata.org/pandas-docs/stable/user_guide/indexing.html#returning-a-view-versus-a-copy\n",
      "/home/luisfernando/anaconda3/lib/python3.7/site-packages/ipykernel_launcher.py:31: SettingWithCopyWarning: \n",
      "A value is trying to be set on a copy of a slice from a DataFrame\n",
      "\n",
      "See the caveats in the documentation: https://pandas.pydata.org/pandas-docs/stable/user_guide/indexing.html#returning-a-view-versus-a-copy\n",
      "/home/luisfernando/anaconda3/lib/python3.7/site-packages/ipykernel_launcher.py:32: SettingWithCopyWarning: \n",
      "A value is trying to be set on a copy of a slice from a DataFrame\n",
      "\n",
      "See the caveats in the documentation: https://pandas.pydata.org/pandas-docs/stable/user_guide/indexing.html#returning-a-view-versus-a-copy\n"
     ]
    },
    {
     "data": {
      "text/html": [
       "<div>\n",
       "<style scoped>\n",
       "    .dataframe tbody tr th:only-of-type {\n",
       "        vertical-align: middle;\n",
       "    }\n",
       "\n",
       "    .dataframe tbody tr th {\n",
       "        vertical-align: top;\n",
       "    }\n",
       "\n",
       "    .dataframe thead th {\n",
       "        text-align: right;\n",
       "    }\n",
       "</style>\n",
       "<table border=\"1\" class=\"dataframe\">\n",
       "  <thead>\n",
       "    <tr style=\"text-align: right;\">\n",
       "      <th></th>\n",
       "      <th>Billing Month</th>\n",
       "      <th>max_peak Total</th>\n",
       "      <th>max_peak Super Off-Peak</th>\n",
       "      <th>max_peak Off-Peak</th>\n",
       "      <th>max_peak Mid-Peak</th>\n",
       "      <th>max_peak On-Peak</th>\n",
       "    </tr>\n",
       "  </thead>\n",
       "  <tbody>\n",
       "    <tr>\n",
       "      <th>0</th>\n",
       "      <td>Entire Interval</td>\n",
       "      <td>5051.0</td>\n",
       "      <td>2563.0</td>\n",
       "      <td>5051.0</td>\n",
       "      <td>2132.0</td>\n",
       "      <td>4521.0</td>\n",
       "    </tr>\n",
       "    <tr>\n",
       "      <th>1</th>\n",
       "      <td>Mar_15_2019 to Apr_16_2019</td>\n",
       "      <td>1499.0</td>\n",
       "      <td>1499.0</td>\n",
       "      <td>1498.0</td>\n",
       "      <td>1498.0</td>\n",
       "      <td>NaN</td>\n",
       "    </tr>\n",
       "    <tr>\n",
       "      <th>2</th>\n",
       "      <td>Apr_17_2019 to May_15_2019</td>\n",
       "      <td>1499.0</td>\n",
       "      <td>1496.0</td>\n",
       "      <td>1499.0</td>\n",
       "      <td>1495.0</td>\n",
       "      <td>NaN</td>\n",
       "    </tr>\n",
       "    <tr>\n",
       "      <th>3</th>\n",
       "      <td>May_16_2019 to Jun_13_2019</td>\n",
       "      <td>1499.0</td>\n",
       "      <td>1497.0</td>\n",
       "      <td>1498.0</td>\n",
       "      <td>1499.0</td>\n",
       "      <td>1497.0</td>\n",
       "    </tr>\n",
       "    <tr>\n",
       "      <th>4</th>\n",
       "      <td>Jun_14_2019 to Jul_17_2019</td>\n",
       "      <td>1499.0</td>\n",
       "      <td>NaN</td>\n",
       "      <td>1499.0</td>\n",
       "      <td>1485.0</td>\n",
       "      <td>1493.0</td>\n",
       "    </tr>\n",
       "    <tr>\n",
       "      <th>5</th>\n",
       "      <td>Jul_18_2019 to Aug_14_2019</td>\n",
       "      <td>1499.0</td>\n",
       "      <td>NaN</td>\n",
       "      <td>1499.0</td>\n",
       "      <td>1476.0</td>\n",
       "      <td>1490.0</td>\n",
       "    </tr>\n",
       "    <tr>\n",
       "      <th>6</th>\n",
       "      <td>Aug_15_2019 to Sep_15_2019</td>\n",
       "      <td>5051.0</td>\n",
       "      <td>NaN</td>\n",
       "      <td>5051.0</td>\n",
       "      <td>1493.0</td>\n",
       "      <td>4521.0</td>\n",
       "    </tr>\n",
       "    <tr>\n",
       "      <th>7</th>\n",
       "      <td>Sep_16_2019 to Oct_13_2019</td>\n",
       "      <td>3056.0</td>\n",
       "      <td>1495.0</td>\n",
       "      <td>3056.0</td>\n",
       "      <td>1499.0</td>\n",
       "      <td>1499.0</td>\n",
       "    </tr>\n",
       "    <tr>\n",
       "      <th>8</th>\n",
       "      <td>Oct_14_2019 to Nov_17_2019</td>\n",
       "      <td>2132.0</td>\n",
       "      <td>1497.0</td>\n",
       "      <td>1499.0</td>\n",
       "      <td>2132.0</td>\n",
       "      <td>NaN</td>\n",
       "    </tr>\n",
       "    <tr>\n",
       "      <th>9</th>\n",
       "      <td>Nov_18_2019 to Dec_16_2019</td>\n",
       "      <td>2563.0</td>\n",
       "      <td>2563.0</td>\n",
       "      <td>1499.0</td>\n",
       "      <td>1492.0</td>\n",
       "      <td>NaN</td>\n",
       "    </tr>\n",
       "    <tr>\n",
       "      <th>10</th>\n",
       "      <td>Dec_17_2019 to Jan_15_2020</td>\n",
       "      <td>1499.0</td>\n",
       "      <td>1499.0</td>\n",
       "      <td>1499.0</td>\n",
       "      <td>1497.0</td>\n",
       "      <td>NaN</td>\n",
       "    </tr>\n",
       "    <tr>\n",
       "      <th>11</th>\n",
       "      <td>Jan_16_2020 to Feb_19_2020</td>\n",
       "      <td>1499.0</td>\n",
       "      <td>1499.0</td>\n",
       "      <td>1499.0</td>\n",
       "      <td>1496.0</td>\n",
       "      <td>NaN</td>\n",
       "    </tr>\n",
       "  </tbody>\n",
       "</table>\n",
       "</div>"
      ],
      "text/plain": [
       "                 Billing Month  max_peak Total  max_peak Super Off-Peak  \\\n",
       "0              Entire Interval          5051.0                   2563.0   \n",
       "1   Mar_15_2019 to Apr_16_2019          1499.0                   1499.0   \n",
       "2   Apr_17_2019 to May_15_2019          1499.0                   1496.0   \n",
       "3   May_16_2019 to Jun_13_2019          1499.0                   1497.0   \n",
       "4   Jun_14_2019 to Jul_17_2019          1499.0                      NaN   \n",
       "5   Jul_18_2019 to Aug_14_2019          1499.0                      NaN   \n",
       "6   Aug_15_2019 to Sep_15_2019          5051.0                      NaN   \n",
       "7   Sep_16_2019 to Oct_13_2019          3056.0                   1495.0   \n",
       "8   Oct_14_2019 to Nov_17_2019          2132.0                   1497.0   \n",
       "9   Nov_18_2019 to Dec_16_2019          2563.0                   2563.0   \n",
       "10  Dec_17_2019 to Jan_15_2020          1499.0                   1499.0   \n",
       "11  Jan_16_2020 to Feb_19_2020          1499.0                   1499.0   \n",
       "\n",
       "    max_peak Off-Peak  max_peak Mid-Peak  max_peak On-Peak  \n",
       "0              5051.0             2132.0            4521.0  \n",
       "1              1498.0             1498.0               NaN  \n",
       "2              1499.0             1495.0               NaN  \n",
       "3              1498.0             1499.0            1497.0  \n",
       "4              1499.0             1485.0            1493.0  \n",
       "5              1499.0             1476.0            1490.0  \n",
       "6              5051.0             1493.0            4521.0  \n",
       "7              3056.0             1499.0            1499.0  \n",
       "8              1499.0             2132.0               NaN  \n",
       "9              1499.0             1492.0               NaN  \n",
       "10             1499.0             1497.0               NaN  \n",
       "11             1499.0             1496.0               NaN  "
      ]
     },
     "execution_count": 33,
     "metadata": {},
     "output_type": "execute_result"
    }
   ],
   "source": [
    "max_peak = max_peak(df, month)\n",
    "max_peak"
   ]
  },
  {
   "cell_type": "code",
   "execution_count": 34,
   "metadata": {},
   "outputs": [],
   "source": [
    "def energy_percentage(df, month):\n",
    "    df = df.reset_index(drop=True)\n",
    "\n",
    "    if len(month) != 0:\n",
    "        monthLength = len(month) \n",
    "    else:\n",
    "         monthLength = 0\n",
    "         \n",
    "    monthTitle = {}\n",
    "    for i in range(0, monthLength, 1): # iterates through every billing month df\n",
    "        monthTitle[i] = month[i].Timestamp.min().strftime('%b_%d_%Y') + ' to ' + month[i].Timestamp.max().strftime('%b_%d_%Y')\n",
    "\n",
    "    columns = ['Billing Month', 'Energy_Percentage Total', 'Energy_Percentage Super Off-Peak', 'Energy_Percentage Off-Peak', 'Energy_Percentage Mid-Peak', 'Energy_Percentage On-Peak']\n",
    "    col_len = int(len(columns))\n",
    "    Energy_Percentage = pd.DataFrame(np.zeros([monthLength, col_len])*np.nan, columns = columns)\n",
    "    for i in range(0, monthLength, 1):\n",
    "        month[i] = month[i].reset_index(drop=True)\n",
    "        Energy_Percentage['Billing Month'][i] = monthTitle[i]\n",
    "        month_sum = month[i].Demand.sum()\n",
    "        Energy_Percentage['Energy_Percentage Super Off-Peak'][i] = month[i].Demand[month[i].Peak == 'Super Off-Peak'].sum() / month_sum\n",
    "        Energy_Percentage['Energy_Percentage Off-Peak'][i] = month[i].Demand[month[i].Peak == 'Off-Peak'].sum() / month_sum\n",
    "        Energy_Percentage['Energy_Percentage Mid-Peak'][i] = month[i].Demand[month[i].Peak == 'Mid-Peak'].sum() / month_sum\n",
    "        Energy_Percentage['Energy_Percentage On-Peak'][i] = month[i].Demand[month[i].Peak == 'On-Peak'].sum() / month_sum\n",
    "        Energy_Percentage['Energy_Percentage Total'][i] = Energy_Percentage['Energy_Percentage Super Off-Peak'][i] + Energy_Percentage['Energy_Percentage Off-Peak'][i] + Energy_Percentage['Energy_Percentage Mid-Peak'][i] + Energy_Percentage['Energy_Percentage On-Peak'][i]\n",
    "\n",
    "    Energy_Percentage.loc[len(Energy_Percentage)] = np.nan\n",
    "    Energy_Percentage = Energy_Percentage.shift()\n",
    "    Energy_Percentage['Billing Month'][0] = 'Entire Interval'\n",
    "    df_sum = df.Demand.sum()\n",
    "    Energy_Percentage['Energy_Percentage Super Off-Peak'][0] = df.Demand[df.Peak == 'Super Off-Peak'].sum() / df_sum\n",
    "    Energy_Percentage['Energy_Percentage Off-Peak'][0] = df.Demand[df.Peak == 'Off-Peak'].sum() / df_sum\n",
    "    Energy_Percentage['Energy_Percentage Mid-Peak'][0] = df.Demand[df.Peak == 'Mid-Peak'].sum() / df_sum\n",
    "    Energy_Percentage['Energy_Percentage On-Peak'][0] = df.Demand[df.Peak == 'On-Peak'].sum() / df_sum\n",
    "    Energy_Percentage['Energy_Percentage Total'][0] = Energy_Percentage['Energy_Percentage Super Off-Peak'][0] + Energy_Percentage['Energy_Percentage Off-Peak'][0] + Energy_Percentage['Energy_Percentage Mid-Peak'][0] + Energy_Percentage['Energy_Percentage On-Peak'][0]\n",
    "\n",
    "    return Energy_Percentage"
   ]
  },
  {
   "cell_type": "code",
   "execution_count": 35,
   "metadata": {},
   "outputs": [
    {
     "name": "stderr",
     "output_type": "stream",
     "text": [
      "/home/luisfernando/anaconda3/lib/python3.7/site-packages/ipykernel_launcher.py:20: SettingWithCopyWarning: \n",
      "A value is trying to be set on a copy of a slice from a DataFrame\n",
      "\n",
      "See the caveats in the documentation: https://pandas.pydata.org/pandas-docs/stable/user_guide/indexing.html#returning-a-view-versus-a-copy\n",
      "/home/luisfernando/anaconda3/lib/python3.7/site-packages/ipykernel_launcher.py:21: SettingWithCopyWarning: \n",
      "A value is trying to be set on a copy of a slice from a DataFrame\n",
      "\n",
      "See the caveats in the documentation: https://pandas.pydata.org/pandas-docs/stable/user_guide/indexing.html#returning-a-view-versus-a-copy\n",
      "/home/luisfernando/anaconda3/lib/python3.7/site-packages/ipykernel_launcher.py:22: SettingWithCopyWarning: \n",
      "A value is trying to be set on a copy of a slice from a DataFrame\n",
      "\n",
      "See the caveats in the documentation: https://pandas.pydata.org/pandas-docs/stable/user_guide/indexing.html#returning-a-view-versus-a-copy\n",
      "/home/luisfernando/anaconda3/lib/python3.7/site-packages/ipykernel_launcher.py:23: SettingWithCopyWarning: \n",
      "A value is trying to be set on a copy of a slice from a DataFrame\n",
      "\n",
      "See the caveats in the documentation: https://pandas.pydata.org/pandas-docs/stable/user_guide/indexing.html#returning-a-view-versus-a-copy\n",
      "/home/luisfernando/anaconda3/lib/python3.7/site-packages/ipykernel_launcher.py:24: SettingWithCopyWarning: \n",
      "A value is trying to be set on a copy of a slice from a DataFrame\n",
      "\n",
      "See the caveats in the documentation: https://pandas.pydata.org/pandas-docs/stable/user_guide/indexing.html#returning-a-view-versus-a-copy\n",
      "/home/luisfernando/anaconda3/lib/python3.7/site-packages/ipykernel_launcher.py:18: SettingWithCopyWarning: \n",
      "A value is trying to be set on a copy of a slice from a DataFrame\n",
      "\n",
      "See the caveats in the documentation: https://pandas.pydata.org/pandas-docs/stable/user_guide/indexing.html#returning-a-view-versus-a-copy\n",
      "/home/luisfernando/anaconda3/lib/python3.7/site-packages/ipykernel_launcher.py:28: SettingWithCopyWarning: \n",
      "A value is trying to be set on a copy of a slice from a DataFrame\n",
      "\n",
      "See the caveats in the documentation: https://pandas.pydata.org/pandas-docs/stable/user_guide/indexing.html#returning-a-view-versus-a-copy\n",
      "/home/luisfernando/anaconda3/lib/python3.7/site-packages/ipykernel_launcher.py:30: SettingWithCopyWarning: \n",
      "A value is trying to be set on a copy of a slice from a DataFrame\n",
      "\n",
      "See the caveats in the documentation: https://pandas.pydata.org/pandas-docs/stable/user_guide/indexing.html#returning-a-view-versus-a-copy\n",
      "/home/luisfernando/anaconda3/lib/python3.7/site-packages/ipykernel_launcher.py:31: SettingWithCopyWarning: \n",
      "A value is trying to be set on a copy of a slice from a DataFrame\n",
      "\n",
      "See the caveats in the documentation: https://pandas.pydata.org/pandas-docs/stable/user_guide/indexing.html#returning-a-view-versus-a-copy\n",
      "/home/luisfernando/anaconda3/lib/python3.7/site-packages/ipykernel_launcher.py:32: SettingWithCopyWarning: \n",
      "A value is trying to be set on a copy of a slice from a DataFrame\n",
      "\n",
      "See the caveats in the documentation: https://pandas.pydata.org/pandas-docs/stable/user_guide/indexing.html#returning-a-view-versus-a-copy\n",
      "/home/luisfernando/anaconda3/lib/python3.7/site-packages/ipykernel_launcher.py:33: SettingWithCopyWarning: \n",
      "A value is trying to be set on a copy of a slice from a DataFrame\n",
      "\n",
      "See the caveats in the documentation: https://pandas.pydata.org/pandas-docs/stable/user_guide/indexing.html#returning-a-view-versus-a-copy\n",
      "/home/luisfernando/anaconda3/lib/python3.7/site-packages/ipykernel_launcher.py:34: SettingWithCopyWarning: \n",
      "A value is trying to be set on a copy of a slice from a DataFrame\n",
      "\n",
      "See the caveats in the documentation: https://pandas.pydata.org/pandas-docs/stable/user_guide/indexing.html#returning-a-view-versus-a-copy\n"
     ]
    },
    {
     "data": {
      "text/html": [
       "<div>\n",
       "<style scoped>\n",
       "    .dataframe tbody tr th:only-of-type {\n",
       "        vertical-align: middle;\n",
       "    }\n",
       "\n",
       "    .dataframe tbody tr th {\n",
       "        vertical-align: top;\n",
       "    }\n",
       "\n",
       "    .dataframe thead th {\n",
       "        text-align: right;\n",
       "    }\n",
       "</style>\n",
       "<table border=\"1\" class=\"dataframe\">\n",
       "  <thead>\n",
       "    <tr style=\"text-align: right;\">\n",
       "      <th></th>\n",
       "      <th>Billing Month</th>\n",
       "      <th>Energy_Percentage Total</th>\n",
       "      <th>Energy_Percentage Super Off-Peak</th>\n",
       "      <th>Energy_Percentage Off-Peak</th>\n",
       "      <th>Energy_Percentage Mid-Peak</th>\n",
       "      <th>Energy_Percentage On-Peak</th>\n",
       "    </tr>\n",
       "  </thead>\n",
       "  <tbody>\n",
       "    <tr>\n",
       "      <th>0</th>\n",
       "      <td>Entire Interval</td>\n",
       "      <td>1.0</td>\n",
       "      <td>0.219968</td>\n",
       "      <td>0.572048</td>\n",
       "      <td>0.160312</td>\n",
       "      <td>0.047672</td>\n",
       "    </tr>\n",
       "    <tr>\n",
       "      <th>1</th>\n",
       "      <td>Mar_15_2019 to Apr_16_2019</td>\n",
       "      <td>1.0</td>\n",
       "      <td>0.337730</td>\n",
       "      <td>0.459677</td>\n",
       "      <td>0.202593</td>\n",
       "      <td>0.000000</td>\n",
       "    </tr>\n",
       "    <tr>\n",
       "      <th>2</th>\n",
       "      <td>Apr_17_2019 to May_15_2019</td>\n",
       "      <td>1.0</td>\n",
       "      <td>0.329230</td>\n",
       "      <td>0.455272</td>\n",
       "      <td>0.215498</td>\n",
       "      <td>0.000000</td>\n",
       "    </tr>\n",
       "    <tr>\n",
       "      <th>3</th>\n",
       "      <td>May_16_2019 to Jun_13_2019</td>\n",
       "      <td>1.0</td>\n",
       "      <td>0.180019</td>\n",
       "      <td>0.610514</td>\n",
       "      <td>0.143984</td>\n",
       "      <td>0.065482</td>\n",
       "    </tr>\n",
       "    <tr>\n",
       "      <th>4</th>\n",
       "      <td>Jun_14_2019 to Jul_17_2019</td>\n",
       "      <td>1.0</td>\n",
       "      <td>0.000000</td>\n",
       "      <td>0.796012</td>\n",
       "      <td>0.066932</td>\n",
       "      <td>0.137055</td>\n",
       "    </tr>\n",
       "    <tr>\n",
       "      <th>5</th>\n",
       "      <td>Jul_18_2019 to Aug_14_2019</td>\n",
       "      <td>1.0</td>\n",
       "      <td>0.000000</td>\n",
       "      <td>0.791859</td>\n",
       "      <td>0.056981</td>\n",
       "      <td>0.151160</td>\n",
       "    </tr>\n",
       "    <tr>\n",
       "      <th>6</th>\n",
       "      <td>Aug_15_2019 to Sep_15_2019</td>\n",
       "      <td>1.0</td>\n",
       "      <td>0.000000</td>\n",
       "      <td>0.800052</td>\n",
       "      <td>0.069318</td>\n",
       "      <td>0.130630</td>\n",
       "    </tr>\n",
       "    <tr>\n",
       "      <th>7</th>\n",
       "      <td>Sep_16_2019 to Oct_13_2019</td>\n",
       "      <td>1.0</td>\n",
       "      <td>0.155877</td>\n",
       "      <td>0.633445</td>\n",
       "      <td>0.130813</td>\n",
       "      <td>0.079864</td>\n",
       "    </tr>\n",
       "    <tr>\n",
       "      <th>8</th>\n",
       "      <td>Oct_14_2019 to Nov_17_2019</td>\n",
       "      <td>1.0</td>\n",
       "      <td>0.334454</td>\n",
       "      <td>0.451867</td>\n",
       "      <td>0.213679</td>\n",
       "      <td>0.000000</td>\n",
       "    </tr>\n",
       "    <tr>\n",
       "      <th>9</th>\n",
       "      <td>Nov_18_2019 to Dec_16_2019</td>\n",
       "      <td>1.0</td>\n",
       "      <td>0.335907</td>\n",
       "      <td>0.456367</td>\n",
       "      <td>0.207727</td>\n",
       "      <td>0.000000</td>\n",
       "    </tr>\n",
       "    <tr>\n",
       "      <th>10</th>\n",
       "      <td>Dec_17_2019 to Jan_15_2020</td>\n",
       "      <td>1.0</td>\n",
       "      <td>0.331525</td>\n",
       "      <td>0.462708</td>\n",
       "      <td>0.205767</td>\n",
       "      <td>0.000000</td>\n",
       "    </tr>\n",
       "    <tr>\n",
       "      <th>11</th>\n",
       "      <td>Jan_16_2020 to Feb_19_2020</td>\n",
       "      <td>1.0</td>\n",
       "      <td>0.329190</td>\n",
       "      <td>0.458722</td>\n",
       "      <td>0.212088</td>\n",
       "      <td>0.000000</td>\n",
       "    </tr>\n",
       "  </tbody>\n",
       "</table>\n",
       "</div>"
      ],
      "text/plain": [
       "                 Billing Month  Energy_Percentage Total  \\\n",
       "0              Entire Interval                      1.0   \n",
       "1   Mar_15_2019 to Apr_16_2019                      1.0   \n",
       "2   Apr_17_2019 to May_15_2019                      1.0   \n",
       "3   May_16_2019 to Jun_13_2019                      1.0   \n",
       "4   Jun_14_2019 to Jul_17_2019                      1.0   \n",
       "5   Jul_18_2019 to Aug_14_2019                      1.0   \n",
       "6   Aug_15_2019 to Sep_15_2019                      1.0   \n",
       "7   Sep_16_2019 to Oct_13_2019                      1.0   \n",
       "8   Oct_14_2019 to Nov_17_2019                      1.0   \n",
       "9   Nov_18_2019 to Dec_16_2019                      1.0   \n",
       "10  Dec_17_2019 to Jan_15_2020                      1.0   \n",
       "11  Jan_16_2020 to Feb_19_2020                      1.0   \n",
       "\n",
       "    Energy_Percentage Super Off-Peak  Energy_Percentage Off-Peak  \\\n",
       "0                           0.219968                    0.572048   \n",
       "1                           0.337730                    0.459677   \n",
       "2                           0.329230                    0.455272   \n",
       "3                           0.180019                    0.610514   \n",
       "4                           0.000000                    0.796012   \n",
       "5                           0.000000                    0.791859   \n",
       "6                           0.000000                    0.800052   \n",
       "7                           0.155877                    0.633445   \n",
       "8                           0.334454                    0.451867   \n",
       "9                           0.335907                    0.456367   \n",
       "10                          0.331525                    0.462708   \n",
       "11                          0.329190                    0.458722   \n",
       "\n",
       "    Energy_Percentage Mid-Peak  Energy_Percentage On-Peak  \n",
       "0                     0.160312                   0.047672  \n",
       "1                     0.202593                   0.000000  \n",
       "2                     0.215498                   0.000000  \n",
       "3                     0.143984                   0.065482  \n",
       "4                     0.066932                   0.137055  \n",
       "5                     0.056981                   0.151160  \n",
       "6                     0.069318                   0.130630  \n",
       "7                     0.130813                   0.079864  \n",
       "8                     0.213679                   0.000000  \n",
       "9                     0.207727                   0.000000  \n",
       "10                    0.205767                   0.000000  \n",
       "11                    0.212088                   0.000000  "
      ]
     },
     "execution_count": 35,
     "metadata": {},
     "output_type": "execute_result"
    }
   ],
   "source": [
    "kW_percentage = energy_percentage(df, month)\n",
    "kW_percentage"
   ]
  },
  {
   "cell_type": "code",
   "execution_count": null,
   "metadata": {},
   "outputs": [],
   "source": [
    "monthTitle = {}\n",
    "for j in range(0, monthLength, 1): # iterates through every billing month df\n",
    "    monthTitle[j] = month[j].Date.min().strftime('%B %d, %Y') + ' to ' + month[j].Date.max().strftime('%B %d, %Y')\n",
    "\n",
    "columns = ['Billing Month', 'Load Factor Total', 'Load Factor Super Off-Peak', 'Load Factor Off-Peak', 'Load Factor Mid-Peak', 'Load Factor On-Peak']\n",
    "col_len = int(len(columns))\n",
    "loadFactor = pd.DataFrame(np.zeros([monthLength, col_len])*np.nan, columns = columns)\n",
    "for i in range(0, monthLength, 1):\n",
    "    loadFactor['Billing Month'][i] = monthTitle[i]\n",
    "    loadFactor['Load Factor Total'][i] = month[i].value.mean() / month[i].value.max()\n",
    "    loadFactor['Load Factor Super Off-Peak'][i] = month[i].value[month[i].Peak == 'Super Off-Peak'].mean() / month[i].value[month[i].Peak == 'Super Off-Peak'].max()\n",
    "    loadFactor['Load Factor Off-Peak'][i] = month[i].value[month[i].Peak == 'Off-Peak'].mean() / month[i].value[month[i].Peak == 'Off-Peak'].max()\n",
    "    loadFactor['Load Factor Mid-Peak'][i] = month[i].value[month[i].Peak == 'Mid-Peak'].mean() / month[i].value[month[i].Peak == 'Mid-Peak'].max()\n",
    "    loadFactor['Load Factor On-Peak'][i] = month[i].value[month[i].Peak == 'On-Peak'].mean() / month[i].value[month[i].Peak == 'On-Peak'].max()\n",
    "\n",
    "loadFactor.loc[len(loadFactor)] = np.nan\n",
    "loadFactor = loadFactor.shift()\n",
    "loadFactor['Billing Month'][0] = 'Entire Interval'\n",
    "loadFactor['Load Factor Total'][0] = df.value.mean() / df.value.max()\n",
    "loadFactor['Load Factor Super Off-Peak'][0] = df.value[df.Peak == 'Super Off-Peak'].mean() / df.value[df.Peak == 'Super Off-Peak'].max()\n",
    "loadFactor['Load Factor Off-Peak'][0] = df.value[df.Peak == 'Off-Peak'].mean() / df.value[df.Peak == 'Off-Peak'].max()\n",
    "loadFactor['Load Factor Mid-Peak'][0] = df.value[df.Peak == 'Mid-Peak'].mean() / df.value[df.Peak == 'Mid-Peak'].max()\n",
    "loadFactor['Load Factor On-Peak'][0] = df.value[df.Peak == 'On-Peak'].mean() / df.value[df.Peak == 'On-Peak'].max()"
   ]
  },
  {
   "cell_type": "markdown",
   "metadata": {},
   "source": [
    "## Title Generation"
   ]
  },
  {
   "cell_type": "code",
   "execution_count": 38,
   "metadata": {},
   "outputs": [
    {
     "name": "stdout",
     "output_type": "stream",
     "text": [
      "Ugly Factory From: 01/05/2020 to 02/07/2020\n"
     ]
    }
   ],
   "source": [
    "site_name = \"Ugly Factory\"\n",
    "begin_date = \"01/05/2020\"\n",
    "end_date = \"02/07/2020\"\n",
    "string = site_name + \" From: \" + begin_date + \" to \" + end_date\n",
    "print(string)"
   ]
  },
  {
   "cell_type": "code",
   "execution_count": 48,
   "metadata": {},
   "outputs": [
    {
     "name": "stdout",
     "output_type": "stream",
     "text": [
      "Fun Town Water District\n",
      "Site Name: Ugly Factory || Account Number: 4224251997 || From: January 05, 2020 to February 07, 2020\n"
     ]
    }
   ],
   "source": [
    "company_name = \"Fun Town Water District\"\n",
    "site_name = \"Ugly Factory\"\n",
    "account_number = 4224251997\n",
    "begin_date = \"January 05, 2020\"\n",
    "end_date = \"February 07, 2020\"\n",
    "string = company_name + \"\\nSite Name: \" + site_name + \" || Account Number: \" + str(account_number) + \" || From: \" + begin_date + \" to \" + end_date\n",
    "print(string)"
   ]
  },
  {
   "cell_type": "code",
   "execution_count": 42,
   "metadata": {},
   "outputs": [
    {
     "data": {
      "text/plain": [
       "Timestamp('2019-03-07 00:00:00')"
      ]
     },
     "execution_count": 42,
     "metadata": {},
     "output_type": "execute_result"
    }
   ],
   "source": [
    "df.Timestamp[0]"
   ]
  },
  {
   "cell_type": "code",
   "execution_count": 43,
   "metadata": {},
   "outputs": [
    {
     "data": {
      "text/plain": [
       "'Mar 07 19 12:00:00 AM'"
      ]
     },
     "execution_count": 43,
     "metadata": {},
     "output_type": "execute_result"
    }
   ],
   "source": [
    "df.Timestamp[0].strftime('%b %d %y %r')"
   ]
  },
  {
   "cell_type": "markdown",
   "metadata": {},
   "source": [
    "Month Uppercase"
   ]
  },
  {
   "cell_type": "code",
   "execution_count": 47,
   "metadata": {},
   "outputs": [
    {
     "data": {
      "text/plain": [
       "'March'"
      ]
     },
     "execution_count": 47,
     "metadata": {},
     "output_type": "execute_result"
    }
   ],
   "source": [
    "df.Timestamp[0].strftime('%B')"
   ]
  },
  {
   "cell_type": "markdown",
   "metadata": {},
   "source": [
    "Month Lowercase"
   ]
  },
  {
   "cell_type": "code",
   "execution_count": 49,
   "metadata": {},
   "outputs": [
    {
     "data": {
      "text/plain": [
       "'Mar'"
      ]
     },
     "execution_count": 49,
     "metadata": {},
     "output_type": "execute_result"
    }
   ],
   "source": [
    "df.Timestamp[0].strftime('%b')"
   ]
  },
  {
   "cell_type": "markdown",
   "metadata": {},
   "source": [
    "Day Uppercase"
   ]
  },
  {
   "cell_type": "code",
   "execution_count": 50,
   "metadata": {},
   "outputs": [
    {
     "data": {
      "text/plain": [
       "'03/07/19'"
      ]
     },
     "execution_count": 50,
     "metadata": {},
     "output_type": "execute_result"
    }
   ],
   "source": [
    "df.Timestamp[0].strftime('%D')"
   ]
  },
  {
   "cell_type": "markdown",
   "metadata": {},
   "source": [
    "Day Lowercase"
   ]
  },
  {
   "cell_type": "code",
   "execution_count": 51,
   "metadata": {},
   "outputs": [
    {
     "data": {
      "text/plain": [
       "'07'"
      ]
     },
     "execution_count": 51,
     "metadata": {},
     "output_type": "execute_result"
    }
   ],
   "source": [
    "df.Timestamp[0].strftime('%d')"
   ]
  },
  {
   "cell_type": "markdown",
   "metadata": {},
   "source": [
    "Year Uppercase"
   ]
  },
  {
   "cell_type": "code",
   "execution_count": 53,
   "metadata": {},
   "outputs": [
    {
     "data": {
      "text/plain": [
       "'2019'"
      ]
     },
     "execution_count": 53,
     "metadata": {},
     "output_type": "execute_result"
    }
   ],
   "source": [
    "df.Timestamp[0].strftime('%Y')"
   ]
  },
  {
   "cell_type": "markdown",
   "metadata": {},
   "source": [
    "Year Lowercase"
   ]
  },
  {
   "cell_type": "code",
   "execution_count": 54,
   "metadata": {},
   "outputs": [
    {
     "data": {
      "text/plain": [
       "'19'"
      ]
     },
     "execution_count": 54,
     "metadata": {},
     "output_type": "execute_result"
    }
   ],
   "source": [
    "df.Timestamp[0].strftime('%y')"
   ]
  },
  {
   "cell_type": "markdown",
   "metadata": {},
   "source": [
    "Time Uppercase"
   ]
  },
  {
   "cell_type": "code",
   "execution_count": 55,
   "metadata": {},
   "outputs": [
    {
     "data": {
      "text/plain": [
       "'00:00'"
      ]
     },
     "execution_count": 55,
     "metadata": {},
     "output_type": "execute_result"
    }
   ],
   "source": [
    "df.Timestamp[0].strftime('%R')"
   ]
  },
  {
   "cell_type": "markdown",
   "metadata": {},
   "source": [
    "Time Lowercase"
   ]
  },
  {
   "cell_type": "code",
   "execution_count": 56,
   "metadata": {},
   "outputs": [
    {
     "data": {
      "text/plain": [
       "'12:00:00 AM'"
      ]
     },
     "execution_count": 56,
     "metadata": {},
     "output_type": "execute_result"
    }
   ],
   "source": [
    "df.Timestamp[0].strftime('%r')"
   ]
  },
  {
   "cell_type": "markdown",
   "metadata": {},
   "source": [
    "Day of the Week Uppercase "
   ]
  },
  {
   "cell_type": "code",
   "execution_count": 58,
   "metadata": {},
   "outputs": [
    {
     "data": {
      "text/plain": [
       "'Thursday'"
      ]
     },
     "execution_count": 58,
     "metadata": {},
     "output_type": "execute_result"
    }
   ],
   "source": [
    "df.Timestamp[0].strftime('%A')"
   ]
  },
  {
   "cell_type": "markdown",
   "metadata": {},
   "source": [
    "Day of the Week Lowercase"
   ]
  },
  {
   "cell_type": "code",
   "execution_count": 59,
   "metadata": {},
   "outputs": [
    {
     "data": {
      "text/plain": [
       "'Thu'"
      ]
     },
     "execution_count": 59,
     "metadata": {},
     "output_type": "execute_result"
    }
   ],
   "source": [
    "df.Timestamp[0].strftime('%a')"
   ]
  },
  {
   "cell_type": "code",
   "execution_count": 61,
   "metadata": {},
   "outputs": [
    {
     "data": {
      "text/plain": [
       "'March 07 2019 12:00:00 AM'"
      ]
     },
     "execution_count": 61,
     "metadata": {},
     "output_type": "execute_result"
    }
   ],
   "source": [
    "df.Timestamp[0].strftime('%B %d %Y %r')"
   ]
  },
  {
   "cell_type": "code",
   "execution_count": 62,
   "metadata": {},
   "outputs": [
    {
     "data": {
      "text/plain": [
       "'March 07, 2019 12:00:00 AM'"
      ]
     },
     "execution_count": 62,
     "metadata": {},
     "output_type": "execute_result"
    }
   ],
   "source": [
    "df.Timestamp[0].strftime('%B %d, %Y %r')"
   ]
  },
  {
   "cell_type": "code",
   "execution_count": 63,
   "metadata": {},
   "outputs": [
    {
     "data": {
      "text/plain": [
       "'March 07, 2019 at 12:00:00 AM'"
      ]
     },
     "execution_count": 63,
     "metadata": {},
     "output_type": "execute_result"
    }
   ],
   "source": [
    "df.Timestamp[0].strftime('%B %d, %Y at %r')"
   ]
  },
  {
   "cell_type": "code",
   "execution_count": 64,
   "metadata": {},
   "outputs": [
    {
     "data": {
      "text/plain": [
       "'March 07, 2019'"
      ]
     },
     "execution_count": 64,
     "metadata": {},
     "output_type": "execute_result"
    }
   ],
   "source": [
    "df.Timestamp[0].strftime('%B %d, %Y')"
   ]
  },
  {
   "cell_type": "code",
   "execution_count": 65,
   "metadata": {},
   "outputs": [
    {
     "data": {
      "text/plain": [
       "'Mar_07_2019'"
      ]
     },
     "execution_count": 65,
     "metadata": {},
     "output_type": "execute_result"
    }
   ],
   "source": [
    "df.Timestamp[0].strftime('%b_%d_%Y')"
   ]
  },
  {
   "cell_type": "code",
   "execution_count": 66,
   "metadata": {},
   "outputs": [
    {
     "name": "stdout",
     "output_type": "stream",
     "text": [
      "Fun Town Water District\n",
      "Site Name: Ugly Factory || Account Number: 4224251997 || From: March 07, 2019 to April 07, 2019\n"
     ]
    }
   ],
   "source": [
    "company_name = \"Fun Town Water District\"\n",
    "site_name = \"Ugly Factory\"\n",
    "account_number = 4224251997\n",
    "string = company_name + \"\\nSite Name: \" + site_name + \" || Account Number: \" + str(account_number) + \" || From: \" +  df.Timestamp[0].strftime('%B %d, %Y') + \" to \" + df.Timestamp[2881].strftime('%B %d, %Y') \n",
    "print(string)"
   ]
  },
  {
   "cell_type": "code",
   "execution_count": 67,
   "metadata": {},
   "outputs": [
    {
     "data": {
      "text/plain": [
       "Timestamp('2019-03-07 00:00:00')"
      ]
     },
     "execution_count": 67,
     "metadata": {},
     "output_type": "execute_result"
    }
   ],
   "source": [
    "df.Timestamp.min()"
   ]
  },
  {
   "cell_type": "code",
   "execution_count": 68,
   "metadata": {},
   "outputs": [
    {
     "data": {
      "text/plain": [
       "Timestamp('2020-02-29 23:45:00')"
      ]
     },
     "execution_count": 68,
     "metadata": {},
     "output_type": "execute_result"
    }
   ],
   "source": [
    "df.Timestamp.max()"
   ]
  },
  {
   "cell_type": "code",
   "execution_count": 69,
   "metadata": {},
   "outputs": [
    {
     "data": {
      "text/plain": [
       "'March 07, 2019'"
      ]
     },
     "execution_count": 69,
     "metadata": {},
     "output_type": "execute_result"
    }
   ],
   "source": [
    "df.Timestamp.min().strftime('%B %d, %Y')"
   ]
  },
  {
   "cell_type": "code",
   "execution_count": 70,
   "metadata": {},
   "outputs": [
    {
     "data": {
      "text/plain": [
       "'February 29, 2020'"
      ]
     },
     "execution_count": 70,
     "metadata": {},
     "output_type": "execute_result"
    }
   ],
   "source": [
    "df.Timestamp.max().strftime('%B %d, %Y')"
   ]
  },
  {
   "cell_type": "code",
   "execution_count": 73,
   "metadata": {},
   "outputs": [
    {
     "name": "stdout",
     "output_type": "stream",
     "text": [
      "Fun Town Water District\n",
      "Ugly Factory 15 Minute Data\n",
      "Account Number: 4224251997 || From: March 07, 2019 to February 29, 2020\n"
     ]
    }
   ],
   "source": [
    "company_name = \"Fun Town Water District\"\n",
    "site_name = \"Ugly Factory\"\n",
    "plot_type = \"15 Minute Data\"\n",
    "account_number = 4224251997\n",
    "string = company_name + \"\\n\" + site_name + ' ' + plot_type +  \"\\nAccount Number: \" + str(account_number) + \" || From: \" +  df.Timestamp.min().strftime('%B %d, %Y') + \" to \" + df.Timestamp.max().strftime('%B %d, %Y') \n",
    "print(string) "
   ]
  },
  {
   "cell_type": "code",
   "execution_count": 75,
   "metadata": {},
   "outputs": [
    {
     "data": {
      "text/html": [
       "<div>\n",
       "<style scoped>\n",
       "    .dataframe tbody tr th:only-of-type {\n",
       "        vertical-align: middle;\n",
       "    }\n",
       "\n",
       "    .dataframe tbody tr th {\n",
       "        vertical-align: top;\n",
       "    }\n",
       "\n",
       "    .dataframe thead th {\n",
       "        text-align: right;\n",
       "    }\n",
       "</style>\n",
       "<table border=\"1\" class=\"dataframe\">\n",
       "  <thead>\n",
       "    <tr style=\"text-align: right;\">\n",
       "      <th></th>\n",
       "      <th>Timestamp</th>\n",
       "      <th>Demand</th>\n",
       "      <th>DayWeek</th>\n",
       "      <th>Is_Weekend</th>\n",
       "      <th>Is_Holiday</th>\n",
       "      <th>is_summer</th>\n",
       "      <th>fun</th>\n",
       "      <th>Peak</th>\n",
       "    </tr>\n",
       "  </thead>\n",
       "  <tbody>\n",
       "    <tr>\n",
       "      <th>0</th>\n",
       "      <td>2019-03-15 00:00:00</td>\n",
       "      <td>414</td>\n",
       "      <td>4</td>\n",
       "      <td>0</td>\n",
       "      <td>0</td>\n",
       "      <td>0</td>\n",
       "      <td>Winter_Weekday</td>\n",
       "      <td>Off-Peak</td>\n",
       "    </tr>\n",
       "    <tr>\n",
       "      <th>1</th>\n",
       "      <td>2019-03-15 00:15:00</td>\n",
       "      <td>235</td>\n",
       "      <td>4</td>\n",
       "      <td>0</td>\n",
       "      <td>0</td>\n",
       "      <td>0</td>\n",
       "      <td>Winter_Weekday</td>\n",
       "      <td>Off-Peak</td>\n",
       "    </tr>\n",
       "    <tr>\n",
       "      <th>2</th>\n",
       "      <td>2019-03-15 00:30:00</td>\n",
       "      <td>1191</td>\n",
       "      <td>4</td>\n",
       "      <td>0</td>\n",
       "      <td>0</td>\n",
       "      <td>0</td>\n",
       "      <td>Winter_Weekday</td>\n",
       "      <td>Off-Peak</td>\n",
       "    </tr>\n",
       "    <tr>\n",
       "      <th>3</th>\n",
       "      <td>2019-03-15 00:45:00</td>\n",
       "      <td>453</td>\n",
       "      <td>4</td>\n",
       "      <td>0</td>\n",
       "      <td>0</td>\n",
       "      <td>0</td>\n",
       "      <td>Winter_Weekday</td>\n",
       "      <td>Off-Peak</td>\n",
       "    </tr>\n",
       "    <tr>\n",
       "      <th>4</th>\n",
       "      <td>2019-03-15 01:00:00</td>\n",
       "      <td>1242</td>\n",
       "      <td>4</td>\n",
       "      <td>0</td>\n",
       "      <td>0</td>\n",
       "      <td>0</td>\n",
       "      <td>Winter_Weekday</td>\n",
       "      <td>Off-Peak</td>\n",
       "    </tr>\n",
       "    <tr>\n",
       "      <th>...</th>\n",
       "      <td>...</td>\n",
       "      <td>...</td>\n",
       "      <td>...</td>\n",
       "      <td>...</td>\n",
       "      <td>...</td>\n",
       "      <td>...</td>\n",
       "      <td>...</td>\n",
       "      <td>...</td>\n",
       "    </tr>\n",
       "    <tr>\n",
       "      <th>3067</th>\n",
       "      <td>2019-04-16 22:45:00</td>\n",
       "      <td>1321</td>\n",
       "      <td>1</td>\n",
       "      <td>0</td>\n",
       "      <td>0</td>\n",
       "      <td>0</td>\n",
       "      <td>Winter_Weekday</td>\n",
       "      <td>Off-Peak</td>\n",
       "    </tr>\n",
       "    <tr>\n",
       "      <th>3068</th>\n",
       "      <td>2019-04-16 23:00:00</td>\n",
       "      <td>179</td>\n",
       "      <td>1</td>\n",
       "      <td>0</td>\n",
       "      <td>0</td>\n",
       "      <td>0</td>\n",
       "      <td>Winter_Weekday</td>\n",
       "      <td>Off-Peak</td>\n",
       "    </tr>\n",
       "    <tr>\n",
       "      <th>3069</th>\n",
       "      <td>2019-04-16 23:15:00</td>\n",
       "      <td>1021</td>\n",
       "      <td>1</td>\n",
       "      <td>0</td>\n",
       "      <td>0</td>\n",
       "      <td>0</td>\n",
       "      <td>Winter_Weekday</td>\n",
       "      <td>Off-Peak</td>\n",
       "    </tr>\n",
       "    <tr>\n",
       "      <th>3070</th>\n",
       "      <td>2019-04-16 23:30:00</td>\n",
       "      <td>734</td>\n",
       "      <td>1</td>\n",
       "      <td>0</td>\n",
       "      <td>0</td>\n",
       "      <td>0</td>\n",
       "      <td>Winter_Weekday</td>\n",
       "      <td>Off-Peak</td>\n",
       "    </tr>\n",
       "    <tr>\n",
       "      <th>3071</th>\n",
       "      <td>2019-04-16 23:45:00</td>\n",
       "      <td>874</td>\n",
       "      <td>1</td>\n",
       "      <td>0</td>\n",
       "      <td>0</td>\n",
       "      <td>0</td>\n",
       "      <td>Winter_Weekday</td>\n",
       "      <td>Off-Peak</td>\n",
       "    </tr>\n",
       "  </tbody>\n",
       "</table>\n",
       "<p>3072 rows × 8 columns</p>\n",
       "</div>"
      ],
      "text/plain": [
       "               Timestamp  Demand  DayWeek  Is_Weekend  Is_Holiday  is_summer  \\\n",
       "0    2019-03-15 00:00:00     414        4           0           0          0   \n",
       "1    2019-03-15 00:15:00     235        4           0           0          0   \n",
       "2    2019-03-15 00:30:00    1191        4           0           0          0   \n",
       "3    2019-03-15 00:45:00     453        4           0           0          0   \n",
       "4    2019-03-15 01:00:00    1242        4           0           0          0   \n",
       "...                  ...     ...      ...         ...         ...        ...   \n",
       "3067 2019-04-16 22:45:00    1321        1           0           0          0   \n",
       "3068 2019-04-16 23:00:00     179        1           0           0          0   \n",
       "3069 2019-04-16 23:15:00    1021        1           0           0          0   \n",
       "3070 2019-04-16 23:30:00     734        1           0           0          0   \n",
       "3071 2019-04-16 23:45:00     874        1           0           0          0   \n",
       "\n",
       "                 fun      Peak  \n",
       "0     Winter_Weekday  Off-Peak  \n",
       "1     Winter_Weekday  Off-Peak  \n",
       "2     Winter_Weekday  Off-Peak  \n",
       "3     Winter_Weekday  Off-Peak  \n",
       "4     Winter_Weekday  Off-Peak  \n",
       "...              ...       ...  \n",
       "3067  Winter_Weekday  Off-Peak  \n",
       "3068  Winter_Weekday  Off-Peak  \n",
       "3069  Winter_Weekday  Off-Peak  \n",
       "3070  Winter_Weekday  Off-Peak  \n",
       "3071  Winter_Weekday  Off-Peak  \n",
       "\n",
       "[3072 rows x 8 columns]"
      ]
     },
     "execution_count": 75,
     "metadata": {},
     "output_type": "execute_result"
    }
   ],
   "source": [
    "month[0]"
   ]
  },
  {
   "cell_type": "code",
   "execution_count": 76,
   "metadata": {},
   "outputs": [
    {
     "name": "stdout",
     "output_type": "stream",
     "text": [
      "Fun Town Water District\n",
      "Ugly Factory 15 Minute Data\n",
      "Account Number: 4224251997 || From: March 15, 2019 to April 16, 2019\n"
     ]
    }
   ],
   "source": [
    "company_name = \"Fun Town Water District\"\n",
    "site_name = \"Ugly Factory\"\n",
    "plot_type = \"15 Minute Data\"\n",
    "account_number = 4224251997\n",
    "string = company_name + \"\\n\" + site_name + ' ' + plot_type +  \"\\nAccount Number: \" + str(account_number) + \" || From: \" +  month[0].Timestamp.min().strftime('%B %d, %Y') + \" to \" + month[0].Timestamp.max().strftime('%B %d, %Y') \n",
    "print(string) "
   ]
  },
  {
   "cell_type": "code",
   "execution_count": 77,
   "metadata": {},
   "outputs": [],
   "source": [
    "company_name = \"Fun Town Water District\"\n",
    "site_name = \"Ugly Factory\"\n",
    "plot_type = \"15 Minute Data\"\n",
    "account_number = 4224251997\n",
    "month_title = {}\n",
    "for i in range (0,len(month)):\n",
    "    month_title[i] = company_name + \"\\n\" + site_name + ' ' + plot_type +  \"\\nAccount Number: \" + str(account_number) + \" || From: \" +  month[i].Timestamp.min().strftime('%B %d, %Y') + \" to \" + month[i].Timestamp.max().strftime('%B %d, %Y') "
   ]
  },
  {
   "cell_type": "code",
   "execution_count": 78,
   "metadata": {},
   "outputs": [
    {
     "data": {
      "text/plain": [
       "{0: 'Fun Town Water District\\nUgly Factory 15 Minute Data\\nAccount Number: 4224251997 || From: March 15, 2019 to April 16, 2019',\n",
       " 1: 'Fun Town Water District\\nUgly Factory 15 Minute Data\\nAccount Number: 4224251997 || From: April 17, 2019 to May 15, 2019',\n",
       " 2: 'Fun Town Water District\\nUgly Factory 15 Minute Data\\nAccount Number: 4224251997 || From: May 16, 2019 to June 13, 2019',\n",
       " 3: 'Fun Town Water District\\nUgly Factory 15 Minute Data\\nAccount Number: 4224251997 || From: June 14, 2019 to July 17, 2019',\n",
       " 4: 'Fun Town Water District\\nUgly Factory 15 Minute Data\\nAccount Number: 4224251997 || From: July 18, 2019 to August 14, 2019',\n",
       " 5: 'Fun Town Water District\\nUgly Factory 15 Minute Data\\nAccount Number: 4224251997 || From: August 15, 2019 to September 15, 2019',\n",
       " 6: 'Fun Town Water District\\nUgly Factory 15 Minute Data\\nAccount Number: 4224251997 || From: September 16, 2019 to October 13, 2019',\n",
       " 7: 'Fun Town Water District\\nUgly Factory 15 Minute Data\\nAccount Number: 4224251997 || From: October 14, 2019 to November 17, 2019',\n",
       " 8: 'Fun Town Water District\\nUgly Factory 15 Minute Data\\nAccount Number: 4224251997 || From: November 18, 2019 to December 16, 2019',\n",
       " 9: 'Fun Town Water District\\nUgly Factory 15 Minute Data\\nAccount Number: 4224251997 || From: December 17, 2019 to January 15, 2020',\n",
       " 10: 'Fun Town Water District\\nUgly Factory 15 Minute Data\\nAccount Number: 4224251997 || From: January 16, 2020 to February 19, 2020'}"
      ]
     },
     "execution_count": 78,
     "metadata": {},
     "output_type": "execute_result"
    }
   ],
   "source": [
    "month_title"
   ]
  },
  {
   "cell_type": "code",
   "execution_count": 80,
   "metadata": {},
   "outputs": [
    {
     "name": "stdout",
     "output_type": "stream",
     "text": [
      "Fun Town Water District\n",
      "Ugly Factory 15 Minute Data\n",
      "Account Number: 4224251997 || From: March 15, 2019 to April 16, 2019\n",
      "\n",
      "Fun Town Water District\n",
      "Ugly Factory 15 Minute Data\n",
      "Account Number: 4224251997 || From: April 17, 2019 to May 15, 2019\n",
      "\n",
      "Fun Town Water District\n",
      "Ugly Factory 15 Minute Data\n",
      "Account Number: 4224251997 || From: May 16, 2019 to June 13, 2019\n",
      "\n",
      "Fun Town Water District\n",
      "Ugly Factory 15 Minute Data\n",
      "Account Number: 4224251997 || From: June 14, 2019 to July 17, 2019\n",
      "\n",
      "Fun Town Water District\n",
      "Ugly Factory 15 Minute Data\n",
      "Account Number: 4224251997 || From: July 18, 2019 to August 14, 2019\n",
      "\n",
      "Fun Town Water District\n",
      "Ugly Factory 15 Minute Data\n",
      "Account Number: 4224251997 || From: August 15, 2019 to September 15, 2019\n",
      "\n",
      "Fun Town Water District\n",
      "Ugly Factory 15 Minute Data\n",
      "Account Number: 4224251997 || From: September 16, 2019 to October 13, 2019\n",
      "\n",
      "Fun Town Water District\n",
      "Ugly Factory 15 Minute Data\n",
      "Account Number: 4224251997 || From: October 14, 2019 to November 17, 2019\n",
      "\n",
      "Fun Town Water District\n",
      "Ugly Factory 15 Minute Data\n",
      "Account Number: 4224251997 || From: November 18, 2019 to December 16, 2019\n",
      "\n",
      "Fun Town Water District\n",
      "Ugly Factory 15 Minute Data\n",
      "Account Number: 4224251997 || From: December 17, 2019 to January 15, 2020\n",
      "\n",
      "Fun Town Water District\n",
      "Ugly Factory 15 Minute Data\n",
      "Account Number: 4224251997 || From: January 16, 2020 to February 19, 2020\n",
      "\n"
     ]
    }
   ],
   "source": [
    "for i in range (0,len(month)):\n",
    "    print(month_title[i] + '\\n')"
   ]
  },
  {
   "cell_type": "code",
   "execution_count": 81,
   "metadata": {},
   "outputs": [],
   "source": [
    "company_name = \"Fun Town Water District\"\n",
    "site_name = \"Ugly Factory\"\n",
    "plot_type = \"15 Minute Data\"\n",
    "account_number = 4224251997\n",
    "month_title_filename = {}\n",
    "for i in range (0,len(month)):\n",
    "    month_title_filename[i] =  site_name + '_' + plot_type + '_' + str(account_number) + '_' +  month[i].Timestamp.min().strftime('%b_%d_%y') + \"_to_\" + month[i].Timestamp.max().strftime('%b_%d_%Y') "
   ]
  },
  {
   "cell_type": "code",
   "execution_count": 82,
   "metadata": {},
   "outputs": [
    {
     "data": {
      "text/plain": [
       "{0: 'Ugly Factory_15 Minute Data_4224251997_Mar_15_19_to_Apr_16_2019',\n",
       " 1: 'Ugly Factory_15 Minute Data_4224251997_Apr_17_19_to_May_15_2019',\n",
       " 2: 'Ugly Factory_15 Minute Data_4224251997_May_16_19_to_Jun_13_2019',\n",
       " 3: 'Ugly Factory_15 Minute Data_4224251997_Jun_14_19_to_Jul_17_2019',\n",
       " 4: 'Ugly Factory_15 Minute Data_4224251997_Jul_18_19_to_Aug_14_2019',\n",
       " 5: 'Ugly Factory_15 Minute Data_4224251997_Aug_15_19_to_Sep_15_2019',\n",
       " 6: 'Ugly Factory_15 Minute Data_4224251997_Sep_16_19_to_Oct_13_2019',\n",
       " 7: 'Ugly Factory_15 Minute Data_4224251997_Oct_14_19_to_Nov_17_2019',\n",
       " 8: 'Ugly Factory_15 Minute Data_4224251997_Nov_18_19_to_Dec_16_2019',\n",
       " 9: 'Ugly Factory_15 Minute Data_4224251997_Dec_17_19_to_Jan_15_2020',\n",
       " 10: 'Ugly Factory_15 Minute Data_4224251997_Jan_16_20_to_Feb_19_2020'}"
      ]
     },
     "execution_count": 82,
     "metadata": {},
     "output_type": "execute_result"
    }
   ],
   "source": [
    "month_title_filename"
   ]
  }
 ],
 "metadata": {
  "kernelspec": {
   "display_name": "Python 3",
   "language": "python",
   "name": "python3"
  },
  "language_info": {
   "codemirror_mode": {
    "name": "ipython",
    "version": 3
   },
   "file_extension": ".py",
   "mimetype": "text/x-python",
   "name": "python",
   "nbconvert_exporter": "python",
   "pygments_lexer": "ipython3",
   "version": "3.7.6"
  }
 },
 "nbformat": 4,
 "nbformat_minor": 4
}
