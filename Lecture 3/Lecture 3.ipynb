{
 "cells": [
  {
   "cell_type": "code",
   "execution_count": 4,
   "metadata": {},
   "outputs": [
    {
     "data": {
      "text/html": [
       "<div>\n",
       "<style scoped>\n",
       "    .dataframe tbody tr th:only-of-type {\n",
       "        vertical-align: middle;\n",
       "    }\n",
       "\n",
       "    .dataframe tbody tr th {\n",
       "        vertical-align: top;\n",
       "    }\n",
       "\n",
       "    .dataframe thead th {\n",
       "        text-align: right;\n",
       "    }\n",
       "</style>\n",
       "<table border=\"1\" class=\"dataframe\">\n",
       "  <thead>\n",
       "    <tr style=\"text-align: right;\">\n",
       "      <th></th>\n",
       "      <th>Timestamp</th>\n",
       "      <th>Demand</th>\n",
       "      <th>DayWeek</th>\n",
       "      <th>Is_Weekend</th>\n",
       "      <th>Is_Holiday</th>\n",
       "      <th>is_summer</th>\n",
       "      <th>fun</th>\n",
       "      <th>Peak</th>\n",
       "    </tr>\n",
       "  </thead>\n",
       "  <tbody>\n",
       "    <tr>\n",
       "      <th>0</th>\n",
       "      <td>2019-03-07 00:00:00</td>\n",
       "      <td>560</td>\n",
       "      <td>3</td>\n",
       "      <td>0</td>\n",
       "      <td>0</td>\n",
       "      <td>0</td>\n",
       "      <td>Winter_Weekday</td>\n",
       "      <td>Off-Peak</td>\n",
       "    </tr>\n",
       "    <tr>\n",
       "      <th>1</th>\n",
       "      <td>2019-03-07 00:15:00</td>\n",
       "      <td>612</td>\n",
       "      <td>3</td>\n",
       "      <td>0</td>\n",
       "      <td>0</td>\n",
       "      <td>0</td>\n",
       "      <td>Winter_Weekday</td>\n",
       "      <td>Off-Peak</td>\n",
       "    </tr>\n",
       "    <tr>\n",
       "      <th>2</th>\n",
       "      <td>2019-03-07 00:30:00</td>\n",
       "      <td>758</td>\n",
       "      <td>3</td>\n",
       "      <td>0</td>\n",
       "      <td>0</td>\n",
       "      <td>0</td>\n",
       "      <td>Winter_Weekday</td>\n",
       "      <td>Off-Peak</td>\n",
       "    </tr>\n",
       "    <tr>\n",
       "      <th>3</th>\n",
       "      <td>2019-03-07 00:45:00</td>\n",
       "      <td>711</td>\n",
       "      <td>3</td>\n",
       "      <td>0</td>\n",
       "      <td>0</td>\n",
       "      <td>0</td>\n",
       "      <td>Winter_Weekday</td>\n",
       "      <td>Off-Peak</td>\n",
       "    </tr>\n",
       "    <tr>\n",
       "      <th>4</th>\n",
       "      <td>2019-03-07 01:00:00</td>\n",
       "      <td>107</td>\n",
       "      <td>3</td>\n",
       "      <td>0</td>\n",
       "      <td>0</td>\n",
       "      <td>0</td>\n",
       "      <td>Winter_Weekday</td>\n",
       "      <td>Off-Peak</td>\n",
       "    </tr>\n",
       "    <tr>\n",
       "      <th>...</th>\n",
       "      <td>...</td>\n",
       "      <td>...</td>\n",
       "      <td>...</td>\n",
       "      <td>...</td>\n",
       "      <td>...</td>\n",
       "      <td>...</td>\n",
       "      <td>...</td>\n",
       "      <td>...</td>\n",
       "    </tr>\n",
       "    <tr>\n",
       "      <th>34459</th>\n",
       "      <td>2020-02-29 22:45:00</td>\n",
       "      <td>221</td>\n",
       "      <td>5</td>\n",
       "      <td>1</td>\n",
       "      <td>0</td>\n",
       "      <td>0</td>\n",
       "      <td>Winter_Weekend</td>\n",
       "      <td>Off-Peak</td>\n",
       "    </tr>\n",
       "    <tr>\n",
       "      <th>34460</th>\n",
       "      <td>2020-02-29 23:00:00</td>\n",
       "      <td>1129</td>\n",
       "      <td>5</td>\n",
       "      <td>1</td>\n",
       "      <td>0</td>\n",
       "      <td>0</td>\n",
       "      <td>Winter_Weekend</td>\n",
       "      <td>Off-Peak</td>\n",
       "    </tr>\n",
       "    <tr>\n",
       "      <th>34461</th>\n",
       "      <td>2020-02-29 23:15:00</td>\n",
       "      <td>994</td>\n",
       "      <td>5</td>\n",
       "      <td>1</td>\n",
       "      <td>0</td>\n",
       "      <td>0</td>\n",
       "      <td>Winter_Weekend</td>\n",
       "      <td>Off-Peak</td>\n",
       "    </tr>\n",
       "    <tr>\n",
       "      <th>34462</th>\n",
       "      <td>2020-02-29 23:30:00</td>\n",
       "      <td>1154</td>\n",
       "      <td>5</td>\n",
       "      <td>1</td>\n",
       "      <td>0</td>\n",
       "      <td>0</td>\n",
       "      <td>Winter_Weekend</td>\n",
       "      <td>Off-Peak</td>\n",
       "    </tr>\n",
       "    <tr>\n",
       "      <th>34463</th>\n",
       "      <td>2020-02-29 23:45:00</td>\n",
       "      <td>1159</td>\n",
       "      <td>5</td>\n",
       "      <td>1</td>\n",
       "      <td>0</td>\n",
       "      <td>0</td>\n",
       "      <td>Winter_Weekend</td>\n",
       "      <td>Off-Peak</td>\n",
       "    </tr>\n",
       "  </tbody>\n",
       "</table>\n",
       "<p>34464 rows × 8 columns</p>\n",
       "</div>"
      ],
      "text/plain": [
       "                Timestamp  Demand  DayWeek  Is_Weekend  Is_Holiday  is_summer  \\\n",
       "0     2019-03-07 00:00:00     560        3           0           0          0   \n",
       "1     2019-03-07 00:15:00     612        3           0           0          0   \n",
       "2     2019-03-07 00:30:00     758        3           0           0          0   \n",
       "3     2019-03-07 00:45:00     711        3           0           0          0   \n",
       "4     2019-03-07 01:00:00     107        3           0           0          0   \n",
       "...                   ...     ...      ...         ...         ...        ...   \n",
       "34459 2020-02-29 22:45:00     221        5           1           0          0   \n",
       "34460 2020-02-29 23:00:00    1129        5           1           0          0   \n",
       "34461 2020-02-29 23:15:00     994        5           1           0          0   \n",
       "34462 2020-02-29 23:30:00    1154        5           1           0          0   \n",
       "34463 2020-02-29 23:45:00    1159        5           1           0          0   \n",
       "\n",
       "                  fun      Peak  \n",
       "0      Winter_Weekday  Off-Peak  \n",
       "1      Winter_Weekday  Off-Peak  \n",
       "2      Winter_Weekday  Off-Peak  \n",
       "3      Winter_Weekday  Off-Peak  \n",
       "4      Winter_Weekday  Off-Peak  \n",
       "...               ...       ...  \n",
       "34459  Winter_Weekend  Off-Peak  \n",
       "34460  Winter_Weekend  Off-Peak  \n",
       "34461  Winter_Weekend  Off-Peak  \n",
       "34462  Winter_Weekend  Off-Peak  \n",
       "34463  Winter_Weekend  Off-Peak  \n",
       "\n",
       "[34464 rows x 8 columns]"
      ]
     },
     "execution_count": 4,
     "metadata": {},
     "output_type": "execute_result"
    }
   ],
   "source": [
    "import pandas as pd \n",
    "import numpy as np\n",
    "import datetime\n",
    "import os \n",
    "os.chdir(\"/home/luisfernando/Git Code/Introduction-to-Data-Analysis/Lecture 3\")\n",
    "df = pd.read_excel(\"random_time_data.xlsx\")\n",
    "df"
   ]
  },
  {
   "cell_type": "code",
   "execution_count": null,
   "metadata": {},
   "outputs": [],
   "source": [
    "df.dtypes"
   ]
  },
  {
   "cell_type": "code",
   "execution_count": null,
   "metadata": {},
   "outputs": [],
   "source": [
    "pd.Timestamp(year=2020, month=1, day=1, hour=0, minute=0, second=0)"
   ]
  },
  {
   "cell_type": "code",
   "execution_count": null,
   "metadata": {},
   "outputs": [],
   "source": [
    "pd.Timestamp(year=2020, month=1, day=1, hour=0, minute=0)"
   ]
  },
  {
   "cell_type": "code",
   "execution_count": null,
   "metadata": {},
   "outputs": [],
   "source": [
    "pd.Timestamp(year=2020, month=1, day=1, hour=0)"
   ]
  },
  {
   "cell_type": "code",
   "execution_count": null,
   "metadata": {},
   "outputs": [],
   "source": [
    "pd.Timestamp(year=2020, month=1, day=1)"
   ]
  },
  {
   "cell_type": "code",
   "execution_count": null,
   "metadata": {},
   "outputs": [],
   "source": [
    "pd.Timestamp(year=2018, month=3, day=4, hour=3, minute=56, second=14)"
   ]
  },
  {
   "cell_type": "code",
   "execution_count": null,
   "metadata": {},
   "outputs": [],
   "source": [
    "pd.Timestamp(year=2018, month=3, day=4, hour=3, minute=45)"
   ]
  },
  {
   "cell_type": "code",
   "execution_count": null,
   "metadata": {},
   "outputs": [],
   "source": [
    "df.Timestamp"
   ]
  },
  {
   "cell_type": "code",
   "execution_count": null,
   "metadata": {},
   "outputs": [],
   "source": [
    "df.Timestamp.dt.time"
   ]
  },
  {
   "cell_type": "code",
   "execution_count": null,
   "metadata": {},
   "outputs": [],
   "source": [
    "df.Timestamp.dt.date"
   ]
  },
  {
   "cell_type": "code",
   "execution_count": null,
   "metadata": {},
   "outputs": [],
   "source": [
    "df.Timestamp.between(pd.Timestamp(year=2020, month=1, day=1, hour=0, minute=0), pd.Timestamp(year=2020, month=2, day=1, hour=0, minute=0))"
   ]
  },
  {
   "cell_type": "code",
   "execution_count": null,
   "metadata": {},
   "outputs": [],
   "source": [
    "df[df.Timestamp.between(pd.Timestamp(year=2020, month=1, day=1, hour=0, minute=0), pd.Timestamp(year=2020, month=2, day=1, hour=0, minute=0))]"
   ]
  },
  {
   "cell_type": "code",
   "execution_count": null,
   "metadata": {},
   "outputs": [],
   "source": [
    "df[df.Timestamp.between(pd.Timestamp(year=2020, month=1, day=1, hour=0, minute=0), pd.Timestamp(year=2020, month=2, day=1, hour=0, minute=0),  inclusive = False)]"
   ]
  },
  {
   "cell_type": "code",
   "execution_count": null,
   "metadata": {},
   "outputs": [],
   "source": [
    "january = df[df.Timestamp.between(pd.Timestamp(year=2020, month=1, day=1, hour=0, minute=0), pd.Timestamp(year=2020, month=2, day=1, hour=0, minute=0))]\n",
    "january"
   ]
  },
  {
   "cell_type": "code",
   "execution_count": null,
   "metadata": {},
   "outputs": [],
   "source": [
    "january = january.reset_index(drop=True)\n",
    "january"
   ]
  },
  {
   "cell_type": "code",
   "execution_count": null,
   "metadata": {},
   "outputs": [],
   "source": [
    "january.Demand.max()"
   ]
  },
  {
   "cell_type": "code",
   "execution_count": null,
   "metadata": {},
   "outputs": [],
   "source": [
    "df.Demand.max()"
   ]
  },
  {
   "cell_type": "code",
   "execution_count": null,
   "metadata": {},
   "outputs": [],
   "source": [
    "january.Demand[df.Peak == \"Mid-Peak\"]"
   ]
  },
  {
   "cell_type": "code",
   "execution_count": null,
   "metadata": {},
   "outputs": [],
   "source": [
    "january.Demand[df.Peak == \"Mid-Peak\"].max()"
   ]
  },
  {
   "cell_type": "code",
   "execution_count": 5,
   "metadata": {},
   "outputs": [
    {
     "data": {
      "text/html": [
       "<div>\n",
       "<style scoped>\n",
       "    .dataframe tbody tr th:only-of-type {\n",
       "        vertical-align: middle;\n",
       "    }\n",
       "\n",
       "    .dataframe tbody tr th {\n",
       "        vertical-align: top;\n",
       "    }\n",
       "\n",
       "    .dataframe thead th {\n",
       "        text-align: right;\n",
       "    }\n",
       "</style>\n",
       "<table border=\"1\" class=\"dataframe\">\n",
       "  <thead>\n",
       "    <tr style=\"text-align: right;\">\n",
       "      <th></th>\n",
       "      <th>billing_month</th>\n",
       "    </tr>\n",
       "  </thead>\n",
       "  <tbody>\n",
       "    <tr>\n",
       "      <th>0</th>\n",
       "      <td>2019-03-15</td>\n",
       "    </tr>\n",
       "    <tr>\n",
       "      <th>1</th>\n",
       "      <td>2019-04-17</td>\n",
       "    </tr>\n",
       "    <tr>\n",
       "      <th>2</th>\n",
       "      <td>2019-05-16</td>\n",
       "    </tr>\n",
       "    <tr>\n",
       "      <th>3</th>\n",
       "      <td>2019-06-14</td>\n",
       "    </tr>\n",
       "    <tr>\n",
       "      <th>4</th>\n",
       "      <td>2019-07-18</td>\n",
       "    </tr>\n",
       "    <tr>\n",
       "      <th>5</th>\n",
       "      <td>2019-08-15</td>\n",
       "    </tr>\n",
       "    <tr>\n",
       "      <th>6</th>\n",
       "      <td>2019-09-16</td>\n",
       "    </tr>\n",
       "    <tr>\n",
       "      <th>7</th>\n",
       "      <td>2019-10-14</td>\n",
       "    </tr>\n",
       "    <tr>\n",
       "      <th>8</th>\n",
       "      <td>2019-11-18</td>\n",
       "    </tr>\n",
       "    <tr>\n",
       "      <th>9</th>\n",
       "      <td>2019-12-17</td>\n",
       "    </tr>\n",
       "    <tr>\n",
       "      <th>10</th>\n",
       "      <td>2020-01-16</td>\n",
       "    </tr>\n",
       "    <tr>\n",
       "      <th>11</th>\n",
       "      <td>2020-02-20</td>\n",
       "    </tr>\n",
       "  </tbody>\n",
       "</table>\n",
       "</div>"
      ],
      "text/plain": [
       "   billing_month\n",
       "0     2019-03-15\n",
       "1     2019-04-17\n",
       "2     2019-05-16\n",
       "3     2019-06-14\n",
       "4     2019-07-18\n",
       "5     2019-08-15\n",
       "6     2019-09-16\n",
       "7     2019-10-14\n",
       "8     2019-11-18\n",
       "9     2019-12-17\n",
       "10    2020-01-16\n",
       "11    2020-02-20"
      ]
     },
     "execution_count": 5,
     "metadata": {},
     "output_type": "execute_result"
    }
   ],
   "source": [
    "billing = pd.read_excel(\"billing_month.xlsx\")\n",
    "billing"
   ]
  },
  {
   "cell_type": "code",
   "execution_count": null,
   "metadata": {},
   "outputs": [],
   "source": [
    "billing.dtypes"
   ]
  },
  {
   "cell_type": "code",
   "execution_count": null,
   "metadata": {},
   "outputs": [],
   "source": [
    "billing.billing_month"
   ]
  },
  {
   "cell_type": "code",
   "execution_count": null,
   "metadata": {},
   "outputs": [],
   "source": [
    "billing.billing_month[0]"
   ]
  },
  {
   "cell_type": "code",
   "execution_count": null,
   "metadata": {},
   "outputs": [],
   "source": [
    "billing.billing_month[0] + pd.DateOffset(hours=12)"
   ]
  },
  {
   "cell_type": "code",
   "execution_count": 6,
   "metadata": {},
   "outputs": [
    {
     "data": {
      "text/plain": [
       "{0:                Timestamp  Demand  DayWeek  Is_Weekend  Is_Holiday  is_summer  \\\n",
       " 768  2019-03-15 00:00:00     414        4           0           0          0   \n",
       " 769  2019-03-15 00:15:00     235        4           0           0          0   \n",
       " 770  2019-03-15 00:30:00    1191        4           0           0          0   \n",
       " 771  2019-03-15 00:45:00     453        4           0           0          0   \n",
       " 772  2019-03-15 01:00:00    1242        4           0           0          0   \n",
       " ...                  ...     ...      ...         ...         ...        ...   \n",
       " 3835 2019-04-16 22:45:00    1321        1           0           0          0   \n",
       " 3836 2019-04-16 23:00:00     179        1           0           0          0   \n",
       " 3837 2019-04-16 23:15:00    1021        1           0           0          0   \n",
       " 3838 2019-04-16 23:30:00     734        1           0           0          0   \n",
       " 3839 2019-04-16 23:45:00     874        1           0           0          0   \n",
       " \n",
       "                  fun      Peak  \n",
       " 768   Winter_Weekday  Off-Peak  \n",
       " 769   Winter_Weekday  Off-Peak  \n",
       " 770   Winter_Weekday  Off-Peak  \n",
       " 771   Winter_Weekday  Off-Peak  \n",
       " 772   Winter_Weekday  Off-Peak  \n",
       " ...              ...       ...  \n",
       " 3835  Winter_Weekday  Off-Peak  \n",
       " 3836  Winter_Weekday  Off-Peak  \n",
       " 3837  Winter_Weekday  Off-Peak  \n",
       " 3838  Winter_Weekday  Off-Peak  \n",
       " 3839  Winter_Weekday  Off-Peak  \n",
       " \n",
       " [3072 rows x 8 columns],\n",
       " 1:                Timestamp  Demand  DayWeek  Is_Weekend  Is_Holiday  is_summer  \\\n",
       " 3840 2019-04-17 00:00:00    1264        2           0           0          0   \n",
       " 3841 2019-04-17 00:15:00    1449        2           0           0          0   \n",
       " 3842 2019-04-17 00:30:00     135        2           0           0          0   \n",
       " 3843 2019-04-17 00:45:00    1290        2           0           0          0   \n",
       " 3844 2019-04-17 01:00:00     313        2           0           0          0   \n",
       " ...                  ...     ...      ...         ...         ...        ...   \n",
       " 6619 2019-05-15 22:45:00    1357        2           0           0          0   \n",
       " 6620 2019-05-15 23:00:00     625        2           0           0          0   \n",
       " 6621 2019-05-15 23:15:00     659        2           0           0          0   \n",
       " 6622 2019-05-15 23:30:00     433        2           0           0          0   \n",
       " 6623 2019-05-15 23:45:00    1105        2           0           0          0   \n",
       " \n",
       "                  fun      Peak  \n",
       " 3840  Winter_Weekday  Off-Peak  \n",
       " 3841  Winter_Weekday  Off-Peak  \n",
       " 3842  Winter_Weekday  Off-Peak  \n",
       " 3843  Winter_Weekday  Off-Peak  \n",
       " 3844  Winter_Weekday  Off-Peak  \n",
       " ...              ...       ...  \n",
       " 6619  Winter_Weekday  Off-Peak  \n",
       " 6620  Winter_Weekday  Off-Peak  \n",
       " 6621  Winter_Weekday  Off-Peak  \n",
       " 6622  Winter_Weekday  Off-Peak  \n",
       " 6623  Winter_Weekday  Off-Peak  \n",
       " \n",
       " [2784 rows x 8 columns],\n",
       " 2:                Timestamp  Demand  DayWeek  Is_Weekend  Is_Holiday  is_summer  \\\n",
       " 6624 2019-05-16 00:00:00     721        3           0           0          0   \n",
       " 6625 2019-05-16 00:15:00    1395        3           0           0          0   \n",
       " 6626 2019-05-16 00:30:00     891        3           0           0          0   \n",
       " 6627 2019-05-16 00:45:00     680        3           0           0          0   \n",
       " 6628 2019-05-16 01:00:00    1262        3           0           0          0   \n",
       " ...                  ...     ...      ...         ...         ...        ...   \n",
       " 9403 2019-06-13 22:45:00     652        3           0           0          1   \n",
       " 9404 2019-06-13 23:00:00     689        3           0           0          1   \n",
       " 9405 2019-06-13 23:15:00     128        3           0           0          1   \n",
       " 9406 2019-06-13 23:30:00     272        3           0           0          1   \n",
       " 9407 2019-06-13 23:45:00     286        3           0           0          1   \n",
       " \n",
       "                  fun      Peak  \n",
       " 6624  Winter_Weekday  Off-Peak  \n",
       " 6625  Winter_Weekday  Off-Peak  \n",
       " 6626  Winter_Weekday  Off-Peak  \n",
       " 6627  Winter_Weekday  Off-Peak  \n",
       " 6628  Winter_Weekday  Off-Peak  \n",
       " ...              ...       ...  \n",
       " 9403  Summer_Weekday  Off-Peak  \n",
       " 9404  Summer_Weekday  Off-Peak  \n",
       " 9405  Summer_Weekday  Off-Peak  \n",
       " 9406  Summer_Weekday  Off-Peak  \n",
       " 9407  Summer_Weekday  Off-Peak  \n",
       " \n",
       " [2784 rows x 8 columns],\n",
       " 3:                 Timestamp  Demand  DayWeek  Is_Weekend  Is_Holiday  is_summer  \\\n",
       " 9408  2019-06-14 00:00:00     532        4           0           0          1   \n",
       " 9409  2019-06-14 00:15:00     295        4           0           0          1   \n",
       " 9410  2019-06-14 00:30:00    1362        4           0           0          1   \n",
       " 9411  2019-06-14 00:45:00     882        4           0           0          1   \n",
       " 9412  2019-06-14 01:00:00    1299        4           0           0          1   \n",
       " ...                   ...     ...      ...         ...         ...        ...   \n",
       " 12667 2019-07-17 22:45:00     212        2           0           0          1   \n",
       " 12668 2019-07-17 23:00:00    1488        2           0           0          1   \n",
       " 12669 2019-07-17 23:15:00     283        2           0           0          1   \n",
       " 12670 2019-07-17 23:30:00     471        2           0           0          1   \n",
       " 12671 2019-07-17 23:45:00     233        2           0           0          1   \n",
       " \n",
       "                   fun      Peak  \n",
       " 9408   Summer_Weekday  Off-Peak  \n",
       " 9409   Summer_Weekday  Off-Peak  \n",
       " 9410   Summer_Weekday  Off-Peak  \n",
       " 9411   Summer_Weekday  Off-Peak  \n",
       " 9412   Summer_Weekday  Off-Peak  \n",
       " ...               ...       ...  \n",
       " 12667  Summer_Weekday  Off-Peak  \n",
       " 12668  Summer_Weekday  Off-Peak  \n",
       " 12669  Summer_Weekday  Off-Peak  \n",
       " 12670  Summer_Weekday  Off-Peak  \n",
       " 12671  Summer_Weekday  Off-Peak  \n",
       " \n",
       " [3264 rows x 8 columns],\n",
       " 4:                 Timestamp  Demand  DayWeek  Is_Weekend  Is_Holiday  is_summer  \\\n",
       " 12672 2019-07-18 00:00:00    1017        3           0           0          1   \n",
       " 12673 2019-07-18 00:15:00     356        3           0           0          1   \n",
       " 12674 2019-07-18 00:30:00     319        3           0           0          1   \n",
       " 12675 2019-07-18 00:45:00    1064        3           0           0          1   \n",
       " 12676 2019-07-18 01:00:00     774        3           0           0          1   \n",
       " ...                   ...     ...      ...         ...         ...        ...   \n",
       " 15355 2019-08-14 22:45:00    1257        2           0           0          1   \n",
       " 15356 2019-08-14 23:00:00    1190        2           0           0          1   \n",
       " 15357 2019-08-14 23:15:00     174        2           0           0          1   \n",
       " 15358 2019-08-14 23:30:00     391        2           0           0          1   \n",
       " 15359 2019-08-14 23:45:00     322        2           0           0          1   \n",
       " \n",
       "                   fun      Peak  \n",
       " 12672  Summer_Weekday  Off-Peak  \n",
       " 12673  Summer_Weekday  Off-Peak  \n",
       " 12674  Summer_Weekday  Off-Peak  \n",
       " 12675  Summer_Weekday  Off-Peak  \n",
       " 12676  Summer_Weekday  Off-Peak  \n",
       " ...               ...       ...  \n",
       " 15355  Summer_Weekday  Off-Peak  \n",
       " 15356  Summer_Weekday  Off-Peak  \n",
       " 15357  Summer_Weekday  Off-Peak  \n",
       " 15358  Summer_Weekday  Off-Peak  \n",
       " 15359  Summer_Weekday  Off-Peak  \n",
       " \n",
       " [2688 rows x 8 columns],\n",
       " 5:                 Timestamp  Demand  DayWeek  Is_Weekend  Is_Holiday  is_summer  \\\n",
       " 15360 2019-08-15 00:00:00     353        3           0           0          1   \n",
       " 15361 2019-08-15 00:15:00     378        3           0           0          1   \n",
       " 15362 2019-08-15 00:30:00    1481        3           0           0          1   \n",
       " 15363 2019-08-15 00:45:00     825        3           0           0          1   \n",
       " 15364 2019-08-15 01:00:00     806        3           0           0          1   \n",
       " ...                   ...     ...      ...         ...         ...        ...   \n",
       " 18427 2019-09-15 22:45:00     695        6           1           0          1   \n",
       " 18428 2019-09-15 23:00:00    1175        6           1           0          1   \n",
       " 18429 2019-09-15 23:15:00     762        6           1           0          1   \n",
       " 18430 2019-09-15 23:30:00     875        6           1           0          1   \n",
       " 18431 2019-09-15 23:45:00    1392        6           1           0          1   \n",
       " \n",
       "                   fun      Peak  \n",
       " 15360  Summer_Weekday  Off-Peak  \n",
       " 15361  Summer_Weekday  Off-Peak  \n",
       " 15362  Summer_Weekday  Off-Peak  \n",
       " 15363  Summer_Weekday  Off-Peak  \n",
       " 15364  Summer_Weekday  Off-Peak  \n",
       " ...               ...       ...  \n",
       " 18427  Summer_Weekend  Off-Peak  \n",
       " 18428  Summer_Weekend  Off-Peak  \n",
       " 18429  Summer_Weekend  Off-Peak  \n",
       " 18430  Summer_Weekend  Off-Peak  \n",
       " 18431  Summer_Weekend  Off-Peak  \n",
       " \n",
       " [3072 rows x 8 columns],\n",
       " 6:                 Timestamp  Demand  DayWeek  Is_Weekend  Is_Holiday  is_summer  \\\n",
       " 18432 2019-09-16 00:00:00     674        0           0           0          1   \n",
       " 18433 2019-09-16 00:15:00    1374        0           0           0          1   \n",
       " 18434 2019-09-16 00:30:00     753        0           0           0          1   \n",
       " 18435 2019-09-16 00:45:00     529        0           0           0          1   \n",
       " 18436 2019-09-16 01:00:00    1335        0           0           0          1   \n",
       " ...                   ...     ...      ...         ...         ...        ...   \n",
       " 21115 2019-10-13 22:45:00     828        6           1           0          0   \n",
       " 21116 2019-10-13 23:00:00     151        6           1           0          0   \n",
       " 21117 2019-10-13 23:15:00    1439        6           1           0          0   \n",
       " 21118 2019-10-13 23:30:00     511        6           1           0          0   \n",
       " 21119 2019-10-13 23:45:00     667        6           1           0          0   \n",
       " \n",
       "                   fun      Peak  \n",
       " 18432  Summer_Weekday  Off-Peak  \n",
       " 18433  Summer_Weekday  Off-Peak  \n",
       " 18434  Summer_Weekday  Off-Peak  \n",
       " 18435  Summer_Weekday  Off-Peak  \n",
       " 18436  Summer_Weekday  Off-Peak  \n",
       " ...               ...       ...  \n",
       " 21115  Winter_Weekend  Off-Peak  \n",
       " 21116  Winter_Weekend  Off-Peak  \n",
       " 21117  Winter_Weekend  Off-Peak  \n",
       " 21118  Winter_Weekend  Off-Peak  \n",
       " 21119  Winter_Weekend  Off-Peak  \n",
       " \n",
       " [2688 rows x 8 columns],\n",
       " 7:                 Timestamp  Demand  DayWeek  Is_Weekend  Is_Holiday  is_summer  \\\n",
       " 21120 2019-10-14 00:00:00     534        0           0           0          0   \n",
       " 21121 2019-10-14 00:15:00     954        0           0           0          0   \n",
       " 21122 2019-10-14 00:30:00     858        0           0           0          0   \n",
       " 21123 2019-10-14 00:45:00     362        0           0           0          0   \n",
       " 21124 2019-10-14 01:00:00     147        0           0           0          0   \n",
       " ...                   ...     ...      ...         ...         ...        ...   \n",
       " 24475 2019-11-17 22:45:00     937        6           1           0          0   \n",
       " 24476 2019-11-17 23:00:00     484        6           1           0          0   \n",
       " 24477 2019-11-17 23:15:00    1157        6           1           0          0   \n",
       " 24478 2019-11-17 23:30:00     868        6           1           0          0   \n",
       " 24479 2019-11-17 23:45:00    1141        6           1           0          0   \n",
       " \n",
       "                   fun      Peak  \n",
       " 21120  Winter_Weekday  Off-Peak  \n",
       " 21121  Winter_Weekday  Off-Peak  \n",
       " 21122  Winter_Weekday  Off-Peak  \n",
       " 21123  Winter_Weekday  Off-Peak  \n",
       " 21124  Winter_Weekday  Off-Peak  \n",
       " ...               ...       ...  \n",
       " 24475  Winter_Weekend  Off-Peak  \n",
       " 24476  Winter_Weekend  Off-Peak  \n",
       " 24477  Winter_Weekend  Off-Peak  \n",
       " 24478  Winter_Weekend  Off-Peak  \n",
       " 24479  Winter_Weekend  Off-Peak  \n",
       " \n",
       " [3360 rows x 8 columns],\n",
       " 8:                 Timestamp  Demand  DayWeek  Is_Weekend  Is_Holiday  is_summer  \\\n",
       " 24480 2019-11-18 00:00:00    1214        0           0           0          0   \n",
       " 24481 2019-11-18 00:15:00     134        0           0           0          0   \n",
       " 24482 2019-11-18 00:30:00     976        0           0           0          0   \n",
       " 24483 2019-11-18 00:45:00     807        0           0           0          0   \n",
       " 24484 2019-11-18 01:00:00     646        0           0           0          0   \n",
       " ...                   ...     ...      ...         ...         ...        ...   \n",
       " 27259 2019-12-16 22:45:00     511        0           0           0          0   \n",
       " 27260 2019-12-16 23:00:00    1385        0           0           0          0   \n",
       " 27261 2019-12-16 23:15:00    1025        0           0           0          0   \n",
       " 27262 2019-12-16 23:30:00     280        0           0           0          0   \n",
       " 27263 2019-12-16 23:45:00     952        0           0           0          0   \n",
       " \n",
       "                   fun      Peak  \n",
       " 24480  Winter_Weekday  Off-Peak  \n",
       " 24481  Winter_Weekday  Off-Peak  \n",
       " 24482  Winter_Weekday  Off-Peak  \n",
       " 24483  Winter_Weekday  Off-Peak  \n",
       " 24484  Winter_Weekday  Off-Peak  \n",
       " ...               ...       ...  \n",
       " 27259  Winter_Weekday  Off-Peak  \n",
       " 27260  Winter_Weekday  Off-Peak  \n",
       " 27261  Winter_Weekday  Off-Peak  \n",
       " 27262  Winter_Weekday  Off-Peak  \n",
       " 27263  Winter_Weekday  Off-Peak  \n",
       " \n",
       " [2784 rows x 8 columns],\n",
       " 9:                 Timestamp  Demand  DayWeek  Is_Weekend  Is_Holiday  is_summer  \\\n",
       " 27264 2019-12-17 00:00:00    1256        1           0           0          0   \n",
       " 27265 2019-12-17 00:15:00     884        1           0           0          0   \n",
       " 27266 2019-12-17 00:30:00     897        1           0           0          0   \n",
       " 27267 2019-12-17 00:45:00     436        1           0           0          0   \n",
       " 27268 2019-12-17 01:00:00    1456        1           0           0          0   \n",
       " ...                   ...     ...      ...         ...         ...        ...   \n",
       " 30139 2020-01-15 22:45:00    1292        2           0           0          0   \n",
       " 30140 2020-01-15 23:00:00     270        2           0           0          0   \n",
       " 30141 2020-01-15 23:15:00     833        2           0           0          0   \n",
       " 30142 2020-01-15 23:30:00     417        2           0           0          0   \n",
       " 30143 2020-01-15 23:45:00    1000        2           0           0          0   \n",
       " \n",
       "                   fun      Peak  \n",
       " 27264  Winter_Weekday  Off-Peak  \n",
       " 27265  Winter_Weekday  Off-Peak  \n",
       " 27266  Winter_Weekday  Off-Peak  \n",
       " 27267  Winter_Weekday  Off-Peak  \n",
       " 27268  Winter_Weekday  Off-Peak  \n",
       " ...               ...       ...  \n",
       " 30139  Winter_Weekday  Off-Peak  \n",
       " 30140  Winter_Weekday  Off-Peak  \n",
       " 30141  Winter_Weekday  Off-Peak  \n",
       " 30142  Winter_Weekday  Off-Peak  \n",
       " 30143  Winter_Weekday  Off-Peak  \n",
       " \n",
       " [2880 rows x 8 columns],\n",
       " 10:                 Timestamp  Demand  DayWeek  Is_Weekend  Is_Holiday  is_summer  \\\n",
       " 30144 2020-01-16 00:00:00     598        3           0           0          0   \n",
       " 30145 2020-01-16 00:15:00     393        3           0           0          0   \n",
       " 30146 2020-01-16 00:30:00     433        3           0           0          0   \n",
       " 30147 2020-01-16 00:45:00    1467        3           0           0          0   \n",
       " 30148 2020-01-16 01:00:00     406        3           0           0          0   \n",
       " ...                   ...     ...      ...         ...         ...        ...   \n",
       " 33499 2020-02-19 22:45:00     255        2           0           0          0   \n",
       " 33500 2020-02-19 23:00:00     622        2           0           0          0   \n",
       " 33501 2020-02-19 23:15:00     247        2           0           0          0   \n",
       " 33502 2020-02-19 23:30:00    1059        2           0           0          0   \n",
       " 33503 2020-02-19 23:45:00     163        2           0           0          0   \n",
       " \n",
       "                   fun      Peak  \n",
       " 30144  Winter_Weekday  Off-Peak  \n",
       " 30145  Winter_Weekday  Off-Peak  \n",
       " 30146  Winter_Weekday  Off-Peak  \n",
       " 30147  Winter_Weekday  Off-Peak  \n",
       " 30148  Winter_Weekday  Off-Peak  \n",
       " ...               ...       ...  \n",
       " 33499  Winter_Weekday  Off-Peak  \n",
       " 33500  Winter_Weekday  Off-Peak  \n",
       " 33501  Winter_Weekday  Off-Peak  \n",
       " 33502  Winter_Weekday  Off-Peak  \n",
       " 33503  Winter_Weekday  Off-Peak  \n",
       " \n",
       " [3360 rows x 8 columns]}"
      ]
     },
     "execution_count": 6,
     "metadata": {},
     "output_type": "execute_result"
    }
   ],
   "source": [
    "billMonth = billing.billing_month\n",
    "offset = pd.DateOffset(minutes=15)\n",
    "month = {}\n",
    "monthLength = len(billMonth) - 1\n",
    "for i in range (0,monthLength,1):\n",
    "    end = billMonth[i + 1] - offset\n",
    "    month[i] = df[df.Timestamp.between(billMonth[i], end)]\n",
    "month"
   ]
  },
  {
   "cell_type": "code",
   "execution_count": 7,
   "metadata": {},
   "outputs": [
    {
     "data": {
      "text/html": [
       "<div>\n",
       "<style scoped>\n",
       "    .dataframe tbody tr th:only-of-type {\n",
       "        vertical-align: middle;\n",
       "    }\n",
       "\n",
       "    .dataframe tbody tr th {\n",
       "        vertical-align: top;\n",
       "    }\n",
       "\n",
       "    .dataframe thead th {\n",
       "        text-align: right;\n",
       "    }\n",
       "</style>\n",
       "<table border=\"1\" class=\"dataframe\">\n",
       "  <thead>\n",
       "    <tr style=\"text-align: right;\">\n",
       "      <th></th>\n",
       "      <th>Timestamp</th>\n",
       "      <th>Demand</th>\n",
       "      <th>DayWeek</th>\n",
       "      <th>Is_Weekend</th>\n",
       "      <th>Is_Holiday</th>\n",
       "      <th>is_summer</th>\n",
       "      <th>fun</th>\n",
       "      <th>Peak</th>\n",
       "    </tr>\n",
       "  </thead>\n",
       "  <tbody>\n",
       "    <tr>\n",
       "      <th>768</th>\n",
       "      <td>2019-03-15 00:00:00</td>\n",
       "      <td>414</td>\n",
       "      <td>4</td>\n",
       "      <td>0</td>\n",
       "      <td>0</td>\n",
       "      <td>0</td>\n",
       "      <td>Winter_Weekday</td>\n",
       "      <td>Off-Peak</td>\n",
       "    </tr>\n",
       "    <tr>\n",
       "      <th>769</th>\n",
       "      <td>2019-03-15 00:15:00</td>\n",
       "      <td>235</td>\n",
       "      <td>4</td>\n",
       "      <td>0</td>\n",
       "      <td>0</td>\n",
       "      <td>0</td>\n",
       "      <td>Winter_Weekday</td>\n",
       "      <td>Off-Peak</td>\n",
       "    </tr>\n",
       "    <tr>\n",
       "      <th>770</th>\n",
       "      <td>2019-03-15 00:30:00</td>\n",
       "      <td>1191</td>\n",
       "      <td>4</td>\n",
       "      <td>0</td>\n",
       "      <td>0</td>\n",
       "      <td>0</td>\n",
       "      <td>Winter_Weekday</td>\n",
       "      <td>Off-Peak</td>\n",
       "    </tr>\n",
       "    <tr>\n",
       "      <th>771</th>\n",
       "      <td>2019-03-15 00:45:00</td>\n",
       "      <td>453</td>\n",
       "      <td>4</td>\n",
       "      <td>0</td>\n",
       "      <td>0</td>\n",
       "      <td>0</td>\n",
       "      <td>Winter_Weekday</td>\n",
       "      <td>Off-Peak</td>\n",
       "    </tr>\n",
       "    <tr>\n",
       "      <th>772</th>\n",
       "      <td>2019-03-15 01:00:00</td>\n",
       "      <td>1242</td>\n",
       "      <td>4</td>\n",
       "      <td>0</td>\n",
       "      <td>0</td>\n",
       "      <td>0</td>\n",
       "      <td>Winter_Weekday</td>\n",
       "      <td>Off-Peak</td>\n",
       "    </tr>\n",
       "    <tr>\n",
       "      <th>...</th>\n",
       "      <td>...</td>\n",
       "      <td>...</td>\n",
       "      <td>...</td>\n",
       "      <td>...</td>\n",
       "      <td>...</td>\n",
       "      <td>...</td>\n",
       "      <td>...</td>\n",
       "      <td>...</td>\n",
       "    </tr>\n",
       "    <tr>\n",
       "      <th>3835</th>\n",
       "      <td>2019-04-16 22:45:00</td>\n",
       "      <td>1321</td>\n",
       "      <td>1</td>\n",
       "      <td>0</td>\n",
       "      <td>0</td>\n",
       "      <td>0</td>\n",
       "      <td>Winter_Weekday</td>\n",
       "      <td>Off-Peak</td>\n",
       "    </tr>\n",
       "    <tr>\n",
       "      <th>3836</th>\n",
       "      <td>2019-04-16 23:00:00</td>\n",
       "      <td>179</td>\n",
       "      <td>1</td>\n",
       "      <td>0</td>\n",
       "      <td>0</td>\n",
       "      <td>0</td>\n",
       "      <td>Winter_Weekday</td>\n",
       "      <td>Off-Peak</td>\n",
       "    </tr>\n",
       "    <tr>\n",
       "      <th>3837</th>\n",
       "      <td>2019-04-16 23:15:00</td>\n",
       "      <td>1021</td>\n",
       "      <td>1</td>\n",
       "      <td>0</td>\n",
       "      <td>0</td>\n",
       "      <td>0</td>\n",
       "      <td>Winter_Weekday</td>\n",
       "      <td>Off-Peak</td>\n",
       "    </tr>\n",
       "    <tr>\n",
       "      <th>3838</th>\n",
       "      <td>2019-04-16 23:30:00</td>\n",
       "      <td>734</td>\n",
       "      <td>1</td>\n",
       "      <td>0</td>\n",
       "      <td>0</td>\n",
       "      <td>0</td>\n",
       "      <td>Winter_Weekday</td>\n",
       "      <td>Off-Peak</td>\n",
       "    </tr>\n",
       "    <tr>\n",
       "      <th>3839</th>\n",
       "      <td>2019-04-16 23:45:00</td>\n",
       "      <td>874</td>\n",
       "      <td>1</td>\n",
       "      <td>0</td>\n",
       "      <td>0</td>\n",
       "      <td>0</td>\n",
       "      <td>Winter_Weekday</td>\n",
       "      <td>Off-Peak</td>\n",
       "    </tr>\n",
       "  </tbody>\n",
       "</table>\n",
       "<p>3072 rows × 8 columns</p>\n",
       "</div>"
      ],
      "text/plain": [
       "               Timestamp  Demand  DayWeek  Is_Weekend  Is_Holiday  is_summer  \\\n",
       "768  2019-03-15 00:00:00     414        4           0           0          0   \n",
       "769  2019-03-15 00:15:00     235        4           0           0          0   \n",
       "770  2019-03-15 00:30:00    1191        4           0           0          0   \n",
       "771  2019-03-15 00:45:00     453        4           0           0          0   \n",
       "772  2019-03-15 01:00:00    1242        4           0           0          0   \n",
       "...                  ...     ...      ...         ...         ...        ...   \n",
       "3835 2019-04-16 22:45:00    1321        1           0           0          0   \n",
       "3836 2019-04-16 23:00:00     179        1           0           0          0   \n",
       "3837 2019-04-16 23:15:00    1021        1           0           0          0   \n",
       "3838 2019-04-16 23:30:00     734        1           0           0          0   \n",
       "3839 2019-04-16 23:45:00     874        1           0           0          0   \n",
       "\n",
       "                 fun      Peak  \n",
       "768   Winter_Weekday  Off-Peak  \n",
       "769   Winter_Weekday  Off-Peak  \n",
       "770   Winter_Weekday  Off-Peak  \n",
       "771   Winter_Weekday  Off-Peak  \n",
       "772   Winter_Weekday  Off-Peak  \n",
       "...              ...       ...  \n",
       "3835  Winter_Weekday  Off-Peak  \n",
       "3836  Winter_Weekday  Off-Peak  \n",
       "3837  Winter_Weekday  Off-Peak  \n",
       "3838  Winter_Weekday  Off-Peak  \n",
       "3839  Winter_Weekday  Off-Peak  \n",
       "\n",
       "[3072 rows x 8 columns]"
      ]
     },
     "execution_count": 7,
     "metadata": {},
     "output_type": "execute_result"
    }
   ],
   "source": [
    "month[0]"
   ]
  },
  {
   "cell_type": "code",
   "execution_count": null,
   "metadata": {},
   "outputs": [],
   "source": [
    "np.nan"
   ]
  },
  {
   "cell_type": "code",
   "execution_count": null,
   "metadata": {},
   "outputs": [],
   "source": [
    "example = pd.DataFrame(np.zeros([10, 4])*np.nan, columns = [\"One\", \"Two\", \"Three\", \"Four\"])\n",
    "example"
   ]
  },
  {
   "cell_type": "code",
   "execution_count": null,
   "metadata": {},
   "outputs": [],
   "source": [
    "def energy(df, month):\n",
    "    df = df.reset_index(drop=True)\n",
    "\n",
    "    if len(month) != 0:\n",
    "        monthLength = len(month) \n",
    "    else:\n",
    "         monthLength = 0\n",
    "            \n",
    "    monthTitle = {}\n",
    "    for i in range(0, monthLength, 1): # iterates through every billing month df\n",
    "        monthTitle[i] = month[i].Timestamp.min().strftime('%b_%d_%Y') + ' to ' + month[i].Timestamp.max().strftime('%b_%d_%Y')\n",
    "\n",
    "    columns = ['Billing Month', 'kiloWattHour Total', 'kiloWattHour Super Off-Peak', 'kiloWattHour Off-Peak', 'kiloWattHour Mid-Peak', 'kiloWattHour On-Peak']\n",
    "    col_len = int(len(columns))\n",
    "    kiloWattHour = pd.DataFrame(np.zeros([monthLength, col_len])*np.nan, columns = columns)\n",
    "    for i in range(0, monthLength, 1):\n",
    "        month[i] = month[i].reset_index(drop=True)\n",
    "        kiloWattHour['Billing Month'][i] = monthTitle[i]\n",
    "        kiloWattHour['kiloWattHour Total'][i] = month[i].Demand.sum() / 4\n",
    "        kiloWattHour['kiloWattHour Super Off-Peak'][i] = month[i].Demand[month[i].Peak == 'Super Off-Peak'].sum() / 4\n",
    "        kiloWattHour['kiloWattHour Off-Peak'][i] = month[i].Demand[month[i].Peak == 'Off-Peak'].sum() / 4\n",
    "        kiloWattHour['kiloWattHour Mid-Peak'][i] = month[i].Demand[month[i].Peak == 'Mid-Peak'].sum() / 4\n",
    "        kiloWattHour['kiloWattHour On-Peak'][i] = month[i].Demand[month[i].Peak == 'On-Peak'].sum() / 4\n",
    "\n",
    "    kiloWattHour.loc[len(kiloWattHour)] = np.nan\n",
    "    kiloWattHour = kiloWattHour.shift()\n",
    "    kiloWattHour['Billing Month'][0] = 'Entire Interval'\n",
    "    kiloWattHour['kiloWattHour Total'][0] = df.Demand.sum() / 4\n",
    "    kiloWattHour['kiloWattHour Super Off-Peak'][0] = df.Demand[df.Peak == 'Super Off-Peak'].sum() / 4\n",
    "    kiloWattHour['kiloWattHour Off-Peak'][0] = df.Demand[df.Peak == 'Off-Peak'].sum() / 4\n",
    "    kiloWattHour['kiloWattHour Mid-Peak'][0] = df.Demand[df.Peak == 'Mid-Peak'].sum() / 4\n",
    "    kiloWattHour['kiloWattHour On-Peak'][0] = df.Demand[df.Peak == 'On-Peak'].sum() / 4\n",
    "\n",
    "    return kiloWattHour "
   ]
  },
  {
   "cell_type": "code",
   "execution_count": null,
   "metadata": {},
   "outputs": [],
   "source": [
    "kiloWattHour = energy(df,month)\n",
    "kiloWattHour"
   ]
  },
  {
   "cell_type": "code",
   "execution_count": null,
   "metadata": {},
   "outputs": [],
   "source": [
    "def max_peak(df, month):\n",
    "    df = df.reset_index(drop=True)\n",
    "\n",
    "    if len(month) != 0:\n",
    "        monthLength = len(month) \n",
    "    else:\n",
    "         monthLength = 0\n",
    "\n",
    "    monthTitle = {}\n",
    "    for i in range(0, monthLength, 1): # iterates through every billing month df\n",
    "        monthTitle[i] = month[i].Timestamp.min().strftime('%b_%d_%Y') + ' to ' + month[i].Timestamp.max().strftime('%b_%d_%Y')\n",
    "\n",
    "    columns = ['Billing Month', 'max_peak Total', 'max_peak Super Off-Peak', 'max_peak Off-Peak', 'max_peak Mid-Peak', 'max_peak On-Peak']\n",
    "    col_len = int(len(columns))\n",
    "    max_peak = pd.DataFrame(np.zeros([monthLength, col_len])*np.nan, columns = columns)\n",
    "    for i in range(0, monthLength, 1):\n",
    "        month[i] = month[i].reset_index(drop=True)\n",
    "        max_peak['Billing Month'][i] = monthTitle[i]\n",
    "        max_peak['max_peak Total'][i] = month[i].Demand.max()\n",
    "        max_peak['max_peak Super Off-Peak'][i] = month[i].Demand[month[i].Peak == 'Super Off-Peak'].max()\n",
    "        max_peak['max_peak Off-Peak'][i] = month[i].Demand[month[i].Peak == 'Off-Peak'].max()\n",
    "        max_peak['max_peak Mid-Peak'][i] = month[i].Demand[month[i].Peak == 'Mid-Peak'].max()\n",
    "        max_peak['max_peak On-Peak'][i] = month[i].Demand[month[i].Peak == 'On-Peak'].max()\n",
    "\n",
    "    max_peak.loc[len(max_peak)] = np.nan\n",
    "    max_peak = max_peak.shift()\n",
    "    max_peak['Billing Month'][0] = 'Entire Interval'\n",
    "    max_peak['max_peak Total'][0] = df.Demand.max()\n",
    "    max_peak['max_peak Super Off-Peak'][0] = df.Demand[df.Peak == 'Super Off-Peak'].max()\n",
    "    max_peak['max_peak Off-Peak'][0] = df.Demand[df.Peak == 'Off-Peak'].max()\n",
    "    max_peak['max_peak Mid-Peak'][0] = df.Demand[df.Peak == 'Mid-Peak'].max()\n",
    "    max_peak['max_peak On-Peak'][0] = df.Demand[df.Peak == 'On-Peak'].max()\n",
    "\n",
    "    return max_peak"
   ]
  },
  {
   "cell_type": "code",
   "execution_count": null,
   "metadata": {},
   "outputs": [],
   "source": [
    "max_peak = max_peak(df, month)\n",
    "max_peak"
   ]
  },
  {
   "cell_type": "code",
   "execution_count": null,
   "metadata": {},
   "outputs": [],
   "source": [
    "def energy_percentage(df, month):\n",
    "    df = df.reset_index(drop=True)\n",
    "\n",
    "    if len(month) != 0:\n",
    "        monthLength = len(month) \n",
    "    else:\n",
    "         monthLength = 0\n",
    "         \n",
    "    monthTitle = {}\n",
    "    for i in range(0, monthLength, 1): # iterates through every billing month df\n",
    "        monthTitle[i] = month[i].Timestamp.min().strftime('%b_%d_%Y') + ' to ' + month[i].Timestamp.max().strftime('%b_%d_%Y')\n",
    "\n",
    "    columns = ['Billing Month', 'Energy_Percentage Total', 'Energy_Percentage Super Off-Peak', 'Energy_Percentage Off-Peak', 'Energy_Percentage Mid-Peak', 'Energy_Percentage On-Peak']\n",
    "    col_len = int(len(columns))\n",
    "    Energy_Percentage = pd.DataFrame(np.zeros([monthLength, col_len])*np.nan, columns = columns)\n",
    "    for i in range(0, monthLength, 1):\n",
    "        month[i] = month[i].reset_index(drop=True)\n",
    "        Energy_Percentage['Billing Month'][i] = monthTitle[i]\n",
    "        month_sum = month[i].Demand.sum()\n",
    "        Energy_Percentage['Energy_Percentage Super Off-Peak'][i] = month[i].Demand[month[i].Peak == 'Super Off-Peak'].sum() / month_sum\n",
    "        Energy_Percentage['Energy_Percentage Off-Peak'][i] = month[i].Demand[month[i].Peak == 'Off-Peak'].sum() / month_sum\n",
    "        Energy_Percentage['Energy_Percentage Mid-Peak'][i] = month[i].Demand[month[i].Peak == 'Mid-Peak'].sum() / month_sum\n",
    "        Energy_Percentage['Energy_Percentage On-Peak'][i] = month[i].Demand[month[i].Peak == 'On-Peak'].sum() / month_sum\n",
    "        Energy_Percentage['Energy_Percentage Total'][i] = Energy_Percentage['Energy_Percentage Super Off-Peak'][i] + Energy_Percentage['Energy_Percentage Off-Peak'][i] + Energy_Percentage['Energy_Percentage Mid-Peak'][i] + Energy_Percentage['Energy_Percentage On-Peak'][i]\n",
    "\n",
    "    Energy_Percentage.loc[len(Energy_Percentage)] = np.nan\n",
    "    Energy_Percentage = Energy_Percentage.shift()\n",
    "    Energy_Percentage['Billing Month'][0] = 'Entire Interval'\n",
    "    df_sum = df.Demand.sum()\n",
    "    Energy_Percentage['Energy_Percentage Super Off-Peak'][0] = df.Demand[df.Peak == 'Super Off-Peak'].sum() / df_sum\n",
    "    Energy_Percentage['Energy_Percentage Off-Peak'][0] = df.Demand[df.Peak == 'Off-Peak'].sum() / df_sum\n",
    "    Energy_Percentage['Energy_Percentage Mid-Peak'][0] = df.Demand[df.Peak == 'Mid-Peak'].sum() / df_sum\n",
    "    Energy_Percentage['Energy_Percentage On-Peak'][0] = df.Demand[df.Peak == 'On-Peak'].sum() / df_sum\n",
    "    Energy_Percentage['Energy_Percentage Total'][0] = Energy_Percentage['Energy_Percentage Super Off-Peak'][0] + Energy_Percentage['Energy_Percentage Off-Peak'][0] + Energy_Percentage['Energy_Percentage Mid-Peak'][0] + Energy_Percentage['Energy_Percentage On-Peak'][0]\n",
    "\n",
    "    return Energy_Percentage"
   ]
  },
  {
   "cell_type": "code",
   "execution_count": null,
   "metadata": {},
   "outputs": [],
   "source": [
    "kW_percentage = energy_percentage(df, month)\n",
    "kW_percentage"
   ]
  },
  {
   "cell_type": "code",
   "execution_count": null,
   "metadata": {},
   "outputs": [],
   "source": [
    "def get_load_factor(df, month):    \n",
    "    monthTitle = {}\n",
    "    for j in range(0, monthLength, 1): # iterates through every billing month df\n",
    "        monthTitle[j] = month[j].Timestamp.min().strftime('%B %d, %Y') + ' to ' + month[j].Timestamp.max().strftime('%B %d, %Y')\n",
    "\n",
    "    columns = ['Billing Month', 'Load Factor Total', 'Load Factor Super Off-Peak', 'Load Factor Off-Peak', 'Load Factor Mid-Peak', 'Load Factor On-Peak']\n",
    "    col_len = int(len(columns))\n",
    "    loadFactor = pd.DataFrame(np.zeros([monthLength, col_len])*np.nan, columns = columns)\n",
    "    for i in range(0, monthLength, 1):\n",
    "        loadFactor['Billing Month'][i] = monthTitle[i]\n",
    "        loadFactor['Load Factor Total'][i] = month[i].Demand.mean() / month[i].Demand.max()\n",
    "        loadFactor['Load Factor Super Off-Peak'][i] = month[i].Demand[month[i].Peak == 'Super Off-Peak'].mean() / month[i].Demand[month[i].Peak == 'Super Off-Peak'].max()\n",
    "        loadFactor['Load Factor Off-Peak'][i] = month[i].Demand[month[i].Peak == 'Off-Peak'].mean() / month[i].Demand[month[i].Peak == 'Off-Peak'].max()\n",
    "        loadFactor['Load Factor Mid-Peak'][i] = month[i].Demand[month[i].Peak == 'Mid-Peak'].mean() / month[i].Demand[month[i].Peak == 'Mid-Peak'].max()\n",
    "        loadFactor['Load Factor On-Peak'][i] = month[i].Demand[month[i].Peak == 'On-Peak'].mean() / month[i].Demand[month[i].Peak == 'On-Peak'].max()\n",
    "\n",
    "    loadFactor.loc[len(loadFactor)] = np.nan\n",
    "    loadFactor = loadFactor.shift()\n",
    "    loadFactor['Billing Month'][0] = 'Entire Interval'\n",
    "    loadFactor['Load Factor Total'][0] = df.Demand.mean() / df.Demand.max()\n",
    "    loadFactor['Load Factor Super Off-Peak'][0] = df.Demand[df.Peak == 'Super Off-Peak'].mean() / df.Demand[df.Peak == 'Super Off-Peak'].max()\n",
    "    loadFactor['Load Factor Off-Peak'][0] = df.Demand[df.Peak == 'Off-Peak'].mean() / df.Demand[df.Peak == 'Off-Peak'].max()\n",
    "    loadFactor['Load Factor Mid-Peak'][0] = df.Demand[df.Peak == 'Mid-Peak'].mean() / df.Demand[df.Peak == 'Mid-Peak'].max()\n",
    "    loadFactor['Load Factor On-Peak'][0] = df.Demand[df.Peak == 'On-Peak'].mean() / df.Demand[df.Peak == 'On-Peak'].max()\n",
    "\n",
    "    return loadFactor"
   ]
  },
  {
   "cell_type": "code",
   "execution_count": null,
   "metadata": {},
   "outputs": [],
   "source": [
    "loadFactor = get_load_factor(df, month)\n",
    "loadFactor"
   ]
  },
  {
   "cell_type": "markdown",
   "metadata": {},
   "source": [
    "## Title Generation"
   ]
  },
  {
   "cell_type": "code",
   "execution_count": null,
   "metadata": {},
   "outputs": [],
   "source": [
    "site_name = \"Ugly Factory\"\n",
    "begin_date = \"01/05/2020\"\n",
    "end_date = \"02/07/2020\"\n",
    "string = site_name + \" From: \" + begin_date + \" to \" + end_date\n",
    "print(string)"
   ]
  },
  {
   "cell_type": "code",
   "execution_count": null,
   "metadata": {},
   "outputs": [],
   "source": [
    "company_name = \"Fun Town Water District\"\n",
    "site_name = \"Ugly Factory\"\n",
    "account_number = 4224251997\n",
    "begin_date = \"January 05, 2020\"\n",
    "end_date = \"February 07, 2020\"\n",
    "string = company_name + \"\\nSite Name: \" + site_name + \" || Account Number: \" + str(account_number) + \" || From: \" + begin_date + \" to \" + end_date\n",
    "print(string)"
   ]
  },
  {
   "cell_type": "code",
   "execution_count": null,
   "metadata": {},
   "outputs": [],
   "source": [
    "df.Timestamp[0]"
   ]
  },
  {
   "cell_type": "code",
   "execution_count": null,
   "metadata": {},
   "outputs": [],
   "source": [
    "df.Timestamp[0].strftime('%b %d %y %r')"
   ]
  },
  {
   "cell_type": "markdown",
   "metadata": {},
   "source": [
    "Month Uppercase"
   ]
  },
  {
   "cell_type": "code",
   "execution_count": null,
   "metadata": {},
   "outputs": [],
   "source": [
    "df.Timestamp[0].strftime('%B')"
   ]
  },
  {
   "cell_type": "markdown",
   "metadata": {},
   "source": [
    "Month Lowercase"
   ]
  },
  {
   "cell_type": "code",
   "execution_count": null,
   "metadata": {},
   "outputs": [],
   "source": [
    "df.Timestamp[0].strftime('%b')"
   ]
  },
  {
   "cell_type": "markdown",
   "metadata": {},
   "source": [
    "Day Uppercase"
   ]
  },
  {
   "cell_type": "code",
   "execution_count": null,
   "metadata": {},
   "outputs": [],
   "source": [
    "df.Timestamp[0].strftime('%D')"
   ]
  },
  {
   "cell_type": "markdown",
   "metadata": {},
   "source": [
    "Day Lowercase"
   ]
  },
  {
   "cell_type": "code",
   "execution_count": null,
   "metadata": {},
   "outputs": [],
   "source": [
    "df.Timestamp[0].strftime('%d')"
   ]
  },
  {
   "cell_type": "markdown",
   "metadata": {},
   "source": [
    "Year Uppercase"
   ]
  },
  {
   "cell_type": "code",
   "execution_count": null,
   "metadata": {},
   "outputs": [],
   "source": [
    "df.Timestamp[0].strftime('%Y')"
   ]
  },
  {
   "cell_type": "markdown",
   "metadata": {},
   "source": [
    "Year Lowercase"
   ]
  },
  {
   "cell_type": "code",
   "execution_count": null,
   "metadata": {},
   "outputs": [],
   "source": [
    "df.Timestamp[0].strftime('%y')"
   ]
  },
  {
   "cell_type": "markdown",
   "metadata": {},
   "source": [
    "Time Uppercase"
   ]
  },
  {
   "cell_type": "code",
   "execution_count": null,
   "metadata": {},
   "outputs": [],
   "source": [
    "df.Timestamp[0].strftime('%R')"
   ]
  },
  {
   "cell_type": "markdown",
   "metadata": {},
   "source": [
    "Time Lowercase"
   ]
  },
  {
   "cell_type": "code",
   "execution_count": null,
   "metadata": {},
   "outputs": [],
   "source": [
    "df.Timestamp[0].strftime('%r')"
   ]
  },
  {
   "cell_type": "markdown",
   "metadata": {},
   "source": [
    "Day of the Week Uppercase "
   ]
  },
  {
   "cell_type": "code",
   "execution_count": null,
   "metadata": {},
   "outputs": [],
   "source": [
    "df.Timestamp[0].strftime('%A')"
   ]
  },
  {
   "cell_type": "markdown",
   "metadata": {},
   "source": [
    "Day of the Week Lowercase"
   ]
  },
  {
   "cell_type": "code",
   "execution_count": null,
   "metadata": {},
   "outputs": [],
   "source": [
    "df.Timestamp[0].strftime('%a')"
   ]
  },
  {
   "cell_type": "code",
   "execution_count": null,
   "metadata": {},
   "outputs": [],
   "source": [
    "df.Timestamp[0].strftime('%B %d %Y %r')"
   ]
  },
  {
   "cell_type": "code",
   "execution_count": null,
   "metadata": {},
   "outputs": [],
   "source": [
    "df.Timestamp[0].strftime('%B %d, %Y %r')"
   ]
  },
  {
   "cell_type": "code",
   "execution_count": null,
   "metadata": {},
   "outputs": [],
   "source": [
    "df.Timestamp[0].strftime('%B %d, %Y at %r')"
   ]
  },
  {
   "cell_type": "code",
   "execution_count": null,
   "metadata": {},
   "outputs": [],
   "source": [
    "df.Timestamp[0].strftime('%B %d, %Y')"
   ]
  },
  {
   "cell_type": "code",
   "execution_count": null,
   "metadata": {},
   "outputs": [],
   "source": [
    "df.Timestamp[0].strftime('%b_%d_%Y')"
   ]
  },
  {
   "cell_type": "code",
   "execution_count": null,
   "metadata": {},
   "outputs": [],
   "source": [
    "company_name = \"Fun Town Water District\"\n",
    "site_name = \"Ugly Factory\"\n",
    "account_number = 4224251997\n",
    "string = company_name + \"\\nSite Name: \" + site_name + \" || Account Number: \" + str(account_number) + \" || From: \" +  df.Timestamp[0].strftime('%B %d, %Y') + \" to \" + df.Timestamp[2881].strftime('%B %d, %Y') \n",
    "print(string)"
   ]
  },
  {
   "cell_type": "code",
   "execution_count": null,
   "metadata": {},
   "outputs": [],
   "source": [
    "df.Timestamp.min()"
   ]
  },
  {
   "cell_type": "code",
   "execution_count": null,
   "metadata": {},
   "outputs": [],
   "source": [
    "df.Timestamp.max()"
   ]
  },
  {
   "cell_type": "code",
   "execution_count": null,
   "metadata": {},
   "outputs": [],
   "source": [
    "df.Timestamp.min().strftime('%B %d, %Y')"
   ]
  },
  {
   "cell_type": "code",
   "execution_count": null,
   "metadata": {},
   "outputs": [],
   "source": [
    "df.Timestamp.max().strftime('%B %d, %Y')"
   ]
  },
  {
   "cell_type": "code",
   "execution_count": null,
   "metadata": {},
   "outputs": [],
   "source": [
    "company_name = \"Fun Town Water District\"\n",
    "site_name = \"Ugly Factory\"\n",
    "plot_type = \"15 Minute Data\"\n",
    "account_number = 4224251997\n",
    "string = company_name + \"\\n\" + site_name + ' ' + plot_type +  \"\\nAccount Number: \" + str(account_number) + \" || From: \" +  df.Timestamp.min().strftime('%B %d, %Y') + \" to \" + df.Timestamp.max().strftime('%B %d, %Y') \n",
    "print(string) "
   ]
  },
  {
   "cell_type": "code",
   "execution_count": null,
   "metadata": {},
   "outputs": [],
   "source": [
    "month[0]"
   ]
  },
  {
   "cell_type": "code",
   "execution_count": null,
   "metadata": {},
   "outputs": [],
   "source": [
    "company_name = \"Fun Town Water District\"\n",
    "site_name = \"Ugly Factory\"\n",
    "plot_type = \"15 Minute Data\"\n",
    "account_number = 4224251997\n",
    "string = company_name + \"\\n\" + site_name + ' ' + plot_type +  \"\\nAccount Number: \" + str(account_number) + \" || From: \" +  month[0].Timestamp.min().strftime('%B %d, %Y') + \" to \" + month[0].Timestamp.max().strftime('%B %d, %Y') \n",
    "print(string) "
   ]
  },
  {
   "cell_type": "code",
   "execution_count": null,
   "metadata": {},
   "outputs": [],
   "source": [
    "company_name = \"Fun Town Water District\"\n",
    "site_name = \"Ugly Factory\"\n",
    "plot_type = \"15 Minute Data\"\n",
    "account_number = 4224251997\n",
    "month_title = {}\n",
    "for i in range (0,len(month)):\n",
    "    month_title[i] = company_name + \"\\n\" + site_name + ' ' + plot_type +  \"\\nAccount Number: \" + str(account_number) + \" || From: \" +  month[i].Timestamp.min().strftime('%B %d, %Y') + \" to \" + month[i].Timestamp.max().strftime('%B %d, %Y') "
   ]
  },
  {
   "cell_type": "code",
   "execution_count": null,
   "metadata": {},
   "outputs": [],
   "source": [
    "month_title"
   ]
  },
  {
   "cell_type": "code",
   "execution_count": null,
   "metadata": {},
   "outputs": [],
   "source": [
    "for i in range (0,len(month)):\n",
    "    print(month_title[i] + '\\n')"
   ]
  },
  {
   "cell_type": "code",
   "execution_count": null,
   "metadata": {},
   "outputs": [],
   "source": [
    "company_name = \"Fun Town Water District\"\n",
    "site_name = \"Ugly_Factory\"\n",
    "plot_type = \"15_Minute_Data\"\n",
    "account_number = 4224251997\n",
    "month_title_filename = {}\n",
    "for i in range (0,len(month)):\n",
    "    month_title_filename[i] =  site_name + '_' + plot_type + '_' + str(account_number) + '_' +  month[i].Timestamp.min().strftime('%b_%d_%y') + \"_to_\" + month[i].Timestamp.max().strftime('%b_%d_%Y') "
   ]
  },
  {
   "cell_type": "code",
   "execution_count": null,
   "metadata": {},
   "outputs": [],
   "source": [
    "month_title_filename"
   ]
  }
 ],
 "metadata": {
  "kernelspec": {
   "display_name": "Python 3",
   "language": "python",
   "name": "python3"
  },
  "language_info": {
   "codemirror_mode": {
    "name": "ipython",
    "version": 3
   },
   "file_extension": ".py",
   "mimetype": "text/x-python",
   "name": "python",
   "nbconvert_exporter": "python",
   "pygments_lexer": "ipython3",
   "version": "3.7.6"
  }
 },
 "nbformat": 4,
 "nbformat_minor": 4
}
