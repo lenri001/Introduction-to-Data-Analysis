{
 "cells": [
  {
   "cell_type": "code",
   "execution_count": null,
   "metadata": {},
   "outputs": [],
   "source": [
    "import pandas as pd \n",
    "import numpy as np\n",
    "import datetime\n",
    "import os \n",
    "os.chdir(\"/home/luisfernando/Git Code/Introduction-to-Data-Analysis/Lecture 3\")\n",
    "df = pd.read_excel(\"random_time_data.xlsx\")\n",
    "df"
   ]
  },
  {
   "cell_type": "code",
   "execution_count": null,
   "metadata": {},
   "outputs": [],
   "source": [
    "df.dtypes"
   ]
  },
  {
   "cell_type": "code",
   "execution_count": null,
   "metadata": {},
   "outputs": [],
   "source": [
    "pd.Timestamp(year=2020, month=1, day=1, hour=0, minute=0, second=0)"
   ]
  },
  {
   "cell_type": "code",
   "execution_count": null,
   "metadata": {},
   "outputs": [],
   "source": [
    "pd.Timestamp(year=2020, month=1, day=1, hour=0, minute=0)"
   ]
  },
  {
   "cell_type": "code",
   "execution_count": null,
   "metadata": {},
   "outputs": [],
   "source": [
    "pd.Timestamp(year=2020, month=1, day=1, hour=0)"
   ]
  },
  {
   "cell_type": "code",
   "execution_count": null,
   "metadata": {},
   "outputs": [],
   "source": [
    "pd.Timestamp(year=2020, month=1, day=1)"
   ]
  },
  {
   "cell_type": "code",
   "execution_count": null,
   "metadata": {},
   "outputs": [],
   "source": [
    "pd.Timestamp(year=2018, month=3, day=4, hour=3, minute=56, second=14)"
   ]
  },
  {
   "cell_type": "code",
   "execution_count": null,
   "metadata": {},
   "outputs": [],
   "source": [
    "pd.Timestamp(year=2018, month=3, day=4, hour=3, minute=45)"
   ]
  },
  {
   "cell_type": "code",
   "execution_count": null,
   "metadata": {},
   "outputs": [],
   "source": [
    "df.Timestamp"
   ]
  },
  {
   "cell_type": "code",
   "execution_count": null,
   "metadata": {},
   "outputs": [],
   "source": [
    "df.Timestamp.dt.time"
   ]
  },
  {
   "cell_type": "code",
   "execution_count": null,
   "metadata": {},
   "outputs": [],
   "source": [
    "df.Timestamp.dt.date"
   ]
  },
  {
   "cell_type": "code",
   "execution_count": null,
   "metadata": {},
   "outputs": [],
   "source": [
    "df.Timestamp.between(pd.Timestamp(year=2020, month=1, day=1, hour=0, minute=0), pd.Timestamp(year=2020, month=2, day=1, hour=0, minute=0))"
   ]
  },
  {
   "cell_type": "code",
   "execution_count": null,
   "metadata": {},
   "outputs": [],
   "source": [
    "df[df.Timestamp.between(pd.Timestamp(year=2020, month=1, day=1, hour=0, minute=0), pd.Timestamp(year=2020, month=2, day=1, hour=0, minute=0))]"
   ]
  },
  {
   "cell_type": "code",
   "execution_count": null,
   "metadata": {},
   "outputs": [],
   "source": [
    "df[df.Timestamp.between(pd.Timestamp(year=2020, month=1, day=1, hour=0, minute=0), pd.Timestamp(year=2020, month=2, day=1, hour=0, minute=0),  inclusive = False)]"
   ]
  },
  {
   "cell_type": "code",
   "execution_count": null,
   "metadata": {},
   "outputs": [],
   "source": [
    "january = df[df.Timestamp.between(pd.Timestamp(year=2020, month=1, day=1, hour=0, minute=0), pd.Timestamp(year=2020, month=2, day=1, hour=0, minute=0))]\n",
    "january"
   ]
  },
  {
   "cell_type": "code",
   "execution_count": null,
   "metadata": {},
   "outputs": [],
   "source": [
    "january = january.reset_index(drop=True)\n",
    "january"
   ]
  },
  {
   "cell_type": "code",
   "execution_count": null,
   "metadata": {},
   "outputs": [],
   "source": [
    "january.Demand.max()"
   ]
  },
  {
   "cell_type": "code",
   "execution_count": null,
   "metadata": {},
   "outputs": [],
   "source": [
    "january.Demand[df.Peak == \"Mid-Peak\"]"
   ]
  },
  {
   "cell_type": "code",
   "execution_count": null,
   "metadata": {},
   "outputs": [],
   "source": [
    "january.Demand[df.Peak == \"Mid-Peak\"].max()"
   ]
  },
  {
   "cell_type": "code",
   "execution_count": null,
   "metadata": {},
   "outputs": [],
   "source": [
    "billing = pd.read_excel(\"billing_month.xlsx\")\n",
    "billing"
   ]
  },
  {
   "cell_type": "code",
   "execution_count": null,
   "metadata": {},
   "outputs": [],
   "source": [
    "billing.dtypes"
   ]
  },
  {
   "cell_type": "code",
   "execution_count": null,
   "metadata": {},
   "outputs": [],
   "source": [
    "billing.billing_month"
   ]
  },
  {
   "cell_type": "code",
   "execution_count": null,
   "metadata": {},
   "outputs": [],
   "source": [
    "billing.billing_month[0]"
   ]
  },
  {
   "cell_type": "code",
   "execution_count": null,
   "metadata": {},
   "outputs": [],
   "source": [
    "billMonth = billing.billing_month\n",
    "offset = pd.DateOffset(minutes=15)\n",
    "month = {}\n",
    "monthLength = len(billMonth) - 1\n",
    "for i in range (0,monthLength,1):\n",
    "    end = billMonth[i + 1] - offset\n",
    "    month[i] = df[df.Timestamp.between(billMonth[i], end)]\n",
    "month"
   ]
  },
  {
   "cell_type": "code",
   "execution_count": null,
   "metadata": {},
   "outputs": [],
   "source": [
    "month[0]"
   ]
  },
  {
   "cell_type": "code",
   "execution_count": null,
   "metadata": {},
   "outputs": [],
   "source": [
    "np.nan"
   ]
  },
  {
   "cell_type": "code",
   "execution_count": null,
   "metadata": {},
   "outputs": [],
   "source": [
    "example = pd.DataFrame(np.zeros([10, 4])*np.nan, columns = [\"One\", \"Two\", \"Three\", \"Four\"])\n",
    "example"
   ]
  },
  {
   "cell_type": "code",
   "execution_count": null,
   "metadata": {},
   "outputs": [],
   "source": [
    "def energy(df, month):\n",
    "    df = df.reset_index(drop=True)\n",
    "\n",
    "    if len(month) != 0:\n",
    "        monthLength = len(month) \n",
    "    else:\n",
    "         monthLength = 0\n",
    "            \n",
    "    monthTitle = {}\n",
    "    for i in range(0, monthLength, 1): # iterates through every billing month df\n",
    "        monthTitle[i] = month[i].Timestamp.min().strftime('%b_%d_%Y') + ' to ' + month[i].Timestamp.max().strftime('%b_%d_%Y')\n",
    "\n",
    "    columns = ['Billing Month', 'kiloWattHour Total', 'kiloWattHour Super Off-Peak', 'kiloWattHour Off-Peak', 'kiloWattHour Mid-Peak', 'kiloWattHour On-Peak']\n",
    "    col_len = int(len(columns))\n",
    "    kiloWattHour = pd.DataFrame(np.zeros([monthLength, col_len])*np.nan, columns = columns)\n",
    "    for i in range(0, monthLength, 1):\n",
    "        month[i] = month[i].reset_index(drop=True)\n",
    "        kiloWattHour['Billing Month'][i] = monthTitle[i]\n",
    "        kiloWattHour['kiloWattHour Total'][i] = month[i].Demand.sum() / 4\n",
    "        kiloWattHour['kiloWattHour Super Off-Peak'][i] = month[i].Demand[month[i].Peak == 'Super Off-Peak'].sum() / 4\n",
    "        kiloWattHour['kiloWattHour Off-Peak'][i] = month[i].Demand[month[i].Peak == 'Off-Peak'].sum() / 4\n",
    "        kiloWattHour['kiloWattHour Mid-Peak'][i] = month[i].Demand[month[i].Peak == 'Mid-Peak'].sum() / 4\n",
    "        kiloWattHour['kiloWattHour On-Peak'][i] = month[i].Demand[month[i].Peak == 'On-Peak'].sum() / 4\n",
    "\n",
    "    kiloWattHour.loc[len(kiloWattHour)] = np.nan\n",
    "    kiloWattHour = kiloWattHour.shift()\n",
    "    kiloWattHour['Billing Month'][0] = 'Entire Interval'\n",
    "    kiloWattHour['kiloWattHour Total'][0] = df.Demand.sum() / 4\n",
    "    kiloWattHour['kiloWattHour Super Off-Peak'][0] = df.Demand[df.Peak == 'Super Off-Peak'].sum() / 4\n",
    "    kiloWattHour['kiloWattHour Off-Peak'][0] = df.Demand[df.Peak == 'Off-Peak'].sum() / 4\n",
    "    kiloWattHour['kiloWattHour Mid-Peak'][0] = df.Demand[df.Peak == 'Mid-Peak'].sum() / 4\n",
    "    kiloWattHour['kiloWattHour On-Peak'][0] = df.Demand[df.Peak == 'On-Peak'].sum() / 4\n",
    "\n",
    "    return kiloWattHour "
   ]
  },
  {
   "cell_type": "code",
   "execution_count": null,
   "metadata": {},
   "outputs": [],
   "source": [
    "kiloWattHour = energy(df,month)\n",
    "kiloWattHour"
   ]
  },
  {
   "cell_type": "code",
   "execution_count": null,
   "metadata": {},
   "outputs": [],
   "source": [
    "def max_peak(df, month):\n",
    "    df = df.reset_index(drop=True)\n",
    "\n",
    "    if len(month) != 0:\n",
    "        monthLength = len(month) \n",
    "    else:\n",
    "         monthLength = 0\n",
    "\n",
    "    monthTitle = {}\n",
    "    for i in range(0, monthLength, 1): # iterates through every billing month df\n",
    "        monthTitle[i] = month[i].Timestamp.min().strftime('%b_%d_%Y') + ' to ' + month[i].Timestamp.max().strftime('%b_%d_%Y')\n",
    "\n",
    "    columns = ['Billing Month', 'max_peak Total', 'max_peak Super Off-Peak', 'max_peak Off-Peak', 'max_peak Mid-Peak', 'max_peak On-Peak']\n",
    "    col_len = int(len(columns))\n",
    "    max_peak = pd.DataFrame(np.zeros([monthLength, col_len])*np.nan, columns = columns)\n",
    "    for i in range(0, monthLength, 1):\n",
    "        month[i] = month[i].reset_index(drop=True)\n",
    "        max_peak['Billing Month'][i] = monthTitle[i]\n",
    "        max_peak['max_peak Total'][i] = month[i].Demand.max()\n",
    "        max_peak['max_peak Super Off-Peak'][i] = month[i].Demand[month[i].Peak == 'Super Off-Peak'].max()\n",
    "        max_peak['max_peak Off-Peak'][i] = month[i].Demand[month[i].Peak == 'Off-Peak'].max()\n",
    "        max_peak['max_peak Mid-Peak'][i] = month[i].Demand[month[i].Peak == 'Mid-Peak'].max()\n",
    "        max_peak['max_peak On-Peak'][i] = month[i].Demand[month[i].Peak == 'On-Peak'].max()\n",
    "\n",
    "    max_peak.loc[len(max_peak)] = np.nan\n",
    "    max_peak = max_peak.shift()\n",
    "    max_peak['Billing Month'][0] = 'Entire Interval'\n",
    "    max_peak['max_peak Total'][0] = df.Demand.max()\n",
    "    max_peak['max_peak Super Off-Peak'][0] = df.Demand[df.Peak == 'Super Off-Peak'].max()\n",
    "    max_peak['max_peak Off-Peak'][0] = df.Demand[df.Peak == 'Off-Peak'].max()\n",
    "    max_peak['max_peak Mid-Peak'][0] = df.Demand[df.Peak == 'Mid-Peak'].max()\n",
    "    max_peak['max_peak On-Peak'][0] = df.Demand[df.Peak == 'On-Peak'].max()\n",
    "\n",
    "    return max_peak"
   ]
  },
  {
   "cell_type": "code",
   "execution_count": null,
   "metadata": {},
   "outputs": [],
   "source": [
    "max_peak = max_peak(df, month)\n",
    "max_peak"
   ]
  },
  {
   "cell_type": "code",
   "execution_count": null,
   "metadata": {},
   "outputs": [],
   "source": [
    "def energy_percentage(df, month):\n",
    "    df = df.reset_index(drop=True)\n",
    "\n",
    "    if len(month) != 0:\n",
    "        monthLength = len(month) \n",
    "    else:\n",
    "         monthLength = 0\n",
    "         \n",
    "    monthTitle = {}\n",
    "    for i in range(0, monthLength, 1): # iterates through every billing month df\n",
    "        monthTitle[i] = month[i].Timestamp.min().strftime('%b_%d_%Y') + ' to ' + month[i].Timestamp.max().strftime('%b_%d_%Y')\n",
    "\n",
    "    columns = ['Billing Month', 'Energy_Percentage Total', 'Energy_Percentage Super Off-Peak', 'Energy_Percentage Off-Peak', 'Energy_Percentage Mid-Peak', 'Energy_Percentage On-Peak']\n",
    "    col_len = int(len(columns))\n",
    "    Energy_Percentage = pd.DataFrame(np.zeros([monthLength, col_len])*np.nan, columns = columns)\n",
    "    for i in range(0, monthLength, 1):\n",
    "        month[i] = month[i].reset_index(drop=True)\n",
    "        Energy_Percentage['Billing Month'][i] = monthTitle[i]\n",
    "        month_sum = month[i].Demand.sum()\n",
    "        Energy_Percentage['Energy_Percentage Super Off-Peak'][i] = month[i].Demand[month[i].Peak == 'Super Off-Peak'].sum() / month_sum\n",
    "        Energy_Percentage['Energy_Percentage Off-Peak'][i] = month[i].Demand[month[i].Peak == 'Off-Peak'].sum() / month_sum\n",
    "        Energy_Percentage['Energy_Percentage Mid-Peak'][i] = month[i].Demand[month[i].Peak == 'Mid-Peak'].sum() / month_sum\n",
    "        Energy_Percentage['Energy_Percentage On-Peak'][i] = month[i].Demand[month[i].Peak == 'On-Peak'].sum() / month_sum\n",
    "        Energy_Percentage['Energy_Percentage Total'][i] = Energy_Percentage['Energy_Percentage Super Off-Peak'][i] + Energy_Percentage['Energy_Percentage Off-Peak'][i] + Energy_Percentage['Energy_Percentage Mid-Peak'][i] + Energy_Percentage['Energy_Percentage On-Peak'][i]\n",
    "\n",
    "    Energy_Percentage.loc[len(Energy_Percentage)] = np.nan\n",
    "    Energy_Percentage = Energy_Percentage.shift()\n",
    "    Energy_Percentage['Billing Month'][0] = 'Entire Interval'\n",
    "    df_sum = df.Demand.sum()\n",
    "    Energy_Percentage['Energy_Percentage Super Off-Peak'][0] = df.Demand[df.Peak == 'Super Off-Peak'].sum() / df_sum\n",
    "    Energy_Percentage['Energy_Percentage Off-Peak'][0] = df.Demand[df.Peak == 'Off-Peak'].sum() / df_sum\n",
    "    Energy_Percentage['Energy_Percentage Mid-Peak'][0] = df.Demand[df.Peak == 'Mid-Peak'].sum() / df_sum\n",
    "    Energy_Percentage['Energy_Percentage On-Peak'][0] = df.Demand[df.Peak == 'On-Peak'].sum() / df_sum\n",
    "    Energy_Percentage['Energy_Percentage Total'][0] = Energy_Percentage['Energy_Percentage Super Off-Peak'][0] + Energy_Percentage['Energy_Percentage Off-Peak'][0] + Energy_Percentage['Energy_Percentage Mid-Peak'][0] + Energy_Percentage['Energy_Percentage On-Peak'][0]\n",
    "\n",
    "    return Energy_Percentage"
   ]
  },
  {
   "cell_type": "code",
   "execution_count": null,
   "metadata": {},
   "outputs": [],
   "source": [
    "kW_percentage = energy_percentage(df, month)\n",
    "kW_percentage"
   ]
  }
 ],
 "metadata": {
  "kernelspec": {
   "display_name": "Python 3",
   "language": "python",
   "name": "python3"
  },
  "language_info": {
   "codemirror_mode": {
    "name": "ipython",
    "version": 3
   },
   "file_extension": ".py",
   "mimetype": "text/x-python",
   "name": "python",
   "nbconvert_exporter": "python",
   "pygments_lexer": "ipython3",
   "version": "3.7.6"
  }
 },
 "nbformat": 4,
 "nbformat_minor": 4
}
