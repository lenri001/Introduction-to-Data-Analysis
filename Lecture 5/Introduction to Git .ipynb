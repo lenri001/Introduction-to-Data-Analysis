{
 "cells": [
  {
   "cell_type": "markdown",
   "metadata": {
    "slideshow": {
     "slide_type": "slide"
    }
   },
   "source": [
    "# Introduction to Git"
   ]
  },
  {
   "cell_type": "markdown",
   "metadata": {
    "slideshow": {
     "slide_type": "slide"
    }
   },
   "source": [
    "## Why use GIT?\n",
    "* Allows you keep track of your changes to your code\n",
    "* Allows you to join code together\n",
    "* Elegantly organizes you files for a project \n",
    "* Allows to easily colloborate with others\n",
    "* Allows you remotely backup and store your code "
   ]
  },
  {
   "cell_type": "markdown",
   "metadata": {
    "slideshow": {
     "slide_type": "slide"
    }
   },
   "source": [
    "## If you are having one of these problem, you probably need to use GIT\n",
    "* You have multipe version of a code or file\n",
    "* You spend a lot of time gluing all your code together\n",
    "* Work in a team for code"
   ]
  },
  {
   "cell_type": "markdown",
   "metadata": {
    "slideshow": {
     "slide_type": "slide"
    }
   },
   "source": [
    "## What is git?\n",
    "* \"Git is a free and open source distributed version control system designed to handle everything from small to very large projects with speed and efficiency.\"\n",
    "* Git keep track of the changes of files in a directory, while allowing to sync with others. Git allows the user to retain muliple versions of code in a single file. "
   ]
  },
  {
   "cell_type": "markdown",
   "metadata": {},
   "source": [
    "## Creating a new Repo\n",
    "### Intialize a new repo\n",
    "git init"
   ]
  },
  {
   "cell_type": "markdown",
   "metadata": {},
   "source": [
    "## Using a new repo "
   ]
  },
  {
   "cell_type": "markdown",
   "metadata": {},
   "source": [
    "## Commiting\n",
    "### In GIT the changes in your repo are saved locally first."
   ]
  },
  {
   "cell_type": "markdown",
   "metadata": {},
   "source": [
    "### Seeing Changes\n",
    "Use git status to track the changes in your repo\n",
    "git status"
   ]
  },
  {
   "cell_type": "markdown",
   "metadata": {},
   "source": [
    "### Adding Files\n",
    "#### Adding one file\n",
    "git add \"file\"\n",
    "#### Adding all files within a directory\n",
    "git add ."
   ]
  },
  {
   "cell_type": "markdown",
   "metadata": {},
   "source": [
    "### Commiting Changes \n",
    "#### Commiting one file\n",
    "git commit -m \"Text\" \n",
    "#### Commiting Multiple Files\n",
    "git commit -m \"Text\" -a"
   ]
  },
  {
   "cell_type": "markdown",
   "metadata": {},
   "source": [
    "### Moving Files in Git\n",
    "#### Changing Filetype\n",
    "git mv data.csv data.xlsx\n",
    "#### Changing Directory\n",
    "git mv data.csv data/"
   ]
  },
  {
   "cell_type": "markdown",
   "metadata": {},
   "source": [
    "###  Deleteing Files in GIT\n",
    "#### Remove a file\n",
    "git rm -- old.py\n",
    "#### Remove a directory\n",
    "git rm -r -- old/"
   ]
  },
  {
   "cell_type": "markdown",
   "metadata": {},
   "source": [
    "## Branching "
   ]
  },
  {
   "cell_type": "markdown",
   "metadata": {},
   "source": [
    "### Viewing Branches\n",
    "#### View all branches\n",
    "git branch \n",
    "#### View remote branches\n",
    "git branch -r "
   ]
  },
  {
   "cell_type": "markdown",
   "metadata": {},
   "source": [
    "### Creating Branches\n",
    "#### Create a new branch\n",
    "git branch \"new_branch_name\"\n",
    "#### Create a new branch from a branch \n",
    "git branch \"new_branch_name\" \"starting_point\""
   ]
  },
  {
   "cell_type": "markdown",
   "metadata": {},
   "source": [
    "### Switching Branches\n",
    "#### Git checkout \n",
    "git checkout \"branch_name\"\n",
    "#### Create and checkout a branch \n",
    "git checkout -b \"branch_name\" "
   ]
  },
  {
   "cell_type": "markdown",
   "metadata": {},
   "source": [
    "### Deleting and Tagging \n",
    "#### Deleting a Branch \n",
    "git branch -d branch_name\n",
    "#### Creating a tag\n",
    "git tag \"Version name "
   ]
  },
  {
   "cell_type": "markdown",
   "metadata": {},
   "source": [
    "## Working with History\n",
    "### Viewing History \n",
    "git log\n",
    "### Viewing Differences \n",
    "git diff commit1 commit2\n",
    "\n",
    "git diff commit1 commit2 filename # Use this when looking at a specific file\n",
    "### Restoring a file\n",
    "git checkout commit \n",
    "\n",
    "git checkout commit filename # Use this when looking at a specific file"
   ]
  },
  {
   "cell_type": "markdown",
   "metadata": {},
   "source": [
    "## Merging"
   ]
  },
  {
   "cell_type": "markdown",
   "metadata": {},
   "source": [
    "### Rebasing\n"
   ]
  },
  {
   "cell_type": "markdown",
   "metadata": {},
   "source": [
    "## Fixing and Debugging "
   ]
  },
  {
   "cell_type": "code",
   "execution_count": null,
   "metadata": {},
   "outputs": [],
   "source": []
  }
 ],
 "metadata": {
  "kernelspec": {
   "display_name": "Python 3",
   "language": "python",
   "name": "python3"
  },
  "language_info": {
   "codemirror_mode": {
    "name": "ipython",
    "version": 3
   },
   "file_extension": ".py",
   "mimetype": "text/x-python",
   "name": "python",
   "nbconvert_exporter": "python",
   "pygments_lexer": "ipython3",
   "version": "3.7.6"
  }
 },
 "nbformat": 4,
 "nbformat_minor": 4
}
